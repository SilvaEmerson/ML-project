{
  "nbformat": 4,
  "nbformat_minor": 0,
  "metadata": {
    "colab": {
      "name": "Data Analysis.ipynb",
      "version": "0.3.2",
      "provenance": [],
      "collapsed_sections": [
        "_JOhYcBY0qzg"
      ]
    },
    "kernelspec": {
      "name": "python3",
      "display_name": "Python 3"
    },
    "accelerator": "GPU"
  },
  "cells": [
    {
      "metadata": {
        "scrolled": false,
        "id": "q3BLBrtr0qxS",
        "colab_type": "code",
        "colab": {}
      },
      "cell_type": "code",
      "source": [
        "import pandas as pd\n",
        "import seaborn as sns\n",
        "import matplotlib.pyplot as plt\n",
        "from sklearn.neighbors import KNeighborsClassifier\n",
        "from sklearn.tree import DecisionTreeClassifier\n",
        "from sklearn.model_selection import train_test_split, cross_val_score\n",
        "from sklearn.preprocessing import scale"
      ],
      "execution_count": 0,
      "outputs": []
    },
    {
      "metadata": {
        "id": "6Snr-KEM1Rm9",
        "colab_type": "code",
        "outputId": "58a1cbe3-8ddd-4af9-b7b6-8f7dcb675df4",
        "colab": {
          "resources": {
            "http://localhost:8080/nbextensions/google.colab/files.js": {
              "data": "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",
              "ok": true,
              "headers": [
                [
                  "content-type",
                  "application/javascript"
                ]
              ],
              "status": 200,
              "status_text": ""
            }
          },
          "base_uri": "https://localhost:8080/",
          "height": 91
        }
      },
      "cell_type": "code",
      "source": [
        "from google.colab import files\n",
        "\n",
        "uploaded = files.upload()\n",
        "\n",
        "for fn in uploaded.keys():\n",
        "  print('User uploaded file \"{name}\" with length {length} bytes'.format(\n",
        "      name=fn, length=len(uploaded[fn])))"
      ],
      "execution_count": 2,
      "outputs": [
        {
          "output_type": "display_data",
          "data": {
            "text/html": [
              "\n",
              "     <input type=\"file\" id=\"files-5cc6ccaf-6f94-4011-b344-71652a0322f1\" name=\"files[]\" multiple disabled />\n",
              "     <output id=\"result-5cc6ccaf-6f94-4011-b344-71652a0322f1\">\n",
              "      Upload widget is only available when the cell has been executed in the\n",
              "      current browser session. Please rerun this cell to enable.\n",
              "      </output>\n",
              "      <script src=\"/nbextensions/google.colab/files.js\"></script> "
            ],
            "text/plain": [
              "<IPython.core.display.HTML object>"
            ]
          },
          "metadata": {
            "tags": []
          }
        },
        {
          "output_type": "stream",
          "text": [
            "Saving cardio_train.csv to cardio_train.csv\n",
            "User uploaded file \"cardio_train.csv\" with length 2941524 bytes\n"
          ],
          "name": "stdout"
        }
      ]
    },
    {
      "metadata": {
        "id": "tCwsAVGN0qxZ",
        "colab_type": "code",
        "outputId": "073fd052-9c20-4dfc-d246-d070cffb8bd5",
        "colab": {
          "base_uri": "https://localhost:8080/",
          "height": 212
        }
      },
      "cell_type": "code",
      "source": [
        "DATA_PATH = './cardio_train.csv' \n",
        "df = pd.read_csv(DATA_PATH, sep=';')\n",
        "print(df.shape)\n",
        "df.head()"
      ],
      "execution_count": 3,
      "outputs": [
        {
          "output_type": "stream",
          "text": [
            "(70000, 13)\n"
          ],
          "name": "stdout"
        },
        {
          "output_type": "execute_result",
          "data": {
            "text/html": [
              "<div>\n",
              "<style scoped>\n",
              "    .dataframe tbody tr th:only-of-type {\n",
              "        vertical-align: middle;\n",
              "    }\n",
              "\n",
              "    .dataframe tbody tr th {\n",
              "        vertical-align: top;\n",
              "    }\n",
              "\n",
              "    .dataframe thead th {\n",
              "        text-align: right;\n",
              "    }\n",
              "</style>\n",
              "<table border=\"1\" class=\"dataframe\">\n",
              "  <thead>\n",
              "    <tr style=\"text-align: right;\">\n",
              "      <th></th>\n",
              "      <th>id</th>\n",
              "      <th>age</th>\n",
              "      <th>gender</th>\n",
              "      <th>height</th>\n",
              "      <th>weight</th>\n",
              "      <th>ap_hi</th>\n",
              "      <th>ap_lo</th>\n",
              "      <th>cholesterol</th>\n",
              "      <th>gluc</th>\n",
              "      <th>smoke</th>\n",
              "      <th>alco</th>\n",
              "      <th>active</th>\n",
              "      <th>cardio</th>\n",
              "    </tr>\n",
              "  </thead>\n",
              "  <tbody>\n",
              "    <tr>\n",
              "      <th>0</th>\n",
              "      <td>0</td>\n",
              "      <td>18393</td>\n",
              "      <td>2</td>\n",
              "      <td>168</td>\n",
              "      <td>62.0</td>\n",
              "      <td>110</td>\n",
              "      <td>80</td>\n",
              "      <td>1</td>\n",
              "      <td>1</td>\n",
              "      <td>0</td>\n",
              "      <td>0</td>\n",
              "      <td>1</td>\n",
              "      <td>0</td>\n",
              "    </tr>\n",
              "    <tr>\n",
              "      <th>1</th>\n",
              "      <td>1</td>\n",
              "      <td>20228</td>\n",
              "      <td>1</td>\n",
              "      <td>156</td>\n",
              "      <td>85.0</td>\n",
              "      <td>140</td>\n",
              "      <td>90</td>\n",
              "      <td>3</td>\n",
              "      <td>1</td>\n",
              "      <td>0</td>\n",
              "      <td>0</td>\n",
              "      <td>1</td>\n",
              "      <td>1</td>\n",
              "    </tr>\n",
              "    <tr>\n",
              "      <th>2</th>\n",
              "      <td>2</td>\n",
              "      <td>18857</td>\n",
              "      <td>1</td>\n",
              "      <td>165</td>\n",
              "      <td>64.0</td>\n",
              "      <td>130</td>\n",
              "      <td>70</td>\n",
              "      <td>3</td>\n",
              "      <td>1</td>\n",
              "      <td>0</td>\n",
              "      <td>0</td>\n",
              "      <td>0</td>\n",
              "      <td>1</td>\n",
              "    </tr>\n",
              "    <tr>\n",
              "      <th>3</th>\n",
              "      <td>3</td>\n",
              "      <td>17623</td>\n",
              "      <td>2</td>\n",
              "      <td>169</td>\n",
              "      <td>82.0</td>\n",
              "      <td>150</td>\n",
              "      <td>100</td>\n",
              "      <td>1</td>\n",
              "      <td>1</td>\n",
              "      <td>0</td>\n",
              "      <td>0</td>\n",
              "      <td>1</td>\n",
              "      <td>1</td>\n",
              "    </tr>\n",
              "    <tr>\n",
              "      <th>4</th>\n",
              "      <td>4</td>\n",
              "      <td>17474</td>\n",
              "      <td>1</td>\n",
              "      <td>156</td>\n",
              "      <td>56.0</td>\n",
              "      <td>100</td>\n",
              "      <td>60</td>\n",
              "      <td>1</td>\n",
              "      <td>1</td>\n",
              "      <td>0</td>\n",
              "      <td>0</td>\n",
              "      <td>0</td>\n",
              "      <td>0</td>\n",
              "    </tr>\n",
              "  </tbody>\n",
              "</table>\n",
              "</div>"
            ],
            "text/plain": [
              "   id    age  gender  height  weight  ap_hi  ap_lo  cholesterol  gluc  smoke  \\\n",
              "0   0  18393       2     168    62.0    110     80            1     1      0   \n",
              "1   1  20228       1     156    85.0    140     90            3     1      0   \n",
              "2   2  18857       1     165    64.0    130     70            3     1      0   \n",
              "3   3  17623       2     169    82.0    150    100            1     1      0   \n",
              "4   4  17474       1     156    56.0    100     60            1     1      0   \n",
              "\n",
              "   alco  active  cardio  \n",
              "0     0       1       0  \n",
              "1     0       1       1  \n",
              "2     0       0       1  \n",
              "3     0       1       1  \n",
              "4     0       0       0  "
            ]
          },
          "metadata": {
            "tags": []
          },
          "execution_count": 3
        }
      ]
    },
    {
      "metadata": {
        "id": "Cex1ORG90qxi",
        "colab_type": "text"
      },
      "cell_type": "markdown",
      "source": [
        "# Data description\n",
        "\n",
        "- age: in days\n",
        "- gender:\n",
        " - 1: women\n",
        " - 2: men\n",
        "- height: in cm\n",
        "- weight: in kg\n",
        "- ap_hi: Systolic blood pressure\n",
        "- ap_lo: Diastolic blood pressure\n",
        "- cholesterol:\n",
        " - 1: normal\n",
        " - 2: above normal\n",
        " - 3: well above normal\n",
        "- gluc:\n",
        " - 1: normal\n",
        " - 2: above normal\n",
        " - 3: well above normal\n",
        "- smoke: binary feature\n",
        "- alco: binary feature\n",
        "- active: binary feature\n",
        "- cardio: target feature\n"
      ]
    },
    {
      "metadata": {
        "id": "6BvC4HYQ0qxk",
        "colab_type": "code",
        "outputId": "8ada6be2-01fe-4206-9982-1309e03df28a",
        "colab": {
          "base_uri": "https://localhost:8080/",
          "height": 252
        }
      },
      "cell_type": "code",
      "source": [
        "df.dtypes"
      ],
      "execution_count": 4,
      "outputs": [
        {
          "output_type": "execute_result",
          "data": {
            "text/plain": [
              "id               int64\n",
              "age              int64\n",
              "gender           int64\n",
              "height           int64\n",
              "weight         float64\n",
              "ap_hi            int64\n",
              "ap_lo            int64\n",
              "cholesterol      int64\n",
              "gluc             int64\n",
              "smoke            int64\n",
              "alco             int64\n",
              "active           int64\n",
              "cardio           int64\n",
              "dtype: object"
            ]
          },
          "metadata": {
            "tags": []
          },
          "execution_count": 4
        }
      ]
    },
    {
      "metadata": {
        "id": "7-5OYnLo0qxq",
        "colab_type": "code",
        "colab": {}
      },
      "cell_type": "code",
      "source": [
        "df.drop(['id'], axis=1, inplace=True)"
      ],
      "execution_count": 0,
      "outputs": []
    },
    {
      "metadata": {
        "id": "vLbQmKVn0qxv",
        "colab_type": "code",
        "outputId": "0d46d8cf-ca6e-4802-b62b-090187566747",
        "colab": {
          "base_uri": "https://localhost:8080/",
          "height": 235
        }
      },
      "cell_type": "code",
      "source": [
        "sum(df.isnull().sum(), df.isna().sum())"
      ],
      "execution_count": 6,
      "outputs": [
        {
          "output_type": "execute_result",
          "data": {
            "text/plain": [
              "age            0\n",
              "gender         0\n",
              "height         0\n",
              "weight         0\n",
              "ap_hi          0\n",
              "ap_lo          0\n",
              "cholesterol    0\n",
              "gluc           0\n",
              "smoke          0\n",
              "alco           0\n",
              "active         0\n",
              "cardio         0\n",
              "dtype: int64"
            ]
          },
          "metadata": {
            "tags": []
          },
          "execution_count": 6
        }
      ]
    },
    {
      "metadata": {
        "id": "2w2GlDNn0qx0",
        "colab_type": "code",
        "outputId": "5662089e-7fa9-4f14-d22f-55ff595d6bbd",
        "colab": {
          "base_uri": "https://localhost:8080/",
          "height": 284
        }
      },
      "cell_type": "code",
      "source": [
        "df.describe()"
      ],
      "execution_count": 7,
      "outputs": [
        {
          "output_type": "execute_result",
          "data": {
            "text/html": [
              "<div>\n",
              "<style scoped>\n",
              "    .dataframe tbody tr th:only-of-type {\n",
              "        vertical-align: middle;\n",
              "    }\n",
              "\n",
              "    .dataframe tbody tr th {\n",
              "        vertical-align: top;\n",
              "    }\n",
              "\n",
              "    .dataframe thead th {\n",
              "        text-align: right;\n",
              "    }\n",
              "</style>\n",
              "<table border=\"1\" class=\"dataframe\">\n",
              "  <thead>\n",
              "    <tr style=\"text-align: right;\">\n",
              "      <th></th>\n",
              "      <th>age</th>\n",
              "      <th>gender</th>\n",
              "      <th>height</th>\n",
              "      <th>weight</th>\n",
              "      <th>ap_hi</th>\n",
              "      <th>ap_lo</th>\n",
              "      <th>cholesterol</th>\n",
              "      <th>gluc</th>\n",
              "      <th>smoke</th>\n",
              "      <th>alco</th>\n",
              "      <th>active</th>\n",
              "      <th>cardio</th>\n",
              "    </tr>\n",
              "  </thead>\n",
              "  <tbody>\n",
              "    <tr>\n",
              "      <th>count</th>\n",
              "      <td>70000.000000</td>\n",
              "      <td>70000.000000</td>\n",
              "      <td>70000.000000</td>\n",
              "      <td>70000.000000</td>\n",
              "      <td>70000.000000</td>\n",
              "      <td>70000.000000</td>\n",
              "      <td>70000.000000</td>\n",
              "      <td>70000.000000</td>\n",
              "      <td>70000.000000</td>\n",
              "      <td>70000.000000</td>\n",
              "      <td>70000.000000</td>\n",
              "      <td>70000.000000</td>\n",
              "    </tr>\n",
              "    <tr>\n",
              "      <th>mean</th>\n",
              "      <td>19468.865814</td>\n",
              "      <td>1.349571</td>\n",
              "      <td>164.359229</td>\n",
              "      <td>74.205690</td>\n",
              "      <td>128.817286</td>\n",
              "      <td>96.630414</td>\n",
              "      <td>1.366871</td>\n",
              "      <td>1.226457</td>\n",
              "      <td>0.088129</td>\n",
              "      <td>0.053771</td>\n",
              "      <td>0.803729</td>\n",
              "      <td>0.499700</td>\n",
              "    </tr>\n",
              "    <tr>\n",
              "      <th>std</th>\n",
              "      <td>2467.251667</td>\n",
              "      <td>0.476838</td>\n",
              "      <td>8.210126</td>\n",
              "      <td>14.395757</td>\n",
              "      <td>154.011419</td>\n",
              "      <td>188.472530</td>\n",
              "      <td>0.680250</td>\n",
              "      <td>0.572270</td>\n",
              "      <td>0.283484</td>\n",
              "      <td>0.225568</td>\n",
              "      <td>0.397179</td>\n",
              "      <td>0.500003</td>\n",
              "    </tr>\n",
              "    <tr>\n",
              "      <th>min</th>\n",
              "      <td>10798.000000</td>\n",
              "      <td>1.000000</td>\n",
              "      <td>55.000000</td>\n",
              "      <td>10.000000</td>\n",
              "      <td>-150.000000</td>\n",
              "      <td>-70.000000</td>\n",
              "      <td>1.000000</td>\n",
              "      <td>1.000000</td>\n",
              "      <td>0.000000</td>\n",
              "      <td>0.000000</td>\n",
              "      <td>0.000000</td>\n",
              "      <td>0.000000</td>\n",
              "    </tr>\n",
              "    <tr>\n",
              "      <th>25%</th>\n",
              "      <td>17664.000000</td>\n",
              "      <td>1.000000</td>\n",
              "      <td>159.000000</td>\n",
              "      <td>65.000000</td>\n",
              "      <td>120.000000</td>\n",
              "      <td>80.000000</td>\n",
              "      <td>1.000000</td>\n",
              "      <td>1.000000</td>\n",
              "      <td>0.000000</td>\n",
              "      <td>0.000000</td>\n",
              "      <td>1.000000</td>\n",
              "      <td>0.000000</td>\n",
              "    </tr>\n",
              "    <tr>\n",
              "      <th>50%</th>\n",
              "      <td>19703.000000</td>\n",
              "      <td>1.000000</td>\n",
              "      <td>165.000000</td>\n",
              "      <td>72.000000</td>\n",
              "      <td>120.000000</td>\n",
              "      <td>80.000000</td>\n",
              "      <td>1.000000</td>\n",
              "      <td>1.000000</td>\n",
              "      <td>0.000000</td>\n",
              "      <td>0.000000</td>\n",
              "      <td>1.000000</td>\n",
              "      <td>0.000000</td>\n",
              "    </tr>\n",
              "    <tr>\n",
              "      <th>75%</th>\n",
              "      <td>21327.000000</td>\n",
              "      <td>2.000000</td>\n",
              "      <td>170.000000</td>\n",
              "      <td>82.000000</td>\n",
              "      <td>140.000000</td>\n",
              "      <td>90.000000</td>\n",
              "      <td>2.000000</td>\n",
              "      <td>1.000000</td>\n",
              "      <td>0.000000</td>\n",
              "      <td>0.000000</td>\n",
              "      <td>1.000000</td>\n",
              "      <td>1.000000</td>\n",
              "    </tr>\n",
              "    <tr>\n",
              "      <th>max</th>\n",
              "      <td>23713.000000</td>\n",
              "      <td>2.000000</td>\n",
              "      <td>250.000000</td>\n",
              "      <td>200.000000</td>\n",
              "      <td>16020.000000</td>\n",
              "      <td>11000.000000</td>\n",
              "      <td>3.000000</td>\n",
              "      <td>3.000000</td>\n",
              "      <td>1.000000</td>\n",
              "      <td>1.000000</td>\n",
              "      <td>1.000000</td>\n",
              "      <td>1.000000</td>\n",
              "    </tr>\n",
              "  </tbody>\n",
              "</table>\n",
              "</div>"
            ],
            "text/plain": [
              "                age        gender        height        weight         ap_hi  \\\n",
              "count  70000.000000  70000.000000  70000.000000  70000.000000  70000.000000   \n",
              "mean   19468.865814      1.349571    164.359229     74.205690    128.817286   \n",
              "std     2467.251667      0.476838      8.210126     14.395757    154.011419   \n",
              "min    10798.000000      1.000000     55.000000     10.000000   -150.000000   \n",
              "25%    17664.000000      1.000000    159.000000     65.000000    120.000000   \n",
              "50%    19703.000000      1.000000    165.000000     72.000000    120.000000   \n",
              "75%    21327.000000      2.000000    170.000000     82.000000    140.000000   \n",
              "max    23713.000000      2.000000    250.000000    200.000000  16020.000000   \n",
              "\n",
              "              ap_lo   cholesterol          gluc         smoke          alco  \\\n",
              "count  70000.000000  70000.000000  70000.000000  70000.000000  70000.000000   \n",
              "mean      96.630414      1.366871      1.226457      0.088129      0.053771   \n",
              "std      188.472530      0.680250      0.572270      0.283484      0.225568   \n",
              "min      -70.000000      1.000000      1.000000      0.000000      0.000000   \n",
              "25%       80.000000      1.000000      1.000000      0.000000      0.000000   \n",
              "50%       80.000000      1.000000      1.000000      0.000000      0.000000   \n",
              "75%       90.000000      2.000000      1.000000      0.000000      0.000000   \n",
              "max    11000.000000      3.000000      3.000000      1.000000      1.000000   \n",
              "\n",
              "             active        cardio  \n",
              "count  70000.000000  70000.000000  \n",
              "mean       0.803729      0.499700  \n",
              "std        0.397179      0.500003  \n",
              "min        0.000000      0.000000  \n",
              "25%        1.000000      0.000000  \n",
              "50%        1.000000      0.000000  \n",
              "75%        1.000000      1.000000  \n",
              "max        1.000000      1.000000  "
            ]
          },
          "metadata": {
            "tags": []
          },
          "execution_count": 7
        }
      ]
    },
    {
      "metadata": {
        "scrolled": false,
        "id": "Co8fZtuq0qx5",
        "colab_type": "code",
        "colab": {}
      },
      "cell_type": "code",
      "source": [
        "df = df.apply(lambda col: col / col.max())"
      ],
      "execution_count": 0,
      "outputs": []
    },
    {
      "metadata": {
        "id": "EETd6Wzi0qx_",
        "colab_type": "code",
        "outputId": "d16dc926-3a5e-4b26-dd74-f54b379bd206",
        "colab": {
          "base_uri": "https://localhost:8080/",
          "height": 284
        }
      },
      "cell_type": "code",
      "source": [
        "df.describe()"
      ],
      "execution_count": 9,
      "outputs": [
        {
          "output_type": "execute_result",
          "data": {
            "text/html": [
              "<div>\n",
              "<style scoped>\n",
              "    .dataframe tbody tr th:only-of-type {\n",
              "        vertical-align: middle;\n",
              "    }\n",
              "\n",
              "    .dataframe tbody tr th {\n",
              "        vertical-align: top;\n",
              "    }\n",
              "\n",
              "    .dataframe thead th {\n",
              "        text-align: right;\n",
              "    }\n",
              "</style>\n",
              "<table border=\"1\" class=\"dataframe\">\n",
              "  <thead>\n",
              "    <tr style=\"text-align: right;\">\n",
              "      <th></th>\n",
              "      <th>age</th>\n",
              "      <th>gender</th>\n",
              "      <th>height</th>\n",
              "      <th>weight</th>\n",
              "      <th>ap_hi</th>\n",
              "      <th>ap_lo</th>\n",
              "      <th>cholesterol</th>\n",
              "      <th>gluc</th>\n",
              "      <th>smoke</th>\n",
              "      <th>alco</th>\n",
              "      <th>active</th>\n",
              "      <th>cardio</th>\n",
              "    </tr>\n",
              "  </thead>\n",
              "  <tbody>\n",
              "    <tr>\n",
              "      <th>count</th>\n",
              "      <td>70000.000000</td>\n",
              "      <td>70000.000000</td>\n",
              "      <td>70000.000000</td>\n",
              "      <td>70000.000000</td>\n",
              "      <td>70000.000000</td>\n",
              "      <td>70000.000000</td>\n",
              "      <td>70000.000000</td>\n",
              "      <td>70000.000000</td>\n",
              "      <td>70000.000000</td>\n",
              "      <td>70000.000000</td>\n",
              "      <td>70000.000000</td>\n",
              "      <td>70000.000000</td>\n",
              "    </tr>\n",
              "    <tr>\n",
              "      <th>mean</th>\n",
              "      <td>0.821021</td>\n",
              "      <td>0.674786</td>\n",
              "      <td>0.657437</td>\n",
              "      <td>0.371028</td>\n",
              "      <td>0.008041</td>\n",
              "      <td>0.008785</td>\n",
              "      <td>0.455624</td>\n",
              "      <td>0.408819</td>\n",
              "      <td>0.088129</td>\n",
              "      <td>0.053771</td>\n",
              "      <td>0.803729</td>\n",
              "      <td>0.499700</td>\n",
              "    </tr>\n",
              "    <tr>\n",
              "      <th>std</th>\n",
              "      <td>0.104046</td>\n",
              "      <td>0.238419</td>\n",
              "      <td>0.032841</td>\n",
              "      <td>0.071979</td>\n",
              "      <td>0.009614</td>\n",
              "      <td>0.017134</td>\n",
              "      <td>0.226750</td>\n",
              "      <td>0.190757</td>\n",
              "      <td>0.283484</td>\n",
              "      <td>0.225568</td>\n",
              "      <td>0.397179</td>\n",
              "      <td>0.500003</td>\n",
              "    </tr>\n",
              "    <tr>\n",
              "      <th>min</th>\n",
              "      <td>0.455362</td>\n",
              "      <td>0.500000</td>\n",
              "      <td>0.220000</td>\n",
              "      <td>0.050000</td>\n",
              "      <td>-0.009363</td>\n",
              "      <td>-0.006364</td>\n",
              "      <td>0.333333</td>\n",
              "      <td>0.333333</td>\n",
              "      <td>0.000000</td>\n",
              "      <td>0.000000</td>\n",
              "      <td>0.000000</td>\n",
              "      <td>0.000000</td>\n",
              "    </tr>\n",
              "    <tr>\n",
              "      <th>25%</th>\n",
              "      <td>0.744908</td>\n",
              "      <td>0.500000</td>\n",
              "      <td>0.636000</td>\n",
              "      <td>0.325000</td>\n",
              "      <td>0.007491</td>\n",
              "      <td>0.007273</td>\n",
              "      <td>0.333333</td>\n",
              "      <td>0.333333</td>\n",
              "      <td>0.000000</td>\n",
              "      <td>0.000000</td>\n",
              "      <td>1.000000</td>\n",
              "      <td>0.000000</td>\n",
              "    </tr>\n",
              "    <tr>\n",
              "      <th>50%</th>\n",
              "      <td>0.830894</td>\n",
              "      <td>0.500000</td>\n",
              "      <td>0.660000</td>\n",
              "      <td>0.360000</td>\n",
              "      <td>0.007491</td>\n",
              "      <td>0.007273</td>\n",
              "      <td>0.333333</td>\n",
              "      <td>0.333333</td>\n",
              "      <td>0.000000</td>\n",
              "      <td>0.000000</td>\n",
              "      <td>1.000000</td>\n",
              "      <td>0.000000</td>\n",
              "    </tr>\n",
              "    <tr>\n",
              "      <th>75%</th>\n",
              "      <td>0.899380</td>\n",
              "      <td>1.000000</td>\n",
              "      <td>0.680000</td>\n",
              "      <td>0.410000</td>\n",
              "      <td>0.008739</td>\n",
              "      <td>0.008182</td>\n",
              "      <td>0.666667</td>\n",
              "      <td>0.333333</td>\n",
              "      <td>0.000000</td>\n",
              "      <td>0.000000</td>\n",
              "      <td>1.000000</td>\n",
              "      <td>1.000000</td>\n",
              "    </tr>\n",
              "    <tr>\n",
              "      <th>max</th>\n",
              "      <td>1.000000</td>\n",
              "      <td>1.000000</td>\n",
              "      <td>1.000000</td>\n",
              "      <td>1.000000</td>\n",
              "      <td>1.000000</td>\n",
              "      <td>1.000000</td>\n",
              "      <td>1.000000</td>\n",
              "      <td>1.000000</td>\n",
              "      <td>1.000000</td>\n",
              "      <td>1.000000</td>\n",
              "      <td>1.000000</td>\n",
              "      <td>1.000000</td>\n",
              "    </tr>\n",
              "  </tbody>\n",
              "</table>\n",
              "</div>"
            ],
            "text/plain": [
              "                age        gender        height        weight         ap_hi  \\\n",
              "count  70000.000000  70000.000000  70000.000000  70000.000000  70000.000000   \n",
              "mean       0.821021      0.674786      0.657437      0.371028      0.008041   \n",
              "std        0.104046      0.238419      0.032841      0.071979      0.009614   \n",
              "min        0.455362      0.500000      0.220000      0.050000     -0.009363   \n",
              "25%        0.744908      0.500000      0.636000      0.325000      0.007491   \n",
              "50%        0.830894      0.500000      0.660000      0.360000      0.007491   \n",
              "75%        0.899380      1.000000      0.680000      0.410000      0.008739   \n",
              "max        1.000000      1.000000      1.000000      1.000000      1.000000   \n",
              "\n",
              "              ap_lo   cholesterol          gluc         smoke          alco  \\\n",
              "count  70000.000000  70000.000000  70000.000000  70000.000000  70000.000000   \n",
              "mean       0.008785      0.455624      0.408819      0.088129      0.053771   \n",
              "std        0.017134      0.226750      0.190757      0.283484      0.225568   \n",
              "min       -0.006364      0.333333      0.333333      0.000000      0.000000   \n",
              "25%        0.007273      0.333333      0.333333      0.000000      0.000000   \n",
              "50%        0.007273      0.333333      0.333333      0.000000      0.000000   \n",
              "75%        0.008182      0.666667      0.333333      0.000000      0.000000   \n",
              "max        1.000000      1.000000      1.000000      1.000000      1.000000   \n",
              "\n",
              "             active        cardio  \n",
              "count  70000.000000  70000.000000  \n",
              "mean       0.803729      0.499700  \n",
              "std        0.397179      0.500003  \n",
              "min        0.000000      0.000000  \n",
              "25%        1.000000      0.000000  \n",
              "50%        1.000000      0.000000  \n",
              "75%        1.000000      1.000000  \n",
              "max        1.000000      1.000000  "
            ]
          },
          "metadata": {
            "tags": []
          },
          "execution_count": 9
        }
      ]
    },
    {
      "metadata": {
        "id": "BWr541UQ0qyE",
        "colab_type": "code",
        "outputId": "c07b201d-4dbc-439c-c651-4025eeb83fe7",
        "colab": {
          "base_uri": "https://localhost:8080/",
          "height": 364
        }
      },
      "cell_type": "code",
      "source": [
        "sns.heatmap(df.drop(axis=1, columns=['gender', 'smoke', 'alco', 'active', 'cardio', 'cholesterol', 'gluc']).corr(), annot=True, cmap='viridis')"
      ],
      "execution_count": 10,
      "outputs": [
        {
          "output_type": "execute_result",
          "data": {
            "text/plain": [
              "<matplotlib.axes._subplots.AxesSubplot at 0x7f1028cca828>"
            ]
          },
          "metadata": {
            "tags": []
          },
          "execution_count": 10
        },
        {
          "output_type": "display_data",
          "data": {
            "image/png": "[encoded data removed]",
            "text/plain": [
              "<Figure size 576x396 with 2 Axes>"
            ]
          },
          "metadata": {
            "tags": []
          }
        }
      ]
    },
    {
      "metadata": {
        "id": "UgkKJChH0qyK",
        "colab_type": "code",
        "outputId": "363f8cc3-1e82-4ae8-dd03-3e01b50b27ee",
        "colab": {
          "base_uri": "https://localhost:8080/",
          "height": 414
        }
      },
      "cell_type": "code",
      "source": [
        "plt.hist(df.cardio)"
      ],
      "execution_count": 11,
      "outputs": [
        {
          "output_type": "execute_result",
          "data": {
            "text/plain": [
              "(array([35021.,     0.,     0.,     0.,     0.,     0.,     0.,     0.,\n",
              "            0., 34979.]),\n",
              " array([0. , 0.1, 0.2, 0.3, 0.4, 0.5, 0.6, 0.7, 0.8, 0.9, 1. ]),\n",
              " <a list of 10 Patch objects>)"
            ]
          },
          "metadata": {
            "tags": []
          },
          "execution_count": 11
        },
        {
          "output_type": "display_data",
          "data": {
            "image/png": "[encoded data removed]",
            "text/plain": [
              "<Figure size 576x396 with 1 Axes>"
            ]
          },
          "metadata": {
            "tags": []
          }
        }
      ]
    },
    {
      "metadata": {
        "id": "MpFnMmaV0qyP",
        "colab_type": "code",
        "outputId": "43e1d712-5014-498d-945b-fa8a79dbf53c",
        "colab": {
          "base_uri": "https://localhost:8080/",
          "height": 411
        }
      },
      "cell_type": "code",
      "source": [
        "bin_features_list = ['gender', 'smoke', 'alco', 'active']\n",
        "\n",
        "rest_df = df.drop(bin_features_list, axis=1)\n",
        "\n",
        "bin_features = df[[*bin_features_list, 'cardio']]\n",
        "\n",
        "sns.countplot(x=\"cardio\", hue=\"smoke\", data=bin_features)"
      ],
      "execution_count": 12,
      "outputs": [
        {
          "output_type": "stream",
          "text": [
            "/usr/local/lib/python3.6/dist-packages/seaborn/categorical.py:1468: FutureWarning: remove_na is deprecated and is a private function. Do not use.\n",
            "  stat_data = remove_na(group_data[hue_mask])\n"
          ],
          "name": "stderr"
        },
        {
          "output_type": "execute_result",
          "data": {
            "text/plain": [
              "<matplotlib.axes._subplots.AxesSubplot at 0x7f1028374908>"
            ]
          },
          "metadata": {
            "tags": []
          },
          "execution_count": 12
        },
        {
          "output_type": "display_data",
          "data": {
            "image/png": "[encoded data removed]",
            "text/plain": [
              "<Figure size 576x396 with 1 Axes>"
            ]
          },
          "metadata": {
            "tags": []
          }
        }
      ]
    },
    {
      "metadata": {
        "id": "WqNrkfKz0qyW",
        "colab_type": "code",
        "outputId": "c3b17fb7-a1cd-412e-a9e2-146efbb2a47d",
        "colab": {
          "base_uri": "https://localhost:8080/",
          "height": 411
        }
      },
      "cell_type": "code",
      "source": [
        "sns.countplot(x=\"cardio\", hue=\"alco\", data=bin_features)"
      ],
      "execution_count": 13,
      "outputs": [
        {
          "output_type": "stream",
          "text": [
            "/usr/local/lib/python3.6/dist-packages/seaborn/categorical.py:1468: FutureWarning: remove_na is deprecated and is a private function. Do not use.\n",
            "  stat_data = remove_na(group_data[hue_mask])\n"
          ],
          "name": "stderr"
        },
        {
          "output_type": "execute_result",
          "data": {
            "text/plain": [
              "<matplotlib.axes._subplots.AxesSubplot at 0x7f10283615f8>"
            ]
          },
          "metadata": {
            "tags": []
          },
          "execution_count": 13
        },
        {
          "output_type": "display_data",
          "data": {
            "image/png": "[encoded data removed]",
            "text/plain": [
              "<Figure size 576x396 with 1 Axes>"
            ]
          },
          "metadata": {
            "tags": []
          }
        }
      ]
    },
    {
      "metadata": {
        "id": "ZW9CsRU-0qyc",
        "colab_type": "code",
        "outputId": "23b41298-efe1-4e8e-c331-1e0bf059ac03",
        "colab": {
          "base_uri": "https://localhost:8080/",
          "height": 414
        }
      },
      "cell_type": "code",
      "source": [
        "sns.countplot(x=\"cardio\", hue=\"active\", data=bin_features)"
      ],
      "execution_count": 14,
      "outputs": [
        {
          "output_type": "stream",
          "text": [
            "/usr/local/lib/python3.6/dist-packages/seaborn/categorical.py:1468: FutureWarning: remove_na is deprecated and is a private function. Do not use.\n",
            "  stat_data = remove_na(group_data[hue_mask])\n"
          ],
          "name": "stderr"
        },
        {
          "output_type": "execute_result",
          "data": {
            "text/plain": [
              "<matplotlib.axes._subplots.AxesSubplot at 0x7f1025a36b70>"
            ]
          },
          "metadata": {
            "tags": []
          },
          "execution_count": 14
        },
        {
          "output_type": "display_data",
          "data": {
            "image/png": "[encoded data removed]",
            "text/plain": [
              "<Figure size 576x396 with 1 Axes>"
            ]
          },
          "metadata": {
            "tags": []
          }
        }
      ]
    },
    {
      "metadata": {
        "id": "z0gTQj3f0qyj",
        "colab_type": "code",
        "outputId": "55efa88f-ed6a-43f1-c20e-f75a35e76c71",
        "colab": {
          "base_uri": "https://localhost:8080/",
          "height": 411
        }
      },
      "cell_type": "code",
      "source": [
        "sns.countplot(x=\"cardio\", hue=\"gender\", data=bin_features)"
      ],
      "execution_count": 15,
      "outputs": [
        {
          "output_type": "stream",
          "text": [
            "/usr/local/lib/python3.6/dist-packages/seaborn/categorical.py:1468: FutureWarning: remove_na is deprecated and is a private function. Do not use.\n",
            "  stat_data = remove_na(group_data[hue_mask])\n"
          ],
          "name": "stderr"
        },
        {
          "output_type": "execute_result",
          "data": {
            "text/plain": [
              "<matplotlib.axes._subplots.AxesSubplot at 0x7f1025993a20>"
            ]
          },
          "metadata": {
            "tags": []
          },
          "execution_count": 15
        },
        {
          "output_type": "display_data",
          "data": {
            "image/png": "[encoded data removed]",
            "text/plain": [
              "<Figure size 576x396 with 1 Axes>"
            ]
          },
          "metadata": {
            "tags": []
          }
        }
      ]
    },
    {
      "metadata": {
        "id": "iYKipXof0qyq",
        "colab_type": "code",
        "outputId": "43585187-f2a6-47d5-d997-5eb7580a28fc",
        "colab": {
          "base_uri": "https://localhost:8080/",
          "height": 195
        }
      },
      "cell_type": "code",
      "source": [
        "rest_df.head()"
      ],
      "execution_count": 16,
      "outputs": [
        {
          "output_type": "execute_result",
          "data": {
            "text/html": [
              "<div>\n",
              "<style scoped>\n",
              "    .dataframe tbody tr th:only-of-type {\n",
              "        vertical-align: middle;\n",
              "    }\n",
              "\n",
              "    .dataframe tbody tr th {\n",
              "        vertical-align: top;\n",
              "    }\n",
              "\n",
              "    .dataframe thead th {\n",
              "        text-align: right;\n",
              "    }\n",
              "</style>\n",
              "<table border=\"1\" class=\"dataframe\">\n",
              "  <thead>\n",
              "    <tr style=\"text-align: right;\">\n",
              "      <th></th>\n",
              "      <th>age</th>\n",
              "      <th>height</th>\n",
              "      <th>weight</th>\n",
              "      <th>ap_hi</th>\n",
              "      <th>ap_lo</th>\n",
              "      <th>cholesterol</th>\n",
              "      <th>gluc</th>\n",
              "      <th>cardio</th>\n",
              "    </tr>\n",
              "  </thead>\n",
              "  <tbody>\n",
              "    <tr>\n",
              "      <th>0</th>\n",
              "      <td>0.775650</td>\n",
              "      <td>0.672</td>\n",
              "      <td>0.310</td>\n",
              "      <td>0.006866</td>\n",
              "      <td>0.007273</td>\n",
              "      <td>0.333333</td>\n",
              "      <td>0.333333</td>\n",
              "      <td>0.0</td>\n",
              "    </tr>\n",
              "    <tr>\n",
              "      <th>1</th>\n",
              "      <td>0.853034</td>\n",
              "      <td>0.624</td>\n",
              "      <td>0.425</td>\n",
              "      <td>0.008739</td>\n",
              "      <td>0.008182</td>\n",
              "      <td>1.000000</td>\n",
              "      <td>0.333333</td>\n",
              "      <td>1.0</td>\n",
              "    </tr>\n",
              "    <tr>\n",
              "      <th>2</th>\n",
              "      <td>0.795218</td>\n",
              "      <td>0.660</td>\n",
              "      <td>0.320</td>\n",
              "      <td>0.008115</td>\n",
              "      <td>0.006364</td>\n",
              "      <td>1.000000</td>\n",
              "      <td>0.333333</td>\n",
              "      <td>1.0</td>\n",
              "    </tr>\n",
              "    <tr>\n",
              "      <th>3</th>\n",
              "      <td>0.743179</td>\n",
              "      <td>0.676</td>\n",
              "      <td>0.410</td>\n",
              "      <td>0.009363</td>\n",
              "      <td>0.009091</td>\n",
              "      <td>0.333333</td>\n",
              "      <td>0.333333</td>\n",
              "      <td>1.0</td>\n",
              "    </tr>\n",
              "    <tr>\n",
              "      <th>4</th>\n",
              "      <td>0.736895</td>\n",
              "      <td>0.624</td>\n",
              "      <td>0.280</td>\n",
              "      <td>0.006242</td>\n",
              "      <td>0.005455</td>\n",
              "      <td>0.333333</td>\n",
              "      <td>0.333333</td>\n",
              "      <td>0.0</td>\n",
              "    </tr>\n",
              "  </tbody>\n",
              "</table>\n",
              "</div>"
            ],
            "text/plain": [
              "        age  height  weight     ap_hi     ap_lo  cholesterol      gluc  cardio\n",
              "0  0.775650   0.672   0.310  0.006866  0.007273     0.333333  0.333333     0.0\n",
              "1  0.853034   0.624   0.425  0.008739  0.008182     1.000000  0.333333     1.0\n",
              "2  0.795218   0.660   0.320  0.008115  0.006364     1.000000  0.333333     1.0\n",
              "3  0.743179   0.676   0.410  0.009363  0.009091     0.333333  0.333333     1.0\n",
              "4  0.736895   0.624   0.280  0.006242  0.005455     0.333333  0.333333     0.0"
            ]
          },
          "metadata": {
            "tags": []
          },
          "execution_count": 16
        }
      ]
    },
    {
      "metadata": {
        "id": "YmDomuce0qyv",
        "colab_type": "code",
        "outputId": "d58db986-9ea5-4d85-ee8f-115b678d4c70",
        "colab": {
          "base_uri": "https://localhost:8080/",
          "height": 411
        }
      },
      "cell_type": "code",
      "source": [
        "sns.countplot(x=\"cardio\", hue=\"gluc\", data=rest_df)"
      ],
      "execution_count": 17,
      "outputs": [
        {
          "output_type": "stream",
          "text": [
            "/usr/local/lib/python3.6/dist-packages/seaborn/categorical.py:1468: FutureWarning: remove_na is deprecated and is a private function. Do not use.\n",
            "  stat_data = remove_na(group_data[hue_mask])\n"
          ],
          "name": "stderr"
        },
        {
          "output_type": "execute_result",
          "data": {
            "text/plain": [
              "<matplotlib.axes._subplots.AxesSubplot at 0x7f102597a518>"
            ]
          },
          "metadata": {
            "tags": []
          },
          "execution_count": 17
        },
        {
          "output_type": "display_data",
          "data": {
            "image/png": "[encoded data removed]",
            "text/plain": [
              "<Figure size 576x396 with 1 Axes>"
            ]
          },
          "metadata": {
            "tags": []
          }
        }
      ]
    },
    {
      "metadata": {
        "scrolled": false,
        "id": "3_QPkWHU0qy6",
        "colab_type": "code",
        "outputId": "c97a2c88-d373-4a91-f39b-f54f6ea4d79b",
        "colab": {
          "base_uri": "https://localhost:8080/",
          "height": 411
        }
      },
      "cell_type": "code",
      "source": [
        "sns.countplot(x=\"cardio\", hue=\"cholesterol\", data=rest_df)"
      ],
      "execution_count": 18,
      "outputs": [
        {
          "output_type": "stream",
          "text": [
            "/usr/local/lib/python3.6/dist-packages/seaborn/categorical.py:1468: FutureWarning: remove_na is deprecated and is a private function. Do not use.\n",
            "  stat_data = remove_na(group_data[hue_mask])\n"
          ],
          "name": "stderr"
        },
        {
          "output_type": "execute_result",
          "data": {
            "text/plain": [
              "<matplotlib.axes._subplots.AxesSubplot at 0x7f10258dc470>"
            ]
          },
          "metadata": {
            "tags": []
          },
          "execution_count": 18
        },
        {
          "output_type": "display_data",
          "data": {
            "image/png": "[encoded data removed]",
            "text/plain": [
              "<Figure size 576x396 with 1 Axes>"
            ]
          },
          "metadata": {
            "tags": []
          }
        }
      ]
    },
    {
      "metadata": {
        "id": "zxXXJxBa3qUB",
        "colab_type": "code",
        "colab": {}
      },
      "cell_type": "code",
      "source": [
        "X = df.drop('cardio', axis=1)[['cholesterol', 'ap_lo', 'ap_hi', 'gluc']].values\n",
        "y = df['cardio'].values\n",
        "X_train, X_test, y_train, y_test = train_test_split(X, y, test_size=0.2, random_state=42)"
      ],
      "execution_count": 0,
      "outputs": []
    },
    {
      "metadata": {
        "id": "GyiLczpZ0qzF",
        "colab_type": "text"
      },
      "cell_type": "markdown",
      "source": [
        "# Comparing algorithms\n",
        "\n",
        "## KNN"
      ]
    },
    {
      "metadata": {
        "id": "tcaPrINv0qzH",
        "colab_type": "code",
        "colab": {}
      },
      "cell_type": "code",
      "source": [
        "knn = KNeighborsClassifier()"
      ],
      "execution_count": 0,
      "outputs": []
    },
    {
      "metadata": {
        "id": "79GJy5Ef0qzV",
        "colab_type": "code",
        "outputId": "8d4e0486-8548-41a8-c62e-0288c1e6b6b7",
        "colab": {
          "base_uri": "https://localhost:8080/",
          "height": 67
        }
      },
      "cell_type": "code",
      "source": [
        "knn.fit(X_train, y_train)"
      ],
      "execution_count": 0,
      "outputs": [
        {
          "output_type": "execute_result",
          "data": {
            "text/plain": [
              "KNeighborsClassifier(algorithm='auto', leaf_size=30, metric='minkowski',\n",
              "           metric_params=None, n_jobs=None, n_neighbors=5, p=2,\n",
              "           weights='uniform')"
            ]
          },
          "metadata": {
            "tags": []
          },
          "execution_count": 21
        }
      ]
    },
    {
      "metadata": {
        "id": "OO8juJn30qzZ",
        "colab_type": "code",
        "outputId": "cf0693dd-963a-487d-9b88-153352d5e004",
        "colab": {
          "base_uri": "https://localhost:8080/",
          "height": 34
        }
      },
      "cell_type": "code",
      "source": [
        "knn.score(X_test, y_test)"
      ],
      "execution_count": 0,
      "outputs": [
        {
          "output_type": "execute_result",
          "data": {
            "text/plain": [
              "0.7012142857142857"
            ]
          },
          "metadata": {
            "tags": []
          },
          "execution_count": 22
        }
      ]
    },
    {
      "metadata": {
        "id": "4M_kg8tJ0qzc",
        "colab_type": "code",
        "outputId": "35b01c45-8dc9-43b0-a02a-e233d9df38df",
        "colab": {
          "base_uri": "https://localhost:8080/",
          "height": 34
        }
      },
      "cell_type": "code",
      "source": [
        "scores = cross_val_score(knn, X, y, cv=10)\n",
        "\n",
        "print(f\"Mean score: {scores.mean()} +/-({scores.std()})\")"
      ],
      "execution_count": 0,
      "outputs": [
        {
          "output_type": "stream",
          "text": [
            "Mean score: 0.6947713314790067 +/-(0.032462723699001175)\n"
          ],
          "name": "stdout"
        }
      ]
    },
    {
      "metadata": {
        "id": "_JOhYcBY0qzg",
        "colab_type": "text"
      },
      "cell_type": "markdown",
      "source": [
        "## Decision Tree"
      ]
    },
    {
      "metadata": {
        "id": "6u5nWZ9H0qzi",
        "colab_type": "code",
        "colab": {}
      },
      "cell_type": "code",
      "source": [
        "tree_entropy = DecisionTreeClassifier(criterion='entropy')\n",
        "tree_gini = DecisionTreeClassifier()"
      ],
      "execution_count": 0,
      "outputs": []
    },
    {
      "metadata": {
        "id": "PjfTCg4i0qzl",
        "colab_type": "code",
        "outputId": "c29e33ba-6fc7-4905-a426-cd2d1d4b7425",
        "colab": {
          "base_uri": "https://localhost:8080/",
          "height": 118
        }
      },
      "cell_type": "code",
      "source": [
        "tree_entropy.fit(X_train, y_train)"
      ],
      "execution_count": 0,
      "outputs": [
        {
          "output_type": "execute_result",
          "data": {
            "text/plain": [
              "DecisionTreeClassifier(class_weight=None, criterion='entropy', max_depth=None,\n",
              "            max_features=None, max_leaf_nodes=None,\n",
              "            min_impurity_decrease=0.0, min_impurity_split=None,\n",
              "            min_samples_leaf=1, min_samples_split=2,\n",
              "            min_weight_fraction_leaf=0.0, presort=False, random_state=None,\n",
              "            splitter='best')"
            ]
          },
          "metadata": {
            "tags": []
          },
          "execution_count": 25
        }
      ]
    },
    {
      "metadata": {
        "scrolled": true,
        "id": "mSYgLk5Y0qzo",
        "colab_type": "code",
        "outputId": "de19a6a5-7694-4b98-c940-423f77fa9473",
        "colab": {
          "base_uri": "https://localhost:8080/",
          "height": 34
        }
      },
      "cell_type": "code",
      "source": [
        "tree_entropy.score(X_test, y_test)"
      ],
      "execution_count": 0,
      "outputs": [
        {
          "output_type": "execute_result",
          "data": {
            "text/plain": [
              "0.7271428571428571"
            ]
          },
          "metadata": {
            "tags": []
          },
          "execution_count": 26
        }
      ]
    },
    {
      "metadata": {
        "id": "JPtjX_Zc0qzs",
        "colab_type": "code",
        "outputId": "ac98bf70-bb0f-490c-db5f-ceb67576af84",
        "colab": {
          "base_uri": "https://localhost:8080/",
          "height": 34
        }
      },
      "cell_type": "code",
      "source": [
        "scores = cross_val_score(tree_entropy, X, y, cv=10)\n",
        "\n",
        "print(f\"Mean score: {scores.mean()} +/-({scores.std()})\")"
      ],
      "execution_count": 0,
      "outputs": [
        {
          "output_type": "stream",
          "text": [
            "Mean score: 0.721371425397376 +/-(0.00345912174495936)\n"
          ],
          "name": "stdout"
        }
      ]
    },
    {
      "metadata": {
        "id": "m4McQysQ0qzw",
        "colab_type": "code",
        "outputId": "41b7da9e-722f-4eab-9971-6513313b1969",
        "colab": {
          "base_uri": "https://localhost:8080/",
          "height": 118
        }
      },
      "cell_type": "code",
      "source": [
        "tree_gini.fit(X_train, y_train)"
      ],
      "execution_count": 0,
      "outputs": [
        {
          "output_type": "execute_result",
          "data": {
            "text/plain": [
              "DecisionTreeClassifier(class_weight=None, criterion='gini', max_depth=None,\n",
              "            max_features=None, max_leaf_nodes=None,\n",
              "            min_impurity_decrease=0.0, min_impurity_split=None,\n",
              "            min_samples_leaf=1, min_samples_split=2,\n",
              "            min_weight_fraction_leaf=0.0, presort=False, random_state=None,\n",
              "            splitter='best')"
            ]
          },
          "metadata": {
            "tags": []
          },
          "execution_count": 28
        }
      ]
    },
    {
      "metadata": {
        "id": "SXAHApt80qz0",
        "colab_type": "code",
        "outputId": "87407bfc-85eb-4e68-fbce-5ad54f4438cc",
        "colab": {
          "base_uri": "https://localhost:8080/",
          "height": 34
        }
      },
      "cell_type": "code",
      "source": [
        "tree_gini.score(X_test, y_test)"
      ],
      "execution_count": 0,
      "outputs": [
        {
          "output_type": "execute_result",
          "data": {
            "text/plain": [
              "0.7272142857142857"
            ]
          },
          "metadata": {
            "tags": []
          },
          "execution_count": 29
        }
      ]
    },
    {
      "metadata": {
        "id": "RnXtwfgc0qz5",
        "colab_type": "code",
        "outputId": "c9c58fb7-c347-4960-d0a4-b27eaa9ec280",
        "colab": {
          "base_uri": "https://localhost:8080/",
          "height": 34
        }
      },
      "cell_type": "code",
      "source": [
        "scores = cross_val_score(tree_gini, X, y, cv=10)\n",
        "\n",
        "print(f\"Mean score: {scores.mean()} +/-({scores.std()})\")"
      ],
      "execution_count": 0,
      "outputs": [
        {
          "output_type": "stream",
          "text": [
            "Mean score: 0.7213714294778426 +/-(0.003378805263199)\n"
          ],
          "name": "stdout"
        }
      ]
    },
    {
      "metadata": {
        "id": "Q4eZVLST0qz9",
        "colab_type": "text"
      },
      "cell_type": "markdown",
      "source": [
        "## Multi Layer Perceptron"
      ]
    },
    {
      "metadata": {
        "id": "cq5lSBuN8vcI",
        "colab_type": "code",
        "colab": {
          "base_uri": "https://localhost:8080/",
          "height": 101
        },
        "outputId": "2a0025db-80a6-410c-fc7a-5ff2c716b131"
      },
      "cell_type": "code",
      "source": [
        "! pip install rx"
      ],
      "execution_count": 47,
      "outputs": [
        {
          "output_type": "stream",
          "text": [
            "Collecting rx\n",
            "\u001b[?25l  Downloading https://files.pythonhosted.org/packages/33/0f/5ef4ac78e2a538cc1b054eb86285fe0bf7a5dbaeaac2c584757c300515e2/Rx-1.6.1-py2.py3-none-any.whl (179kB)\n",
            "\r\u001b[K    5% |█▉                              | 10kB 12.1MB/s eta 0:00:01\r\u001b[K    11% |███▋                            | 20kB 4.7MB/s eta 0:00:01\r\u001b[K    17% |█████▌                          | 30kB 6.6MB/s eta 0:00:01\r\u001b[K    22% |███████▎                        | 40kB 4.2MB/s eta 0:00:01\r\u001b[K    28% |█████████▏                      | 51kB 5.1MB/s eta 0:00:01\r\u001b[K    34% |███████████                     | 61kB 6.0MB/s eta 0:00:01\r\u001b[K    39% |████████████▉                   | 71kB 6.8MB/s eta 0:00:01\r\u001b[K    45% |██████████████▋                 | 81kB 7.6MB/s eta 0:00:01\r\u001b[K    51% |████████████████▍               | 92kB 8.4MB/s eta 0:00:01\r\u001b[K    57% |██████████████████▎             | 102kB 6.8MB/s eta 0:00:01\r\u001b[K    62% |████████████████████            | 112kB 7.0MB/s eta 0:00:01\r\u001b[K    68% |██████████████████████          | 122kB 9.1MB/s eta 0:00:01\r\u001b[K    74% |███████████████████████▊        | 133kB 9.0MB/s eta 0:00:01\r\u001b[K    79% |█████████████████████████▋      | 143kB 15.8MB/s eta 0:00:01\r\u001b[K    85% |███████████████████████████▍    | 153kB 15.9MB/s eta 0:00:01\r\u001b[K    91% |█████████████████████████████▎  | 163kB 15.8MB/s eta 0:00:01\r\u001b[K    97% |███████████████████████████████ | 174kB 15.4MB/s eta 0:00:01\r\u001b[K    100% |████████████████████████████████| 184kB 12.5MB/s \n",
            "\u001b[?25hInstalling collected packages: rx\n",
            "Successfully installed rx-1.6.1\n"
          ],
          "name": "stdout"
        }
      ]
    },
    {
      "metadata": {
        "scrolled": false,
        "id": "EEBIRkFK0qz-",
        "colab_type": "code",
        "colab": {}
      },
      "cell_type": "code",
      "source": [
        "from keras.layers import Dense, Input\n",
        "from keras.models import Model\n",
        "from keras.utils import to_categorical\n",
        "from keras.optimizers import SGD, Adam\n",
        "from sklearn.model_selection import StratifiedKFold\n",
        "from functools import partial\n",
        "from statistics import mean, stdev\n",
        "from rx import Observable"
      ],
      "execution_count": 0,
      "outputs": []
    },
    {
      "metadata": {
        "id": "3EZMKkWf0q0C",
        "colab_type": "code",
        "colab": {}
      },
      "cell_type": "code",
      "source": [
        "def gen_model():\n",
        "  input_l = Input(shape=(X.shape[-1], ))\n",
        "\n",
        "  l1 = Dense(50, activation='relu', kernel_initializer='truncated_normal')(input_l)\n",
        "  l2 = Dense(2, activation='softmax',  kernel_initializer='truncated_normal')(l1)\n",
        "\n",
        "  model = Model(inputs=input_l, outputs=l2)\n",
        "  model.compile(optimizer=Adam(), loss='binary_crossentropy', metrics=['accuracy'])\n",
        "  \n",
        "  return model"
      ],
      "execution_count": 0,
      "outputs": []
    },
    {
      "metadata": {
        "id": "S3YiIWu583sz",
        "colab_type": "code",
        "colab": {}
      },
      "cell_type": "code",
      "source": [
        "def run_train(X, y, data):\n",
        "  train, test = data\n",
        "\n",
        "  # convert data to categorical\n",
        "  y_train = to_categorical(y[train])\n",
        "  y_test = to_categorical(y[test])\n",
        "\n",
        "  model = gen_model()\n",
        "  model.fit(x=X[train], y=y_train, epochs=20)\n",
        " \n",
        "  scores = model.evaluate(X[test], y_test, verbose=0)\n",
        "\n",
        "  print(f\"{model.metrics_names[1]:.4}: {scores[1] * 100:.4}%\")\n",
        "\n",
        "  return scores[1] * 100"
      ],
      "execution_count": 0,
      "outputs": []
    },
    {
      "metadata": {
        "id": "g948pFDcJTuw",
        "colab_type": "code",
        "colab": {}
      },
      "cell_type": "code",
      "source": [
        "kfold = StratifiedKFold(n_splits=10, shuffle=True, random_state=42)"
      ],
      "execution_count": 0,
      "outputs": []
    },
    {
      "metadata": {
        "id": "i8gDHTSd6Laj",
        "colab_type": "code",
        "outputId": "b804f37a-4bae-4c92-d21c-18c7216c86e5",
        "colab": {
          "base_uri": "https://localhost:8080/",
          "height": 34
        }
      },
      "cell_type": "code",
      "source": [
        "y_train.shape"
      ],
      "execution_count": 64,
      "outputs": [
        {
          "output_type": "execute_result",
          "data": {
            "text/plain": [
              "(56000, 2)"
            ]
          },
          "metadata": {
            "tags": []
          },
          "execution_count": 64
        }
      ]
    },
    {
      "metadata": {
        "id": "8x4jw4Hz5px9",
        "colab_type": "code",
        "outputId": "a0d8395d-d481-441e-e531-3cf17de85d43",
        "colab": {
          "base_uri": "https://localhost:8080/",
          "height": 6922
        }
      },
      "cell_type": "code",
      "source": [
        "obs = Observable.from_(kfold.split(X, y))\\\n",
        "  .map(partial(run_train, X, y))\\\n",
        "  .to_list()\\\n",
        "  .subscribe(lambda scores: print(f\"Mean score: {mean(scores):.4}% (+/- {stdev(scores):.4}%)\"))\n",
        "\n",
        "obs.dispose()"
      ],
      "execution_count": 67,
      "outputs": [
        {
          "output_type": "stream",
          "text": [
            "Epoch 1/20\n",
            "62999/62999 [==============================] - 11s 182us/step - loss: 0.6694 - acc: 0.5833\n",
            "Epoch 2/20\n",
            "62999/62999 [==============================] - 9s 142us/step - loss: 0.6638 - acc: 0.5948\n",
            "Epoch 3/20\n",
            "62999/62999 [==============================] - 9s 148us/step - loss: 0.6617 - acc: 0.5950\n",
            "Epoch 4/20\n",
            "62999/62999 [==============================] - 9s 143us/step - loss: 0.6597 - acc: 0.5947\n",
            "Epoch 5/20\n",
            "62999/62999 [==============================] - 9s 142us/step - loss: 0.6571 - acc: 0.5976\n",
            "Epoch 6/20\n",
            "62999/62999 [==============================] - 9s 141us/step - loss: 0.6533 - acc: 0.6017\n",
            "Epoch 7/20\n",
            "62999/62999 [==============================] - 9s 141us/step - loss: 0.6480 - acc: 0.6161\n",
            "Epoch 8/20\n",
            "62999/62999 [==============================] - 9s 141us/step - loss: 0.6416 - acc: 0.6345\n",
            "Epoch 9/20\n",
            "62999/62999 [==============================] - 9s 140us/step - loss: 0.6355 - acc: 0.6583\n",
            "Epoch 10/20\n",
            "62999/62999 [==============================] - 9s 141us/step - loss: 0.6269 - acc: 0.6769\n",
            "Epoch 11/20\n",
            "62999/62999 [==============================] - 9s 141us/step - loss: 0.6185 - acc: 0.6919\n",
            "Epoch 12/20\n",
            "62999/62999 [==============================] - 9s 140us/step - loss: 0.6104 - acc: 0.7007\n",
            "Epoch 13/20\n",
            "62999/62999 [==============================] - 9s 140us/step - loss: 0.6013 - acc: 0.7073\n",
            "Epoch 14/20\n",
            "62999/62999 [==============================] - 9s 140us/step - loss: 0.5934 - acc: 0.7149\n",
            "Epoch 15/20\n",
            "62999/62999 [==============================] - 9s 141us/step - loss: 0.5888 - acc: 0.7164\n",
            "Epoch 16/20\n",
            "62999/62999 [==============================] - 9s 140us/step - loss: 0.5852 - acc: 0.7183\n",
            "Epoch 17/20\n",
            "62999/62999 [==============================] - 9s 141us/step - loss: 0.5836 - acc: 0.7187\n",
            "Epoch 18/20\n",
            "62999/62999 [==============================] - 9s 141us/step - loss: 0.5817 - acc: 0.7199\n",
            "Epoch 19/20\n",
            "62999/62999 [==============================] - 9s 143us/step - loss: 0.5808 - acc: 0.7190\n",
            "Epoch 20/20\n",
            "62999/62999 [==============================] - 9s 147us/step - loss: 0.5801 - acc: 0.7205\n",
            "acc: 72.76%\n",
            "Epoch 1/20\n",
            "63000/63000 [==============================] - 11s 176us/step - loss: 0.6679 - acc: 0.5881\n",
            "Epoch 2/20\n",
            "63000/63000 [==============================] - 9s 142us/step - loss: 0.6612 - acc: 0.5959\n",
            "Epoch 3/20\n",
            "63000/63000 [==============================] - 9s 141us/step - loss: 0.6579 - acc: 0.5969\n",
            "Epoch 4/20\n",
            "63000/63000 [==============================] - 9s 143us/step - loss: 0.6538 - acc: 0.6005\n",
            "Epoch 5/20\n",
            "63000/63000 [==============================] - 9s 143us/step - loss: 0.6487 - acc: 0.6096\n",
            "Epoch 6/20\n",
            "63000/63000 [==============================] - 9s 150us/step - loss: 0.6413 - acc: 0.6317\n",
            "Epoch 7/20\n",
            "63000/63000 [==============================] - 9s 148us/step - loss: 0.6315 - acc: 0.6595\n",
            "Epoch 8/20\n",
            "63000/63000 [==============================] - 9s 145us/step - loss: 0.6202 - acc: 0.6859\n",
            "Epoch 9/20\n",
            "63000/63000 [==============================] - 9s 146us/step - loss: 0.6106 - acc: 0.7011\n",
            "Epoch 10/20\n",
            "63000/63000 [==============================] - 9s 143us/step - loss: 0.6013 - acc: 0.7087\n",
            "Epoch 11/20\n",
            "63000/63000 [==============================] - 9s 142us/step - loss: 0.5934 - acc: 0.7153\n",
            "Epoch 12/20\n",
            "63000/63000 [==============================] - 9s 143us/step - loss: 0.5872 - acc: 0.7165\n",
            "Epoch 13/20\n",
            "63000/63000 [==============================] - 9s 143us/step - loss: 0.5848 - acc: 0.7178\n",
            "Epoch 14/20\n",
            "63000/63000 [==============================] - 9s 142us/step - loss: 0.5818 - acc: 0.7193\n",
            "Epoch 15/20\n",
            "63000/63000 [==============================] - 9s 142us/step - loss: 0.5794 - acc: 0.7201\n",
            "Epoch 16/20\n",
            "63000/63000 [==============================] - 9s 142us/step - loss: 0.5804 - acc: 0.7194\n",
            "Epoch 17/20\n",
            "63000/63000 [==============================] - 9s 151us/step - loss: 0.5784 - acc: 0.7216\n",
            "Epoch 18/20\n",
            "63000/63000 [==============================] - 9s 143us/step - loss: 0.5782 - acc: 0.7224\n",
            "Epoch 19/20\n",
            "63000/63000 [==============================] - 9s 142us/step - loss: 0.5778 - acc: 0.7218\n",
            "Epoch 20/20\n",
            "63000/63000 [==============================] - 9s 143us/step - loss: 0.5781 - acc: 0.7207\n",
            "acc: 71.77%\n",
            "Epoch 1/20\n",
            "63000/63000 [==============================] - 11s 179us/step - loss: 0.6690 - acc: 0.5877\n",
            "Epoch 2/20\n",
            "63000/63000 [==============================] - 9s 143us/step - loss: 0.6630 - acc: 0.5951\n",
            "Epoch 3/20\n",
            "63000/63000 [==============================] - 10s 155us/step - loss: 0.6607 - acc: 0.5952\n",
            "Epoch 4/20\n",
            "63000/63000 [==============================] - 9s 143us/step - loss: 0.6581 - acc: 0.5957\n",
            "Epoch 5/20\n",
            "63000/63000 [==============================] - 9s 144us/step - loss: 0.6551 - acc: 0.5985\n",
            "Epoch 6/20\n",
            "63000/63000 [==============================] - 9s 146us/step - loss: 0.6508 - acc: 0.6049\n",
            "Epoch 7/20\n",
            "63000/63000 [==============================] - 9s 142us/step - loss: 0.6450 - acc: 0.6210\n",
            "Epoch 8/20\n",
            "63000/63000 [==============================] - 9s 141us/step - loss: 0.6368 - acc: 0.6431\n",
            "Epoch 9/20\n",
            "63000/63000 [==============================] - 9s 142us/step - loss: 0.6271 - acc: 0.6707\n",
            "Epoch 10/20\n",
            "63000/63000 [==============================] - 9s 141us/step - loss: 0.6164 - acc: 0.6899\n",
            "Epoch 11/20\n",
            "63000/63000 [==============================] - 9s 141us/step - loss: 0.6068 - acc: 0.7019\n",
            "Epoch 12/20\n",
            "63000/63000 [==============================] - 9s 142us/step - loss: 0.5991 - acc: 0.7106\n",
            "Epoch 13/20\n",
            "63000/63000 [==============================] - 10s 153us/step - loss: 0.5931 - acc: 0.7154\n",
            "Epoch 14/20\n",
            "63000/63000 [==============================] - 9s 143us/step - loss: 0.5894 - acc: 0.7139\n",
            "Epoch 15/20\n",
            "63000/63000 [==============================] - 9s 143us/step - loss: 0.5870 - acc: 0.7164\n",
            "Epoch 16/20\n",
            "63000/63000 [==============================] - 9s 143us/step - loss: 0.5842 - acc: 0.7184\n",
            "Epoch 17/20\n",
            "63000/63000 [==============================] - 9s 142us/step - loss: 0.5823 - acc: 0.7189\n",
            "Epoch 18/20\n",
            "63000/63000 [==============================] - 9s 142us/step - loss: 0.5823 - acc: 0.7193\n",
            "Epoch 19/20\n",
            "63000/63000 [==============================] - 9s 144us/step - loss: 0.5804 - acc: 0.7199\n",
            "Epoch 20/20\n",
            "63000/63000 [==============================] - 9s 146us/step - loss: 0.5798 - acc: 0.7216\n",
            "acc: 71.74%\n",
            "Epoch 1/20\n",
            "63000/63000 [==============================] - 11s 181us/step - loss: 0.6686 - acc: 0.5884\n",
            "Epoch 2/20\n",
            "63000/63000 [==============================] - 9s 143us/step - loss: 0.6624 - acc: 0.5950\n",
            "Epoch 3/20\n",
            "63000/63000 [==============================] - 9s 143us/step - loss: 0.6594 - acc: 0.5956\n",
            "Epoch 4/20\n",
            "63000/63000 [==============================] - 9s 143us/step - loss: 0.6551 - acc: 0.5979\n",
            "Epoch 5/20\n",
            "63000/63000 [==============================] - 9s 142us/step - loss: 0.6493 - acc: 0.6099\n",
            "Epoch 6/20\n",
            "63000/63000 [==============================] - 9s 142us/step - loss: 0.6406 - acc: 0.6331\n",
            "Epoch 7/20\n",
            "63000/63000 [==============================] - 9s 143us/step - loss: 0.6289 - acc: 0.6642\n",
            "Epoch 8/20\n",
            "63000/63000 [==============================] - 9s 142us/step - loss: 0.6157 - acc: 0.6908\n",
            "Epoch 9/20\n",
            "63000/63000 [==============================] - 9s 144us/step - loss: 0.6038 - acc: 0.7039\n",
            "Epoch 10/20\n",
            "63000/63000 [==============================] - 9s 150us/step - loss: 0.5954 - acc: 0.7121\n",
            "Epoch 11/20\n",
            "63000/63000 [==============================] - 9s 143us/step - loss: 0.5907 - acc: 0.7136\n",
            "Epoch 12/20\n",
            "63000/63000 [==============================] - 9s 142us/step - loss: 0.5875 - acc: 0.7168\n",
            "Epoch 13/20\n",
            "63000/63000 [==============================] - 9s 143us/step - loss: 0.5859 - acc: 0.7154\n",
            "Epoch 14/20\n",
            "63000/63000 [==============================] - 9s 141us/step - loss: 0.5845 - acc: 0.7162\n",
            "Epoch 15/20\n",
            "63000/63000 [==============================] - 9s 142us/step - loss: 0.5840 - acc: 0.7171\n",
            "Epoch 16/20\n",
            "63000/63000 [==============================] - 9s 142us/step - loss: 0.5831 - acc: 0.7180\n",
            "Epoch 17/20\n",
            "63000/63000 [==============================] - 9s 142us/step - loss: 0.5833 - acc: 0.7172\n",
            "Epoch 18/20\n",
            "63000/63000 [==============================] - 9s 141us/step - loss: 0.5831 - acc: 0.7177\n",
            "Epoch 19/20\n",
            "63000/63000 [==============================] - 9s 140us/step - loss: 0.5818 - acc: 0.7193\n",
            "Epoch 20/20\n",
            "63000/63000 [==============================] - 9s 140us/step - loss: 0.5829 - acc: 0.7187\n",
            "acc: 71.87%\n",
            "Epoch 1/20\n",
            "63000/63000 [==============================] - 11s 179us/step - loss: 0.6690 - acc: 0.5855\n",
            "Epoch 2/20\n",
            "63000/63000 [==============================] - 9s 141us/step - loss: 0.6630 - acc: 0.5949\n",
            "Epoch 3/20\n",
            "63000/63000 [==============================] - 9s 138us/step - loss: 0.6605 - acc: 0.5950\n",
            "Epoch 4/20\n",
            "63000/63000 [==============================] - 9s 136us/step - loss: 0.6585 - acc: 0.5954\n",
            "Epoch 5/20\n",
            "63000/63000 [==============================] - 9s 136us/step - loss: 0.6558 - acc: 0.5962\n",
            "Epoch 6/20\n",
            "63000/63000 [==============================] - 9s 139us/step - loss: 0.6524 - acc: 0.6018\n",
            "Epoch 7/20\n",
            "63000/63000 [==============================] - 9s 144us/step - loss: 0.6478 - acc: 0.6129\n",
            "Epoch 8/20\n",
            "63000/63000 [==============================] - 9s 135us/step - loss: 0.6406 - acc: 0.6310\n",
            "Epoch 9/20\n",
            "63000/63000 [==============================] - 9s 136us/step - loss: 0.6322 - acc: 0.6549\n",
            "Epoch 10/20\n",
            "63000/63000 [==============================] - 9s 135us/step - loss: 0.6226 - acc: 0.6780\n",
            "Epoch 11/20\n",
            "63000/63000 [==============================] - 9s 136us/step - loss: 0.6133 - acc: 0.6941\n",
            "Epoch 12/20\n",
            "63000/63000 [==============================] - 9s 135us/step - loss: 0.6052 - acc: 0.7043\n",
            "Epoch 13/20\n",
            "63000/63000 [==============================] - 9s 136us/step - loss: 0.5988 - acc: 0.7099\n",
            "Epoch 14/20\n",
            "63000/63000 [==============================] - 9s 136us/step - loss: 0.5938 - acc: 0.7123\n",
            "Epoch 15/20\n",
            "63000/63000 [==============================] - 9s 137us/step - loss: 0.5909 - acc: 0.7141\n",
            "Epoch 16/20\n",
            "63000/63000 [==============================] - 9s 137us/step - loss: 0.5876 - acc: 0.7161\n",
            "Epoch 17/20\n",
            "63000/63000 [==============================] - 9s 137us/step - loss: 0.5859 - acc: 0.7170\n",
            "Epoch 18/20\n",
            "63000/63000 [==============================] - 9s 137us/step - loss: 0.5850 - acc: 0.7166\n",
            "Epoch 19/20\n",
            "63000/63000 [==============================] - 9s 139us/step - loss: 0.5843 - acc: 0.7171\n",
            "Epoch 20/20\n",
            "63000/63000 [==============================] - 9s 144us/step - loss: 0.5827 - acc: 0.7200\n",
            "acc: 72.61%\n",
            "Epoch 1/20\n",
            "63000/63000 [==============================] - 11s 171us/step - loss: 0.6690 - acc: 0.5858\n",
            "Epoch 2/20\n",
            "63000/63000 [==============================] - 9s 137us/step - loss: 0.6626 - acc: 0.5957\n",
            "Epoch 3/20\n",
            "63000/63000 [==============================] - 9s 137us/step - loss: 0.6597 - acc: 0.5959\n",
            "Epoch 4/20\n",
            "63000/63000 [==============================] - 9s 142us/step - loss: 0.6569 - acc: 0.5970\n",
            "Epoch 5/20\n",
            "63000/63000 [==============================] - 9s 137us/step - loss: 0.6536 - acc: 0.6005\n",
            "Epoch 6/20\n",
            "63000/63000 [==============================] - 9s 136us/step - loss: 0.6487 - acc: 0.6094\n",
            "Epoch 7/20\n",
            "63000/63000 [==============================] - 9s 136us/step - loss: 0.6421 - acc: 0.6268\n",
            "Epoch 8/20\n",
            "63000/63000 [==============================] - 9s 137us/step - loss: 0.6335 - acc: 0.6516\n",
            "Epoch 9/20\n",
            "63000/63000 [==============================] - 9s 136us/step - loss: 0.6231 - acc: 0.6770\n",
            "Epoch 10/20\n",
            "63000/63000 [==============================] - 9s 137us/step - loss: 0.6123 - acc: 0.6968\n",
            "Epoch 11/20\n",
            "63000/63000 [==============================] - 9s 137us/step - loss: 0.6036 - acc: 0.7055\n",
            "Epoch 12/20\n",
            "63000/63000 [==============================] - 9s 136us/step - loss: 0.5972 - acc: 0.7119\n",
            "Epoch 13/20\n",
            "63000/63000 [==============================] - 9s 136us/step - loss: 0.5916 - acc: 0.7142\n",
            "Epoch 14/20\n",
            "63000/63000 [==============================] - 9s 137us/step - loss: 0.5884 - acc: 0.7169\n",
            "Epoch 15/20\n",
            "63000/63000 [==============================] - 9s 137us/step - loss: 0.5854 - acc: 0.7188\n",
            "Epoch 16/20\n",
            "63000/63000 [==============================] - 9s 137us/step - loss: 0.5845 - acc: 0.7176\n",
            "Epoch 17/20\n",
            "63000/63000 [==============================] - 9s 137us/step - loss: 0.5826 - acc: 0.7194\n",
            "Epoch 18/20\n",
            "63000/63000 [==============================] - 9s 137us/step - loss: 0.5829 - acc: 0.7193\n",
            "Epoch 19/20\n",
            "63000/63000 [==============================] - 9s 138us/step - loss: 0.5829 - acc: 0.7187\n",
            "Epoch 20/20\n",
            "63000/63000 [==============================] - 9s 139us/step - loss: 0.5815 - acc: 0.7187\n",
            "acc: 71.99%\n",
            "Epoch 1/20\n",
            "63000/63000 [==============================] - 11s 179us/step - loss: 0.6692 - acc: 0.5859\n",
            "Epoch 2/20\n",
            "63000/63000 [==============================] - 9s 146us/step - loss: 0.6635 - acc: 0.5944\n",
            "Epoch 3/20\n",
            "63000/63000 [==============================] - 9s 140us/step - loss: 0.6609 - acc: 0.5945\n",
            "Epoch 4/20\n",
            "63000/63000 [==============================] - 9s 139us/step - loss: 0.6586 - acc: 0.5960\n",
            "Epoch 5/20\n",
            "63000/63000 [==============================] - 9s 139us/step - loss: 0.6559 - acc: 0.5986\n",
            "Epoch 6/20\n",
            "63000/63000 [==============================] - 9s 143us/step - loss: 0.6510 - acc: 0.6041\n",
            "Epoch 7/20\n",
            "63000/63000 [==============================] - 9s 139us/step - loss: 0.6449 - acc: 0.6225\n",
            "Epoch 8/20\n",
            "63000/63000 [==============================] - 9s 140us/step - loss: 0.6372 - acc: 0.6457\n",
            "Epoch 9/20\n",
            "63000/63000 [==============================] - 9s 140us/step - loss: 0.6278 - acc: 0.6700\n",
            "Epoch 10/20\n",
            "63000/63000 [==============================] - 9s 140us/step - loss: 0.6177 - acc: 0.6908\n",
            "Epoch 11/20\n",
            "63000/63000 [==============================] - 9s 140us/step - loss: 0.6091 - acc: 0.7019\n",
            "Epoch 12/20\n",
            "63000/63000 [==============================] - 9s 140us/step - loss: 0.6017 - acc: 0.7081\n",
            "Epoch 13/20\n",
            "63000/63000 [==============================] - 9s 140us/step - loss: 0.5942 - acc: 0.7143\n",
            "Epoch 14/20\n",
            "63000/63000 [==============================] - 9s 140us/step - loss: 0.5901 - acc: 0.7142\n",
            "Epoch 15/20\n",
            "63000/63000 [==============================] - 9s 139us/step - loss: 0.5869 - acc: 0.7173\n",
            "Epoch 16/20\n",
            "63000/63000 [==============================] - 9s 140us/step - loss: 0.5841 - acc: 0.7190\n",
            "Epoch 17/20\n",
            "63000/63000 [==============================] - 9s 140us/step - loss: 0.5821 - acc: 0.7204\n",
            "Epoch 18/20\n",
            "63000/63000 [==============================] - 9s 147us/step - loss: 0.5803 - acc: 0.7200\n",
            "Epoch 19/20\n",
            "63000/63000 [==============================] - 9s 140us/step - loss: 0.5808 - acc: 0.7198\n",
            "Epoch 20/20\n",
            "63000/63000 [==============================] - 9s 140us/step - loss: 0.5791 - acc: 0.7227\n",
            "acc: 73.0%\n",
            "Epoch 1/20\n",
            "63000/63000 [==============================] - 11s 179us/step - loss: 0.6693 - acc: 0.5892\n",
            "Epoch 2/20\n",
            "63000/63000 [==============================] - 9s 140us/step - loss: 0.6630 - acc: 0.5954\n",
            "Epoch 3/20\n",
            "63000/63000 [==============================] - 9s 140us/step - loss: 0.6601 - acc: 0.5955\n",
            "Epoch 4/20\n",
            "63000/63000 [==============================] - 9s 140us/step - loss: 0.6573 - acc: 0.5975\n",
            "Epoch 5/20\n",
            "63000/63000 [==============================] - 9s 140us/step - loss: 0.6527 - acc: 0.6028\n",
            "Epoch 6/20\n",
            "63000/63000 [==============================] - 9s 140us/step - loss: 0.6465 - acc: 0.6142\n",
            "Epoch 7/20\n",
            "63000/63000 [==============================] - 9s 140us/step - loss: 0.6374 - acc: 0.6423\n",
            "Epoch 8/20\n",
            "63000/63000 [==============================] - 9s 141us/step - loss: 0.6260 - acc: 0.6713\n",
            "Epoch 9/20\n",
            "63000/63000 [==============================] - 9s 140us/step - loss: 0.6146 - acc: 0.6918\n",
            "Epoch 10/20\n",
            "63000/63000 [==============================] - 9s 140us/step - loss: 0.6048 - acc: 0.7031\n",
            "Epoch 11/20\n",
            "63000/63000 [==============================] - 9s 139us/step - loss: 0.5972 - acc: 0.7111\n",
            "Epoch 12/20\n",
            "63000/63000 [==============================] - 9s 139us/step - loss: 0.5915 - acc: 0.7145\n",
            "Epoch 13/20\n",
            "63000/63000 [==============================] - 9s 138us/step - loss: 0.5885 - acc: 0.7158\n",
            "Epoch 14/20\n",
            "63000/63000 [==============================] - 9s 138us/step - loss: 0.5858 - acc: 0.7175\n",
            "Epoch 15/20\n",
            "63000/63000 [==============================] - 9s 138us/step - loss: 0.5837 - acc: 0.7187\n",
            "Epoch 16/20\n",
            "63000/63000 [==============================] - 9s 146us/step - loss: 0.5827 - acc: 0.7203\n",
            "Epoch 17/20\n",
            "63000/63000 [==============================] - 9s 143us/step - loss: 0.5812 - acc: 0.7194\n",
            "Epoch 18/20\n",
            "63000/63000 [==============================] - 9s 139us/step - loss: 0.5819 - acc: 0.7204\n",
            "Epoch 19/20\n",
            "63000/63000 [==============================] - 9s 139us/step - loss: 0.5814 - acc: 0.7200\n",
            "Epoch 20/20\n",
            "63000/63000 [==============================] - 9s 139us/step - loss: 0.5810 - acc: 0.7204\n",
            "acc: 72.34%\n",
            "Epoch 1/20\n",
            "63000/63000 [==============================] - 11s 179us/step - loss: 0.6690 - acc: 0.5840\n",
            "Epoch 2/20\n",
            "63000/63000 [==============================] - 9s 139us/step - loss: 0.6632 - acc: 0.5943\n",
            "Epoch 3/20\n",
            "63000/63000 [==============================] - 9s 140us/step - loss: 0.6607 - acc: 0.5947\n",
            "Epoch 4/20\n",
            "63000/63000 [==============================] - 9s 139us/step - loss: 0.6583 - acc: 0.5951\n",
            "Epoch 5/20\n",
            "63000/63000 [==============================] - 9s 139us/step - loss: 0.6551 - acc: 0.5974\n",
            "Epoch 6/20\n",
            "63000/63000 [==============================] - 9s 138us/step - loss: 0.6506 - acc: 0.6056\n",
            "Epoch 7/20\n",
            "63000/63000 [==============================] - 9s 137us/step - loss: 0.6438 - acc: 0.6239\n",
            "Epoch 8/20\n",
            "63000/63000 [==============================] - 9s 138us/step - loss: 0.6346 - acc: 0.6504\n",
            "Epoch 9/20\n",
            "63000/63000 [==============================] - 9s 138us/step - loss: 0.6244 - acc: 0.6762\n",
            "Epoch 10/20\n",
            "63000/63000 [==============================] - 9s 138us/step - loss: 0.6138 - acc: 0.6933\n",
            "Epoch 11/20\n",
            "63000/63000 [==============================] - 14s 222us/step - loss: 0.6057 - acc: 0.7046\n",
            "Epoch 12/20\n",
            "63000/63000 [==============================] - 9s 145us/step - loss: 0.5988 - acc: 0.7109\n",
            "Epoch 13/20\n",
            "63000/63000 [==============================] - 9s 142us/step - loss: 0.5932 - acc: 0.7135\n",
            "Epoch 14/20\n",
            "63000/63000 [==============================] - 9s 142us/step - loss: 0.5895 - acc: 0.7156\n",
            "Epoch 15/20\n",
            "63000/63000 [==============================] - 9s 143us/step - loss: 0.5868 - acc: 0.7170\n",
            "Epoch 16/20\n",
            "63000/63000 [==============================] - 9s 142us/step - loss: 0.5852 - acc: 0.7193\n",
            "Epoch 17/20\n",
            "63000/63000 [==============================] - 9s 142us/step - loss: 0.5832 - acc: 0.7198\n",
            "Epoch 18/20\n",
            "63000/63000 [==============================] - 9s 142us/step - loss: 0.5814 - acc: 0.7215\n",
            "Epoch 19/20\n",
            "63000/63000 [==============================] - 9s 141us/step - loss: 0.5809 - acc: 0.7208\n",
            "Epoch 20/20\n",
            "63000/63000 [==============================] - 9s 140us/step - loss: 0.5803 - acc: 0.7190\n",
            "acc: 72.13%\n",
            "Epoch 1/20\n",
            "63001/63001 [==============================] - 11s 182us/step - loss: 0.6697 - acc: 0.5836\n",
            "Epoch 2/20\n",
            "63001/63001 [==============================] - 9s 141us/step - loss: 0.6630 - acc: 0.5940\n",
            "Epoch 3/20\n",
            "63001/63001 [==============================] - 9s 137us/step - loss: 0.6601 - acc: 0.5952\n",
            "Epoch 4/20\n",
            "63001/63001 [==============================] - 9s 137us/step - loss: 0.6569 - acc: 0.5958\n",
            "Epoch 5/20\n",
            "63001/63001 [==============================] - 9s 137us/step - loss: 0.6518 - acc: 0.6047\n",
            "Epoch 6/20\n",
            "63001/63001 [==============================] - 9s 138us/step - loss: 0.6445 - acc: 0.6215\n",
            "Epoch 7/20\n",
            "63001/63001 [==============================] - 9s 138us/step - loss: 0.6339 - acc: 0.6547\n",
            "Epoch 8/20\n",
            "63001/63001 [==============================] - 9s 139us/step - loss: 0.6215 - acc: 0.6777\n",
            "Epoch 9/20\n",
            "63001/63001 [==============================] - 9s 138us/step - loss: 0.6107 - acc: 0.6958\n",
            "Epoch 10/20\n",
            "63001/63001 [==============================] - 9s 145us/step - loss: 0.6010 - acc: 0.7067\n",
            "Epoch 11/20\n",
            "63001/63001 [==============================] - 9s 139us/step - loss: 0.5950 - acc: 0.7094\n",
            "Epoch 12/20\n",
            "63001/63001 [==============================] - 9s 138us/step - loss: 0.5901 - acc: 0.7156\n",
            "Epoch 13/20\n",
            "63001/63001 [==============================] - 9s 141us/step - loss: 0.5872 - acc: 0.7169\n",
            "Epoch 14/20\n",
            "63001/63001 [==============================] - 9s 140us/step - loss: 0.5846 - acc: 0.7182\n",
            "Epoch 15/20\n",
            "63001/63001 [==============================] - 9s 138us/step - loss: 0.5836 - acc: 0.7175\n",
            "Epoch 16/20\n",
            "63001/63001 [==============================] - 9s 139us/step - loss: 0.5823 - acc: 0.7187\n",
            "Epoch 17/20\n",
            "63001/63001 [==============================] - 9s 138us/step - loss: 0.5828 - acc: 0.7176\n",
            "Epoch 18/20\n",
            "63001/63001 [==============================] - 9s 137us/step - loss: 0.5808 - acc: 0.7195\n",
            "Epoch 19/20\n",
            "63001/63001 [==============================] - 9s 137us/step - loss: 0.5810 - acc: 0.7197\n",
            "Epoch 20/20\n",
            "63001/63001 [==============================] - 9s 143us/step - loss: 0.5814 - acc: 0.7191\n",
            "acc: 72.01%\n",
            "Mean score: 72.22% (+/- 0.4383%)\n"
          ],
          "name": "stdout"
        }
      ]
    },
    {
      "metadata": {
        "id": "_q_DfChe9ho2",
        "colab_type": "code",
        "outputId": "ad3e30bc-3fc9-42f0-da6d-e5f156675b9f",
        "colab": {
          "base_uri": "https://localhost:8080/",
          "height": 735
        }
      },
      "cell_type": "code",
      "source": [
        "plt.plot(history.history['acc'])\n",
        "plt.plot(history.history['val_acc'])\n",
        "plt.title('model accuracy')\n",
        "plt.ylabel('accuracy')\n",
        "plt.xlabel('epoch')\n",
        "plt.legend(['train', 'test'], loc='best')\n",
        "plt.show()\n",
        "\n",
        "plt.plot(history.history['loss'])\n",
        "plt.plot(history.history['val_loss'])\n",
        "plt.title('model loss')\n",
        "plt.ylabel('loss')\n",
        "plt.xlabel('epoch')\n",
        "plt.legend(['train', 'test'], loc='best')\n",
        "plt.show()"
      ],
      "execution_count": 0,
      "outputs": [
        {
          "output_type": "display_data",
          "data": {
            "image/png": "[encoded data removed]",
            "text/plain": [
              "<Figure size 576x396 with 1 Axes>"
            ]
          },
          "metadata": {
            "tags": []
          }
        },
        {
          "output_type": "display_data",
          "data": {
            "image/png": "[encoded data removed]",
            "text/plain": [
              "<Figure size 576x396 with 1 Axes>"
            ]
          },
          "metadata": {
            "tags": []
          }
        }
      ]
    }
  ]
}