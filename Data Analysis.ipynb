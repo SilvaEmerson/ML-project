{
 "cells": [
  {
   "cell_type": "code",
   "execution_count": 16,
   "metadata": {
    "colab": {
     "base_uri": "https://localhost:8080/",
     "height": 101
    },
    "colab_type": "code",
    "id": "cq5lSBuN8vcI",
    "outputId": "9fe24416-a1da-4b85-9ade-a7dd159085f4"
   },
   "outputs": [
    {
     "name": "stdout",
     "output_type": "stream",
     "text": [
      "Collecting rx\n",
      "\u001b[?25l  Downloading https://files.pythonhosted.org/packages/33/0f/5ef4ac78e2a538cc1b054eb86285fe0bf7a5dbaeaac2c584757c300515e2/Rx-1.6.1-py2.py3-none-any.whl (179kB)\n",
      "\u001b[K    100% |████████████████████████████████| 184kB 7.0MB/s \n",
      "\u001b[?25hInstalling collected packages: rx\n",
      "Successfully installed rx-1.6.1\n"
     ]
    }
   ],
   "source": [
    "! pip install rx"
   ]
  },
  {
   "cell_type": "code",
   "execution_count": 0,
   "metadata": {
    "colab": {},
    "colab_type": "code",
    "id": "i0FDE5jEpZi2"
   },
   "outputs": [],
   "source": [
    "import graphviz"
   ]
  },
  {
   "cell_type": "code",
   "execution_count": 0,
   "metadata": {
    "colab": {},
    "colab_type": "code",
    "id": "q3BLBrtr0qxS",
    "scrolled": false
   },
   "outputs": [],
   "source": [
    "import pandas as pd\n",
    "import seaborn as sns\n",
    "import matplotlib.pyplot as plt\n",
    "from sklearn.neighbors import KNeighborsClassifier\n",
    "from sklearn.tree import DecisionTreeClassifier\n",
    "from sklearn.ensemble import RandomForestClassifier\n",
    "from sklearn.model_selection import train_test_split, cross_val_score\n",
    "from sklearn.preprocessing import scale\n",
    "from sklearn import tree\n",
    "from rx import Observable\n",
    "from operator import methodcaller"
   ]
  },
  {
   "cell_type": "code",
   "execution_count": 4,
   "metadata": {
    "colab": {
     "base_uri": "https://localhost:8080/",
     "height": 91,
     "resources": {
      "http://localhost:8080/nbextensions/google.colab/files.js": {
       "data": "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",
       "headers": [
        [
         "content-type",
         "application/javascript"
        ]
       ],
       "ok": true,
       "status": 200,
       "status_text": ""
      }
     }
    },
    "colab_type": "code",
    "id": "6Snr-KEM1Rm9",
    "outputId": "a8a23724-1449-4100-bd0d-84280d343aa5"
   },
   "outputs": [
    {
     "data": {
      "text/html": [
       "\n",
       "     <input type=\"file\" id=\"files-ea944747-9e3e-4459-9aa6-04a43a0dac75\" name=\"files[]\" multiple disabled />\n",
       "     <output id=\"result-ea944747-9e3e-4459-9aa6-04a43a0dac75\">\n",
       "      Upload widget is only available when the cell has been executed in the\n",
       "      current browser session. Please rerun this cell to enable.\n",
       "      </output>\n",
       "      <script src=\"/nbextensions/google.colab/files.js\"></script> "
      ],
      "text/plain": [
       "<IPython.core.display.HTML object>"
      ]
     },
     "metadata": {
      "tags": []
     },
     "output_type": "display_data"
    },
    {
     "name": "stdout",
     "output_type": "stream",
     "text": [
      "Saving cardio_train.csv to cardio_train.csv\n",
      "User uploaded file \"cardio_train.csv\" with length 2941524 bytes\n"
     ]
    }
   ],
   "source": [
    "from google.colab import files\n",
    "\n",
    "uploaded = files.upload()\n",
    "\n",
    "for fn in uploaded.keys():\n",
    "  print('User uploaded file \"{name}\" with length {length} bytes'.format(\n",
    "      name=fn, length=len(uploaded[fn])))"
   ]
  },
  {
   "cell_type": "code",
   "execution_count": 5,
   "metadata": {
    "colab": {
     "base_uri": "https://localhost:8080/",
     "height": 212
    },
    "colab_type": "code",
    "id": "tCwsAVGN0qxZ",
    "outputId": "a72b543a-a6e7-459d-ad11-3e8b73e5c297"
   },
   "outputs": [
    {
     "name": "stdout",
     "output_type": "stream",
     "text": [
      "(70000, 13)\n"
     ]
    },
    {
     "data": {
      "text/html": [
       "<div>\n",
       "<style scoped>\n",
       "    .dataframe tbody tr th:only-of-type {\n",
       "        vertical-align: middle;\n",
       "    }\n",
       "\n",
       "    .dataframe tbody tr th {\n",
       "        vertical-align: top;\n",
       "    }\n",
       "\n",
       "    .dataframe thead th {\n",
       "        text-align: right;\n",
       "    }\n",
       "</style>\n",
       "<table border=\"1\" class=\"dataframe\">\n",
       "  <thead>\n",
       "    <tr style=\"text-align: right;\">\n",
       "      <th></th>\n",
       "      <th>id</th>\n",
       "      <th>age</th>\n",
       "      <th>gender</th>\n",
       "      <th>height</th>\n",
       "      <th>weight</th>\n",
       "      <th>ap_hi</th>\n",
       "      <th>ap_lo</th>\n",
       "      <th>cholesterol</th>\n",
       "      <th>gluc</th>\n",
       "      <th>smoke</th>\n",
       "      <th>alco</th>\n",
       "      <th>active</th>\n",
       "      <th>cardio</th>\n",
       "    </tr>\n",
       "  </thead>\n",
       "  <tbody>\n",
       "    <tr>\n",
       "      <th>0</th>\n",
       "      <td>0</td>\n",
       "      <td>18393</td>\n",
       "      <td>2</td>\n",
       "      <td>168</td>\n",
       "      <td>62.0</td>\n",
       "      <td>110</td>\n",
       "      <td>80</td>\n",
       "      <td>1</td>\n",
       "      <td>1</td>\n",
       "      <td>0</td>\n",
       "      <td>0</td>\n",
       "      <td>1</td>\n",
       "      <td>0</td>\n",
       "    </tr>\n",
       "    <tr>\n",
       "      <th>1</th>\n",
       "      <td>1</td>\n",
       "      <td>20228</td>\n",
       "      <td>1</td>\n",
       "      <td>156</td>\n",
       "      <td>85.0</td>\n",
       "      <td>140</td>\n",
       "      <td>90</td>\n",
       "      <td>3</td>\n",
       "      <td>1</td>\n",
       "      <td>0</td>\n",
       "      <td>0</td>\n",
       "      <td>1</td>\n",
       "      <td>1</td>\n",
       "    </tr>\n",
       "    <tr>\n",
       "      <th>2</th>\n",
       "      <td>2</td>\n",
       "      <td>18857</td>\n",
       "      <td>1</td>\n",
       "      <td>165</td>\n",
       "      <td>64.0</td>\n",
       "      <td>130</td>\n",
       "      <td>70</td>\n",
       "      <td>3</td>\n",
       "      <td>1</td>\n",
       "      <td>0</td>\n",
       "      <td>0</td>\n",
       "      <td>0</td>\n",
       "      <td>1</td>\n",
       "    </tr>\n",
       "    <tr>\n",
       "      <th>3</th>\n",
       "      <td>3</td>\n",
       "      <td>17623</td>\n",
       "      <td>2</td>\n",
       "      <td>169</td>\n",
       "      <td>82.0</td>\n",
       "      <td>150</td>\n",
       "      <td>100</td>\n",
       "      <td>1</td>\n",
       "      <td>1</td>\n",
       "      <td>0</td>\n",
       "      <td>0</td>\n",
       "      <td>1</td>\n",
       "      <td>1</td>\n",
       "    </tr>\n",
       "    <tr>\n",
       "      <th>4</th>\n",
       "      <td>4</td>\n",
       "      <td>17474</td>\n",
       "      <td>1</td>\n",
       "      <td>156</td>\n",
       "      <td>56.0</td>\n",
       "      <td>100</td>\n",
       "      <td>60</td>\n",
       "      <td>1</td>\n",
       "      <td>1</td>\n",
       "      <td>0</td>\n",
       "      <td>0</td>\n",
       "      <td>0</td>\n",
       "      <td>0</td>\n",
       "    </tr>\n",
       "  </tbody>\n",
       "</table>\n",
       "</div>"
      ],
      "text/plain": [
       "   id    age  gender  height  weight  ap_hi  ap_lo  cholesterol  gluc  smoke  \\\n",
       "0   0  18393       2     168    62.0    110     80            1     1      0   \n",
       "1   1  20228       1     156    85.0    140     90            3     1      0   \n",
       "2   2  18857       1     165    64.0    130     70            3     1      0   \n",
       "3   3  17623       2     169    82.0    150    100            1     1      0   \n",
       "4   4  17474       1     156    56.0    100     60            1     1      0   \n",
       "\n",
       "   alco  active  cardio  \n",
       "0     0       1       0  \n",
       "1     0       1       1  \n",
       "2     0       0       1  \n",
       "3     0       1       1  \n",
       "4     0       0       0  "
      ]
     },
     "execution_count": 5,
     "metadata": {
      "tags": []
     },
     "output_type": "execute_result"
    }
   ],
   "source": [
    "DATA_PATH = './cardio_train.csv' \n",
    "df = pd.read_csv(DATA_PATH, sep=';')\n",
    "print(df.shape)\n",
    "df.head()"
   ]
  },
  {
   "cell_type": "markdown",
   "metadata": {
    "colab_type": "text",
    "id": "Cex1ORG90qxi"
   },
   "source": [
    "# Data description\n",
    "\n",
    "- age: in days\n",
    "- gender:\n",
    " - 1: women\n",
    " - 2: men\n",
    "- height: in cm\n",
    "- weight: in kg\n",
    "- ap_hi: Systolic blood pressure\n",
    "- ap_lo: Diastolic blood pressure\n",
    "- cholesterol:\n",
    " - 1: normal\n",
    " - 2: above normal\n",
    " - 3: well above normal\n",
    "- gluc:\n",
    " - 1: normal\n",
    " - 2: above normal\n",
    " - 3: well above normal\n",
    "- smoke: binary feature\n",
    "- alco: binary feature\n",
    "- active: binary feature\n",
    "- cardio: target feature\n"
   ]
  },
  {
   "cell_type": "code",
   "execution_count": 6,
   "metadata": {
    "colab": {
     "base_uri": "https://localhost:8080/",
     "height": 252
    },
    "colab_type": "code",
    "id": "6BvC4HYQ0qxk",
    "outputId": "ce67ef03-0be8-4307-e7d0-ec9318db2cca"
   },
   "outputs": [
    {
     "data": {
      "text/plain": [
       "id               int64\n",
       "age              int64\n",
       "gender           int64\n",
       "height           int64\n",
       "weight         float64\n",
       "ap_hi            int64\n",
       "ap_lo            int64\n",
       "cholesterol      int64\n",
       "gluc             int64\n",
       "smoke            int64\n",
       "alco             int64\n",
       "active           int64\n",
       "cardio           int64\n",
       "dtype: object"
      ]
     },
     "execution_count": 6,
     "metadata": {
      "tags": []
     },
     "output_type": "execute_result"
    }
   ],
   "source": [
    "df.dtypes"
   ]
  },
  {
   "cell_type": "code",
   "execution_count": 0,
   "metadata": {
    "colab": {},
    "colab_type": "code",
    "id": "7-5OYnLo0qxq"
   },
   "outputs": [],
   "source": [
    "df.drop(['id'], axis=1, inplace=True)"
   ]
  },
  {
   "cell_type": "code",
   "execution_count": 8,
   "metadata": {
    "colab": {
     "base_uri": "https://localhost:8080/",
     "height": 235
    },
    "colab_type": "code",
    "id": "vLbQmKVn0qxv",
    "outputId": "4fd0fbbb-af35-45f7-a068-3247a6b172c4"
   },
   "outputs": [
    {
     "data": {
      "text/plain": [
       "age            0\n",
       "gender         0\n",
       "height         0\n",
       "weight         0\n",
       "ap_hi          0\n",
       "ap_lo          0\n",
       "cholesterol    0\n",
       "gluc           0\n",
       "smoke          0\n",
       "alco           0\n",
       "active         0\n",
       "cardio         0\n",
       "dtype: int64"
      ]
     },
     "execution_count": 8,
     "metadata": {
      "tags": []
     },
     "output_type": "execute_result"
    }
   ],
   "source": [
    "sum(df.isnull().sum(), df.isna().sum())"
   ]
  },
  {
   "cell_type": "code",
   "execution_count": 9,
   "metadata": {
    "colab": {
     "base_uri": "https://localhost:8080/",
     "height": 284
    },
    "colab_type": "code",
    "id": "2w2GlDNn0qx0",
    "outputId": "ecf891d4-4a99-4f2d-a549-83e5c1269ca2"
   },
   "outputs": [
    {
     "data": {
      "text/html": [
       "<div>\n",
       "<style scoped>\n",
       "    .dataframe tbody tr th:only-of-type {\n",
       "        vertical-align: middle;\n",
       "    }\n",
       "\n",
       "    .dataframe tbody tr th {\n",
       "        vertical-align: top;\n",
       "    }\n",
       "\n",
       "    .dataframe thead th {\n",
       "        text-align: right;\n",
       "    }\n",
       "</style>\n",
       "<table border=\"1\" class=\"dataframe\">\n",
       "  <thead>\n",
       "    <tr style=\"text-align: right;\">\n",
       "      <th></th>\n",
       "      <th>age</th>\n",
       "      <th>gender</th>\n",
       "      <th>height</th>\n",
       "      <th>weight</th>\n",
       "      <th>ap_hi</th>\n",
       "      <th>ap_lo</th>\n",
       "      <th>cholesterol</th>\n",
       "      <th>gluc</th>\n",
       "      <th>smoke</th>\n",
       "      <th>alco</th>\n",
       "      <th>active</th>\n",
       "      <th>cardio</th>\n",
       "    </tr>\n",
       "  </thead>\n",
       "  <tbody>\n",
       "    <tr>\n",
       "      <th>count</th>\n",
       "      <td>70000.000000</td>\n",
       "      <td>70000.000000</td>\n",
       "      <td>70000.000000</td>\n",
       "      <td>70000.000000</td>\n",
       "      <td>70000.000000</td>\n",
       "      <td>70000.000000</td>\n",
       "      <td>70000.000000</td>\n",
       "      <td>70000.000000</td>\n",
       "      <td>70000.000000</td>\n",
       "      <td>70000.000000</td>\n",
       "      <td>70000.000000</td>\n",
       "      <td>70000.000000</td>\n",
       "    </tr>\n",
       "    <tr>\n",
       "      <th>mean</th>\n",
       "      <td>19468.865814</td>\n",
       "      <td>1.349571</td>\n",
       "      <td>164.359229</td>\n",
       "      <td>74.205690</td>\n",
       "      <td>128.817286</td>\n",
       "      <td>96.630414</td>\n",
       "      <td>1.366871</td>\n",
       "      <td>1.226457</td>\n",
       "      <td>0.088129</td>\n",
       "      <td>0.053771</td>\n",
       "      <td>0.803729</td>\n",
       "      <td>0.499700</td>\n",
       "    </tr>\n",
       "    <tr>\n",
       "      <th>std</th>\n",
       "      <td>2467.251667</td>\n",
       "      <td>0.476838</td>\n",
       "      <td>8.210126</td>\n",
       "      <td>14.395757</td>\n",
       "      <td>154.011419</td>\n",
       "      <td>188.472530</td>\n",
       "      <td>0.680250</td>\n",
       "      <td>0.572270</td>\n",
       "      <td>0.283484</td>\n",
       "      <td>0.225568</td>\n",
       "      <td>0.397179</td>\n",
       "      <td>0.500003</td>\n",
       "    </tr>\n",
       "    <tr>\n",
       "      <th>min</th>\n",
       "      <td>10798.000000</td>\n",
       "      <td>1.000000</td>\n",
       "      <td>55.000000</td>\n",
       "      <td>10.000000</td>\n",
       "      <td>-150.000000</td>\n",
       "      <td>-70.000000</td>\n",
       "      <td>1.000000</td>\n",
       "      <td>1.000000</td>\n",
       "      <td>0.000000</td>\n",
       "      <td>0.000000</td>\n",
       "      <td>0.000000</td>\n",
       "      <td>0.000000</td>\n",
       "    </tr>\n",
       "    <tr>\n",
       "      <th>25%</th>\n",
       "      <td>17664.000000</td>\n",
       "      <td>1.000000</td>\n",
       "      <td>159.000000</td>\n",
       "      <td>65.000000</td>\n",
       "      <td>120.000000</td>\n",
       "      <td>80.000000</td>\n",
       "      <td>1.000000</td>\n",
       "      <td>1.000000</td>\n",
       "      <td>0.000000</td>\n",
       "      <td>0.000000</td>\n",
       "      <td>1.000000</td>\n",
       "      <td>0.000000</td>\n",
       "    </tr>\n",
       "    <tr>\n",
       "      <th>50%</th>\n",
       "      <td>19703.000000</td>\n",
       "      <td>1.000000</td>\n",
       "      <td>165.000000</td>\n",
       "      <td>72.000000</td>\n",
       "      <td>120.000000</td>\n",
       "      <td>80.000000</td>\n",
       "      <td>1.000000</td>\n",
       "      <td>1.000000</td>\n",
       "      <td>0.000000</td>\n",
       "      <td>0.000000</td>\n",
       "      <td>1.000000</td>\n",
       "      <td>0.000000</td>\n",
       "    </tr>\n",
       "    <tr>\n",
       "      <th>75%</th>\n",
       "      <td>21327.000000</td>\n",
       "      <td>2.000000</td>\n",
       "      <td>170.000000</td>\n",
       "      <td>82.000000</td>\n",
       "      <td>140.000000</td>\n",
       "      <td>90.000000</td>\n",
       "      <td>2.000000</td>\n",
       "      <td>1.000000</td>\n",
       "      <td>0.000000</td>\n",
       "      <td>0.000000</td>\n",
       "      <td>1.000000</td>\n",
       "      <td>1.000000</td>\n",
       "    </tr>\n",
       "    <tr>\n",
       "      <th>max</th>\n",
       "      <td>23713.000000</td>\n",
       "      <td>2.000000</td>\n",
       "      <td>250.000000</td>\n",
       "      <td>200.000000</td>\n",
       "      <td>16020.000000</td>\n",
       "      <td>11000.000000</td>\n",
       "      <td>3.000000</td>\n",
       "      <td>3.000000</td>\n",
       "      <td>1.000000</td>\n",
       "      <td>1.000000</td>\n",
       "      <td>1.000000</td>\n",
       "      <td>1.000000</td>\n",
       "    </tr>\n",
       "  </tbody>\n",
       "</table>\n",
       "</div>"
      ],
      "text/plain": [
       "                age        gender        height        weight         ap_hi  \\\n",
       "count  70000.000000  70000.000000  70000.000000  70000.000000  70000.000000   \n",
       "mean   19468.865814      1.349571    164.359229     74.205690    128.817286   \n",
       "std     2467.251667      0.476838      8.210126     14.395757    154.011419   \n",
       "min    10798.000000      1.000000     55.000000     10.000000   -150.000000   \n",
       "25%    17664.000000      1.000000    159.000000     65.000000    120.000000   \n",
       "50%    19703.000000      1.000000    165.000000     72.000000    120.000000   \n",
       "75%    21327.000000      2.000000    170.000000     82.000000    140.000000   \n",
       "max    23713.000000      2.000000    250.000000    200.000000  16020.000000   \n",
       "\n",
       "              ap_lo   cholesterol          gluc         smoke          alco  \\\n",
       "count  70000.000000  70000.000000  70000.000000  70000.000000  70000.000000   \n",
       "mean      96.630414      1.366871      1.226457      0.088129      0.053771   \n",
       "std      188.472530      0.680250      0.572270      0.283484      0.225568   \n",
       "min      -70.000000      1.000000      1.000000      0.000000      0.000000   \n",
       "25%       80.000000      1.000000      1.000000      0.000000      0.000000   \n",
       "50%       80.000000      1.000000      1.000000      0.000000      0.000000   \n",
       "75%       90.000000      2.000000      1.000000      0.000000      0.000000   \n",
       "max    11000.000000      3.000000      3.000000      1.000000      1.000000   \n",
       "\n",
       "             active        cardio  \n",
       "count  70000.000000  70000.000000  \n",
       "mean       0.803729      0.499700  \n",
       "std        0.397179      0.500003  \n",
       "min        0.000000      0.000000  \n",
       "25%        1.000000      0.000000  \n",
       "50%        1.000000      0.000000  \n",
       "75%        1.000000      1.000000  \n",
       "max        1.000000      1.000000  "
      ]
     },
     "execution_count": 9,
     "metadata": {
      "tags": []
     },
     "output_type": "execute_result"
    }
   ],
   "source": [
    "df.describe()"
   ]
  },
  {
   "cell_type": "code",
   "execution_count": 0,
   "metadata": {
    "colab": {},
    "colab_type": "code",
    "id": "Co8fZtuq0qx5",
    "scrolled": false
   },
   "outputs": [],
   "source": [
    "df = df.apply(lambda col: col / col.max())"
   ]
  },
  {
   "cell_type": "code",
   "execution_count": 0,
   "metadata": {
    "colab": {
     "base_uri": "https://localhost:8080/",
     "height": 284
    },
    "colab_type": "code",
    "id": "EETd6Wzi0qx_",
    "outputId": "955d876a-93d0-4534-953e-1c93563a7fdb"
   },
   "outputs": [
    {
     "data": {
      "text/html": [
       "<div>\n",
       "<style scoped>\n",
       "    .dataframe tbody tr th:only-of-type {\n",
       "        vertical-align: middle;\n",
       "    }\n",
       "\n",
       "    .dataframe tbody tr th {\n",
       "        vertical-align: top;\n",
       "    }\n",
       "\n",
       "    .dataframe thead th {\n",
       "        text-align: right;\n",
       "    }\n",
       "</style>\n",
       "<table border=\"1\" class=\"dataframe\">\n",
       "  <thead>\n",
       "    <tr style=\"text-align: right;\">\n",
       "      <th></th>\n",
       "      <th>age</th>\n",
       "      <th>gender</th>\n",
       "      <th>height</th>\n",
       "      <th>weight</th>\n",
       "      <th>ap_hi</th>\n",
       "      <th>ap_lo</th>\n",
       "      <th>cholesterol</th>\n",
       "      <th>gluc</th>\n",
       "      <th>smoke</th>\n",
       "      <th>alco</th>\n",
       "      <th>active</th>\n",
       "      <th>cardio</th>\n",
       "    </tr>\n",
       "  </thead>\n",
       "  <tbody>\n",
       "    <tr>\n",
       "      <th>count</th>\n",
       "      <td>70000.000000</td>\n",
       "      <td>70000.000000</td>\n",
       "      <td>70000.000000</td>\n",
       "      <td>70000.000000</td>\n",
       "      <td>70000.000000</td>\n",
       "      <td>70000.000000</td>\n",
       "      <td>70000.000000</td>\n",
       "      <td>70000.000000</td>\n",
       "      <td>70000.000000</td>\n",
       "      <td>70000.000000</td>\n",
       "      <td>70000.000000</td>\n",
       "      <td>70000.000000</td>\n",
       "    </tr>\n",
       "    <tr>\n",
       "      <th>mean</th>\n",
       "      <td>0.821021</td>\n",
       "      <td>0.674786</td>\n",
       "      <td>0.657437</td>\n",
       "      <td>0.371028</td>\n",
       "      <td>0.008041</td>\n",
       "      <td>0.008785</td>\n",
       "      <td>0.455624</td>\n",
       "      <td>0.408819</td>\n",
       "      <td>0.088129</td>\n",
       "      <td>0.053771</td>\n",
       "      <td>0.803729</td>\n",
       "      <td>0.499700</td>\n",
       "    </tr>\n",
       "    <tr>\n",
       "      <th>std</th>\n",
       "      <td>0.104046</td>\n",
       "      <td>0.238419</td>\n",
       "      <td>0.032841</td>\n",
       "      <td>0.071979</td>\n",
       "      <td>0.009614</td>\n",
       "      <td>0.017134</td>\n",
       "      <td>0.226750</td>\n",
       "      <td>0.190757</td>\n",
       "      <td>0.283484</td>\n",
       "      <td>0.225568</td>\n",
       "      <td>0.397179</td>\n",
       "      <td>0.500003</td>\n",
       "    </tr>\n",
       "    <tr>\n",
       "      <th>min</th>\n",
       "      <td>0.455362</td>\n",
       "      <td>0.500000</td>\n",
       "      <td>0.220000</td>\n",
       "      <td>0.050000</td>\n",
       "      <td>-0.009363</td>\n",
       "      <td>-0.006364</td>\n",
       "      <td>0.333333</td>\n",
       "      <td>0.333333</td>\n",
       "      <td>0.000000</td>\n",
       "      <td>0.000000</td>\n",
       "      <td>0.000000</td>\n",
       "      <td>0.000000</td>\n",
       "    </tr>\n",
       "    <tr>\n",
       "      <th>25%</th>\n",
       "      <td>0.744908</td>\n",
       "      <td>0.500000</td>\n",
       "      <td>0.636000</td>\n",
       "      <td>0.325000</td>\n",
       "      <td>0.007491</td>\n",
       "      <td>0.007273</td>\n",
       "      <td>0.333333</td>\n",
       "      <td>0.333333</td>\n",
       "      <td>0.000000</td>\n",
       "      <td>0.000000</td>\n",
       "      <td>1.000000</td>\n",
       "      <td>0.000000</td>\n",
       "    </tr>\n",
       "    <tr>\n",
       "      <th>50%</th>\n",
       "      <td>0.830894</td>\n",
       "      <td>0.500000</td>\n",
       "      <td>0.660000</td>\n",
       "      <td>0.360000</td>\n",
       "      <td>0.007491</td>\n",
       "      <td>0.007273</td>\n",
       "      <td>0.333333</td>\n",
       "      <td>0.333333</td>\n",
       "      <td>0.000000</td>\n",
       "      <td>0.000000</td>\n",
       "      <td>1.000000</td>\n",
       "      <td>0.000000</td>\n",
       "    </tr>\n",
       "    <tr>\n",
       "      <th>75%</th>\n",
       "      <td>0.899380</td>\n",
       "      <td>1.000000</td>\n",
       "      <td>0.680000</td>\n",
       "      <td>0.410000</td>\n",
       "      <td>0.008739</td>\n",
       "      <td>0.008182</td>\n",
       "      <td>0.666667</td>\n",
       "      <td>0.333333</td>\n",
       "      <td>0.000000</td>\n",
       "      <td>0.000000</td>\n",
       "      <td>1.000000</td>\n",
       "      <td>1.000000</td>\n",
       "    </tr>\n",
       "    <tr>\n",
       "      <th>max</th>\n",
       "      <td>1.000000</td>\n",
       "      <td>1.000000</td>\n",
       "      <td>1.000000</td>\n",
       "      <td>1.000000</td>\n",
       "      <td>1.000000</td>\n",
       "      <td>1.000000</td>\n",
       "      <td>1.000000</td>\n",
       "      <td>1.000000</td>\n",
       "      <td>1.000000</td>\n",
       "      <td>1.000000</td>\n",
       "      <td>1.000000</td>\n",
       "      <td>1.000000</td>\n",
       "    </tr>\n",
       "  </tbody>\n",
       "</table>\n",
       "</div>"
      ],
      "text/plain": [
       "                age        gender        height        weight         ap_hi  \\\n",
       "count  70000.000000  70000.000000  70000.000000  70000.000000  70000.000000   \n",
       "mean       0.821021      0.674786      0.657437      0.371028      0.008041   \n",
       "std        0.104046      0.238419      0.032841      0.071979      0.009614   \n",
       "min        0.455362      0.500000      0.220000      0.050000     -0.009363   \n",
       "25%        0.744908      0.500000      0.636000      0.325000      0.007491   \n",
       "50%        0.830894      0.500000      0.660000      0.360000      0.007491   \n",
       "75%        0.899380      1.000000      0.680000      0.410000      0.008739   \n",
       "max        1.000000      1.000000      1.000000      1.000000      1.000000   \n",
       "\n",
       "              ap_lo   cholesterol          gluc         smoke          alco  \\\n",
       "count  70000.000000  70000.000000  70000.000000  70000.000000  70000.000000   \n",
       "mean       0.008785      0.455624      0.408819      0.088129      0.053771   \n",
       "std        0.017134      0.226750      0.190757      0.283484      0.225568   \n",
       "min       -0.006364      0.333333      0.333333      0.000000      0.000000   \n",
       "25%        0.007273      0.333333      0.333333      0.000000      0.000000   \n",
       "50%        0.007273      0.333333      0.333333      0.000000      0.000000   \n",
       "75%        0.008182      0.666667      0.333333      0.000000      0.000000   \n",
       "max        1.000000      1.000000      1.000000      1.000000      1.000000   \n",
       "\n",
       "             active        cardio  \n",
       "count  70000.000000  70000.000000  \n",
       "mean       0.803729      0.499700  \n",
       "std        0.397179      0.500003  \n",
       "min        0.000000      0.000000  \n",
       "25%        1.000000      0.000000  \n",
       "50%        1.000000      0.000000  \n",
       "75%        1.000000      1.000000  \n",
       "max        1.000000      1.000000  "
      ]
     },
     "execution_count": 167,
     "metadata": {
      "tags": []
     },
     "output_type": "execute_result"
    }
   ],
   "source": [
    "df.describe()"
   ]
  },
  {
   "cell_type": "code",
   "execution_count": 0,
   "metadata": {
    "colab": {
     "base_uri": "https://localhost:8080/",
     "height": 364
    },
    "colab_type": "code",
    "id": "BWr541UQ0qyE",
    "outputId": "c07b201d-4dbc-439c-c651-4025eeb83fe7"
   },
   "outputs": [
    {
     "data": {
      "text/plain": [
       "<matplotlib.axes._subplots.AxesSubplot at 0x7f1028cca828>"
      ]
     },
     "execution_count": 10,
     "metadata": {
      "tags": []
     },
     "output_type": "execute_result"
    },
    {
     "data": {
      "image/png": "[encoded data removed]",
      "text/plain": [
       "<Figure size 576x396 with 2 Axes>"
      ]
     },
     "metadata": {
      "tags": []
     },
     "output_type": "display_data"
    }
   ],
   "source": [
    "sns.heatmap(df.drop(axis=1, columns=['gender', 'smoke', 'alco', 'active', 'cardio', 'cholesterol', 'gluc']).corr(), annot=True, cmap='viridis')"
   ]
  },
  {
   "cell_type": "code",
   "execution_count": 0,
   "metadata": {
    "colab": {
     "base_uri": "https://localhost:8080/",
     "height": 347
    },
    "colab_type": "code",
    "id": "UgkKJChH0qyK",
    "outputId": "d42c9976-0562-4a46-95de-a187fd326a87"
   },
   "outputs": [
    {
     "data": {
      "image/png": "[encoded data removed]",
      "text/plain": [
       "<Figure size 576x396 with 1 Axes>"
      ]
     },
     "metadata": {
      "tags": []
     },
     "output_type": "display_data"
    }
   ],
   "source": [
    "plt.hist(df.cardio)\n",
    "plt.show()"
   ]
  },
  {
   "cell_type": "code",
   "execution_count": 0,
   "metadata": {
    "colab": {
     "base_uri": "https://localhost:8080/",
     "height": 411
    },
    "colab_type": "code",
    "id": "MpFnMmaV0qyP",
    "outputId": "a07a0ddf-e9af-47f2-90e8-563207ca15fd"
   },
   "outputs": [
    {
     "name": "stderr",
     "output_type": "stream",
     "text": [
      "/usr/local/lib/python3.6/dist-packages/seaborn/categorical.py:1468: FutureWarning: remove_na is deprecated and is a private function. Do not use.\n",
      "  stat_data = remove_na(group_data[hue_mask])\n"
     ]
    },
    {
     "data": {
      "text/plain": [
       "<matplotlib.axes._subplots.AxesSubplot at 0x7f0fc68c7f60>"
      ]
     },
     "execution_count": 159,
     "metadata": {
      "tags": []
     },
     "output_type": "execute_result"
    },
    {
     "data": {
      "image/png": "[encoded data removed]",
      "text/plain": [
       "<Figure size 576x396 with 1 Axes>"
      ]
     },
     "metadata": {
      "tags": []
     },
     "output_type": "display_data"
    }
   ],
   "source": [
    "bin_features_list = ['gender', 'smoke', 'alco', 'active']\n",
    "\n",
    "rest_df = df.drop(bin_features_list, axis=1)\n",
    "\n",
    "bin_features = df[[*bin_features_list, 'cardio']]\n",
    "\n",
    "sns.countplot(x=\"cardio\", hue=\"smoke\", data=bin_features)"
   ]
  },
  {
   "cell_type": "code",
   "execution_count": 0,
   "metadata": {
    "colab": {
     "base_uri": "https://localhost:8080/",
     "height": 411
    },
    "colab_type": "code",
    "id": "WqNrkfKz0qyW",
    "outputId": "665d7ccb-ad15-4b4e-8d8c-9a56a33fd558"
   },
   "outputs": [
    {
     "name": "stderr",
     "output_type": "stream",
     "text": [
      "/usr/local/lib/python3.6/dist-packages/seaborn/categorical.py:1468: FutureWarning: remove_na is deprecated and is a private function. Do not use.\n",
      "  stat_data = remove_na(group_data[hue_mask])\n"
     ]
    },
    {
     "data": {
      "text/plain": [
       "<matplotlib.axes._subplots.AxesSubplot at 0x7f0fc69024a8>"
      ]
     },
     "execution_count": 160,
     "metadata": {
      "tags": []
     },
     "output_type": "execute_result"
    },
    {
     "data": {
      "image/png": "[encoded data removed]",
      "text/plain": [
       "<Figure size 576x396 with 1 Axes>"
      ]
     },
     "metadata": {
      "tags": []
     },
     "output_type": "display_data"
    }
   ],
   "source": [
    "sns.countplot(x=\"cardio\", hue=\"alco\", data=bin_features)"
   ]
  },
  {
   "cell_type": "code",
   "execution_count": 0,
   "metadata": {
    "colab": {
     "base_uri": "https://localhost:8080/",
     "height": 414
    },
    "colab_type": "code",
    "id": "ZW9CsRU-0qyc",
    "outputId": "eafd704b-4ef8-4f77-e335-626185118ea5"
   },
   "outputs": [
    {
     "name": "stderr",
     "output_type": "stream",
     "text": [
      "/usr/local/lib/python3.6/dist-packages/seaborn/categorical.py:1468: FutureWarning: remove_na is deprecated and is a private function. Do not use.\n",
      "  stat_data = remove_na(group_data[hue_mask])\n"
     ]
    },
    {
     "data": {
      "text/plain": [
       "<matplotlib.axes._subplots.AxesSubplot at 0x7f0fc6862e10>"
      ]
     },
     "execution_count": 161,
     "metadata": {
      "tags": []
     },
     "output_type": "execute_result"
    },
    {
     "data": {
      "image/png": "[encoded data removed]",
      "text/plain": [
       "<Figure size 576x396 with 1 Axes>"
      ]
     },
     "metadata": {
      "tags": []
     },
     "output_type": "display_data"
    }
   ],
   "source": [
    "sns.countplot(x=\"cardio\", hue=\"active\", data=bin_features)"
   ]
  },
  {
   "cell_type": "code",
   "execution_count": 0,
   "metadata": {
    "colab": {
     "base_uri": "https://localhost:8080/",
     "height": 411
    },
    "colab_type": "code",
    "id": "z0gTQj3f0qyj",
    "outputId": "cf178aeb-472d-4d03-8614-4f289ff7a30d"
   },
   "outputs": [
    {
     "name": "stderr",
     "output_type": "stream",
     "text": [
      "/usr/local/lib/python3.6/dist-packages/seaborn/categorical.py:1468: FutureWarning: remove_na is deprecated and is a private function. Do not use.\n",
      "  stat_data = remove_na(group_data[hue_mask])\n"
     ]
    },
    {
     "data": {
      "text/plain": [
       "<matplotlib.axes._subplots.AxesSubplot at 0x7f0fc683ed68>"
      ]
     },
     "execution_count": 162,
     "metadata": {
      "tags": []
     },
     "output_type": "execute_result"
    },
    {
     "data": {
      "image/png": "[encoded data removed]",
      "text/plain": [
       "<Figure size 576x396 with 1 Axes>"
      ]
     },
     "metadata": {
      "tags": []
     },
     "output_type": "display_data"
    }
   ],
   "source": [
    "sns.countplot(x=\"cardio\", hue=\"gender\", data=bin_features)"
   ]
  },
  {
   "cell_type": "code",
   "execution_count": 0,
   "metadata": {
    "colab": {
     "base_uri": "https://localhost:8080/",
     "height": 195
    },
    "colab_type": "code",
    "id": "iYKipXof0qyq",
    "outputId": "f8cebafc-a34d-4e77-8bd0-9b2999261eb2"
   },
   "outputs": [
    {
     "data": {
      "text/html": [
       "<div>\n",
       "<style scoped>\n",
       "    .dataframe tbody tr th:only-of-type {\n",
       "        vertical-align: middle;\n",
       "    }\n",
       "\n",
       "    .dataframe tbody tr th {\n",
       "        vertical-align: top;\n",
       "    }\n",
       "\n",
       "    .dataframe thead th {\n",
       "        text-align: right;\n",
       "    }\n",
       "</style>\n",
       "<table border=\"1\" class=\"dataframe\">\n",
       "  <thead>\n",
       "    <tr style=\"text-align: right;\">\n",
       "      <th></th>\n",
       "      <th>age</th>\n",
       "      <th>height</th>\n",
       "      <th>weight</th>\n",
       "      <th>ap_hi</th>\n",
       "      <th>ap_lo</th>\n",
       "      <th>cholesterol</th>\n",
       "      <th>gluc</th>\n",
       "      <th>cardio</th>\n",
       "    </tr>\n",
       "  </thead>\n",
       "  <tbody>\n",
       "    <tr>\n",
       "      <th>0</th>\n",
       "      <td>18393</td>\n",
       "      <td>168</td>\n",
       "      <td>62.0</td>\n",
       "      <td>110</td>\n",
       "      <td>80</td>\n",
       "      <td>1</td>\n",
       "      <td>1</td>\n",
       "      <td>0</td>\n",
       "    </tr>\n",
       "    <tr>\n",
       "      <th>1</th>\n",
       "      <td>20228</td>\n",
       "      <td>156</td>\n",
       "      <td>85.0</td>\n",
       "      <td>140</td>\n",
       "      <td>90</td>\n",
       "      <td>3</td>\n",
       "      <td>1</td>\n",
       "      <td>1</td>\n",
       "    </tr>\n",
       "    <tr>\n",
       "      <th>2</th>\n",
       "      <td>18857</td>\n",
       "      <td>165</td>\n",
       "      <td>64.0</td>\n",
       "      <td>130</td>\n",
       "      <td>70</td>\n",
       "      <td>3</td>\n",
       "      <td>1</td>\n",
       "      <td>1</td>\n",
       "    </tr>\n",
       "    <tr>\n",
       "      <th>3</th>\n",
       "      <td>17623</td>\n",
       "      <td>169</td>\n",
       "      <td>82.0</td>\n",
       "      <td>150</td>\n",
       "      <td>100</td>\n",
       "      <td>1</td>\n",
       "      <td>1</td>\n",
       "      <td>1</td>\n",
       "    </tr>\n",
       "    <tr>\n",
       "      <th>4</th>\n",
       "      <td>17474</td>\n",
       "      <td>156</td>\n",
       "      <td>56.0</td>\n",
       "      <td>100</td>\n",
       "      <td>60</td>\n",
       "      <td>1</td>\n",
       "      <td>1</td>\n",
       "      <td>0</td>\n",
       "    </tr>\n",
       "  </tbody>\n",
       "</table>\n",
       "</div>"
      ],
      "text/plain": [
       "     age  height  weight  ap_hi  ap_lo  cholesterol  gluc  cardio\n",
       "0  18393     168    62.0    110     80            1     1       0\n",
       "1  20228     156    85.0    140     90            3     1       1\n",
       "2  18857     165    64.0    130     70            3     1       1\n",
       "3  17623     169    82.0    150    100            1     1       1\n",
       "4  17474     156    56.0    100     60            1     1       0"
      ]
     },
     "execution_count": 163,
     "metadata": {
      "tags": []
     },
     "output_type": "execute_result"
    }
   ],
   "source": [
    "rest_df.head()"
   ]
  },
  {
   "cell_type": "code",
   "execution_count": 0,
   "metadata": {
    "colab": {
     "base_uri": "https://localhost:8080/",
     "height": 411
    },
    "colab_type": "code",
    "id": "YmDomuce0qyv",
    "outputId": "63ed5ee8-1245-4028-bfbe-e96e85f17239"
   },
   "outputs": [
    {
     "name": "stderr",
     "output_type": "stream",
     "text": [
      "/usr/local/lib/python3.6/dist-packages/seaborn/categorical.py:1468: FutureWarning: remove_na is deprecated and is a private function. Do not use.\n",
      "  stat_data = remove_na(group_data[hue_mask])\n"
     ]
    },
    {
     "data": {
      "text/plain": [
       "<matplotlib.axes._subplots.AxesSubplot at 0x7f0fc67929b0>"
      ]
     },
     "execution_count": 164,
     "metadata": {
      "tags": []
     },
     "output_type": "execute_result"
    },
    {
     "data": {
      "image/png": "[encoded data removed]",
      "text/plain": [
       "<Figure size 576x396 with 1 Axes>"
      ]
     },
     "metadata": {
      "tags": []
     },
     "output_type": "display_data"
    }
   ],
   "source": [
    "sns.countplot(x=\"cardio\", hue=\"gluc\", data=rest_df)"
   ]
  },
  {
   "cell_type": "code",
   "execution_count": 0,
   "metadata": {
    "colab": {
     "base_uri": "https://localhost:8080/",
     "height": 411
    },
    "colab_type": "code",
    "id": "3_QPkWHU0qy6",
    "outputId": "1a4d1fab-c924-4ffc-f659-9885a7764280",
    "scrolled": false
   },
   "outputs": [
    {
     "name": "stderr",
     "output_type": "stream",
     "text": [
      "/usr/local/lib/python3.6/dist-packages/seaborn/categorical.py:1468: FutureWarning: remove_na is deprecated and is a private function. Do not use.\n",
      "  stat_data = remove_na(group_data[hue_mask])\n"
     ]
    },
    {
     "data": {
      "text/plain": [
       "<matplotlib.axes._subplots.AxesSubplot at 0x7f0fc6770320>"
      ]
     },
     "execution_count": 165,
     "metadata": {
      "tags": []
     },
     "output_type": "execute_result"
    },
    {
     "data": {
      "image/png": "[encoded data removed]",
      "text/plain": [
       "<Figure size 576x396 with 1 Axes>"
      ]
     },
     "metadata": {
      "tags": []
     },
     "output_type": "display_data"
    }
   ],
   "source": [
    "sns.countplot(x=\"cardio\", hue=\"cholesterol\", data=rest_df)"
   ]
  },
  {
   "cell_type": "code",
   "execution_count": 0,
   "metadata": {
    "colab": {},
    "colab_type": "code",
    "id": "zxXXJxBa3qUB"
   },
   "outputs": [],
   "source": [
    "X = df.drop('cardio', axis=1)[['cholesterol', 'ap_lo', 'ap_hi', 'gluc']].values\n",
    "y = df['cardio'].values\n",
    "X_train, X_test, y_train, y_test = train_test_split(X, y, test_size=0.2, random_state=42)"
   ]
  },
  {
   "cell_type": "markdown",
   "metadata": {
    "colab_type": "text",
    "id": "GyiLczpZ0qzF"
   },
   "source": [
    "# Comparing algorithms"
   ]
  },
  {
   "cell_type": "markdown",
   "metadata": {
    "colab_type": "text",
    "id": "tvmxUqoOjwWF"
   },
   "source": [
    "## KNN"
   ]
  },
  {
   "cell_type": "code",
   "execution_count": 0,
   "metadata": {
    "colab": {
     "base_uri": "https://localhost:8080/",
     "height": 218
    },
    "colab_type": "code",
    "id": "tcaPrINv0qzH",
    "outputId": "6cae4c5e-80f8-4ad6-efde-01154833dc7e"
   },
   "outputs": [
    {
     "name": "stdout",
     "output_type": "stream",
     "text": [
      "K = 3:\n",
      "\tMean: 70.62 +/- (3.316)\n",
      "K = 5:\n",
      "\tMean: 69.9 +/- (4.049)\n",
      "K = 7:\n",
      "\tMean: 71.08 +/- (3.467)\n",
      "K = 9:\n",
      "\tMean: 70.93 +/- (3.519)\n",
      "K = 11:\n",
      "\tMean: 71.03 +/- (3.438)\n",
      "K = 13:\n",
      "\tMean: 71.06 +/- (3.533)\n"
     ]
    }
   ],
   "source": [
    "knn = KNeighborsClassifier()\n",
    "\n",
    "\n",
    "def gen_knn(k): return KNeighborsClassifier(n_neighbors=k)\n",
    "\n",
    "Ks = Observable.from_(range(3, 15, 2))\n",
    "\n",
    "knn_test = rands_trees_num.map(gen_knn)\\\n",
    "  .map(methodcaller('fit', X_train, y_train))\\\n",
    "  .map(lambda clf: cross_val_score(clf, X, y, cv=10))\\\n",
    "  .zip(Ks, lambda scores, tree_num: (tree_num, scores.mean(), scores.std()))\\\n",
    "  .subscribe(lambda vals: print(f'K = {vals[0]}:\\n\\tMean: {vals[1]* 100:.4} +/- ({vals[2]* 100:.4})'))\n",
    "\n",
    "knn_test.dispose()"
   ]
  },
  {
   "cell_type": "markdown",
   "metadata": {
    "colab_type": "text",
    "id": "_JOhYcBY0qzg"
   },
   "source": [
    "## Decision Trees"
   ]
  },
  {
   "cell_type": "code",
   "execution_count": 0,
   "metadata": {
    "colab": {
     "base_uri": "https://localhost:8080/",
     "height": 168
    },
    "colab_type": "code",
    "id": "6u5nWZ9H0qzi",
    "outputId": "e7a26746-1f0e-436f-b626-468ada89e1dc"
   },
   "outputs": [
    {
     "name": "stdout",
     "output_type": "stream",
     "text": [
      "Gini tree\n",
      "2 Samples/level:\n",
      "\tMean: 72.13 +/- (0.3333)\n",
      "3 Samples/level:\n",
      "\tMean: 72.11 +/- (0.3459)\n",
      "4 Samples/level:\n",
      "\tMean: 72.11 +/- (0.3573)\n",
      "5 Samples/level:\n",
      "\tMean: 72.1 +/- (0.3471)\n"
     ]
    }
   ],
   "source": [
    "def gen_gini_tree(samples_num): return DecisionTreeClassifier(min_samples_split=samples_num)\n",
    "\n",
    "\n",
    "def gen_entropy_tree(samples_num): return DecisionTreeClassifier(min_samples_split=samples_num, criterion='entropy')\n",
    "\n",
    "\n",
    "samples_num = Observable.range(2, 4)\n",
    "\n",
    "print(\"Gini tree\")\n",
    "\n",
    "trees_test = samples_num.map(gen_gini_tree)\\\n",
    "  .map(methodcaller('fit', X_train, y_train))\\\n",
    "  .map(lambda clf: cross_val_score(clf, X, y, cv=10))\\\n",
    "  .zip(samples_num, lambda scores, tree_num: (tree_num, scores.mean(), scores.std()))\\\n",
    "  .subscribe(lambda vals: print(f'{vals[0]} Samples/level:\\n\\tMean: {vals[1]* 100:.4} +/- ({vals[2]* 100:.4})'))\n",
    "\n",
    "trees_test.dispose()"
   ]
  },
  {
   "cell_type": "code",
   "execution_count": 0,
   "metadata": {
    "colab": {
     "base_uri": "https://localhost:8080/",
     "height": 168
    },
    "colab_type": "code",
    "id": "bQHV5a1HeNXA",
    "outputId": "17670e14-5896-4b5b-d386-09ec413ad73f"
   },
   "outputs": [
    {
     "name": "stdout",
     "output_type": "stream",
     "text": [
      "Entropy tree\n",
      "2 Samples/level:\n",
      "\tMean: 72.14 +/- (0.3391)\n",
      "3 Samples/level:\n",
      "\tMean: 72.11 +/- (0.3523)\n",
      "4 Samples/level:\n",
      "\tMean: 72.12 +/- (0.3561)\n",
      "5 Samples/level:\n",
      "\tMean: 72.11 +/- (0.349)\n"
     ]
    }
   ],
   "source": [
    "print(\"Entropy tree\")\n",
    "\n",
    "trees_test = samples_num.map(gen_entropy_tree)\\\n",
    "  .map(methodcaller('fit', X_train, y_train))\\\n",
    "  .map(lambda clf: cross_val_score(clf, X, y, cv=10))\\\n",
    "  .zip(samples_num, lambda scores, tree_num: (tree_num, scores.mean(), scores.std()))\\\n",
    "  .subscribe(lambda vals: print(f'{vals[0]} Samples/level:\\n\\tMean: {vals[1]* 100:.4} +/- ({vals[2]* 100:.4})'))\n",
    "\n",
    "trees_test.dispose()"
   ]
  },
  {
   "cell_type": "code",
   "execution_count": 26,
   "metadata": {
    "colab": {
     "base_uri": "https://localhost:8080/",
     "height": 168
    },
    "colab_type": "code",
    "id": "9C1oWXDvr16C",
    "outputId": "93ef4ead-af9b-4b0d-bd76-7398b5f42802"
   },
   "outputs": [
    {
     "name": "stdout",
     "output_type": "stream",
     "text": [
      "Testing multiple max_depths\n",
      "Max depth 2:\n",
      "\tMean: 72.58 +/- (0.3866)\n",
      "Max depth 3:\n",
      "\tMean: 72.58 +/- (0.3866)\n",
      "Max depth 4:\n",
      "\tMean: 72.56 +/- (0.3726)\n",
      "Max depth 5:\n",
      "\tMean: 72.54 +/- (0.3927)\n"
     ]
    }
   ],
   "source": [
    "print(\"Testing multiple max_depths\")\n",
    "\n",
    "def gen_tree_depth(max_depth): return DecisionTreeClassifier(max_depth=max_depth)\n",
    "\n",
    "depth_num = Observable.range(2, 4)\n",
    "\n",
    "trees_test = depth_num.map(gen_tree_depth)\\\n",
    "  .map(methodcaller('fit', X_train, y_train))\\\n",
    "  .map(lambda clf: cross_val_score(clf, X, y, cv=10))\\\n",
    "  .zip(depth_num, lambda scores, tree_num: (tree_num, scores.mean(), scores.std()))\\\n",
    "  .subscribe(lambda vals: print(f'Max depth {vals[0]}:\\n\\tMean: {vals[1]* 100:.4} +/- ({vals[2]* 100:.4})'))\n",
    "\n",
    "trees_test.dispose()"
   ]
  },
  {
   "cell_type": "code",
   "execution_count": 27,
   "metadata": {
    "colab": {
     "base_uri": "https://localhost:8080/",
     "height": 34
    },
    "colab_type": "code",
    "id": "4CR_RqvPqBSy",
    "outputId": "1176f306-7306-43d8-a278-99609dd819ac"
   },
   "outputs": [
    {
     "data": {
      "text/plain": [
       "0.7297142857142858"
      ]
     },
     "execution_count": 27,
     "metadata": {
      "tags": []
     },
     "output_type": "execute_result"
    }
   ],
   "source": [
    "tree_example = DecisionTreeClassifier(max_depth=3)\n",
    "tree_example.fit(X_train, y_train)\n",
    "tree_example.score(X_test, y_test)"
   ]
  },
  {
   "cell_type": "code",
   "execution_count": 28,
   "metadata": {
    "colab": {
     "base_uri": "https://localhost:8080/",
     "height": 618
    },
    "colab_type": "code",
    "id": "Ydw3OKjxrr4h",
    "outputId": "b90a7bcd-92da-46de-c929-c0ab8119acaa"
   },
   "outputs": [
    {
     "data": {
      "image/svg+xml": [
       "<?xml version=\"1.0\" encoding=\"UTF-8\" standalone=\"no\"?>\n",
       "<!DOCTYPE svg PUBLIC \"-//W3C//DTD SVG 1.1//EN\"\n",
       " \"http://www.w3.org/Graphics/SVG/1.1/DTD/svg11.dtd\">\n",
       "<!-- Generated by graphviz version 2.40.1 (20161225.0304)\n",
       " -->\n",
       "<!-- Title: Tree Pages: 1 -->\n",
       "<svg width=\"1293pt\" height=\"433pt\"\n",
       " viewBox=\"0.00 0.00 1293.00 433.00\" xmlns=\"http://www.w3.org/2000/svg\" xmlns:xlink=\"http://www.w3.org/1999/xlink\">\n",
       "<g id=\"graph0\" class=\"graph\" transform=\"scale(1 1) rotate(0) translate(4 429)\">\n",
       "<title>Tree</title>\n",
       "<polygon fill=\"#ffffff\" stroke=\"transparent\" points=\"-4,4 -4,-429 1289,-429 1289,4 -4,4\"/>\n",
       "<!-- 0 -->\n",
       "<g id=\"node1\" class=\"node\">\n",
       "<title>0</title>\n",
       "<path fill=\"#e58139\" fill-opacity=\"0.003922\" stroke=\"#000000\" d=\"M698,-425C698,-425 557,-425 557,-425 551,-425 545,-419 545,-413 545,-413 545,-354 545,-354 545,-348 551,-342 557,-342 557,-342 698,-342 698,-342 704,-342 710,-348 710,-354 710,-354 710,-413 710,-413 710,-419 704,-425 698,-425\"/>\n",
       "<text text-anchor=\"start\" x=\"583.5\" y=\"-409.8\" font-family=\"Helvetica,sans-Serif\" font-size=\"14.00\" fill=\"#000000\">ap_hi ≤ 0.008</text>\n",
       "<text text-anchor=\"start\" x=\"598\" y=\"-394.8\" font-family=\"Helvetica,sans-Serif\" font-size=\"14.00\" fill=\"#000000\">gini = 0.5</text>\n",
       "<text text-anchor=\"start\" x=\"571.5\" y=\"-379.8\" font-family=\"Helvetica,sans-Serif\" font-size=\"14.00\" fill=\"#000000\">samples = 56000</text>\n",
       "<text text-anchor=\"start\" x=\"553\" y=\"-364.8\" font-family=\"Helvetica,sans-Serif\" font-size=\"14.00\" fill=\"#000000\">value = [28033, 27967]</text>\n",
       "<text text-anchor=\"start\" x=\"575.5\" y=\"-349.8\" font-family=\"Helvetica,sans-Serif\" font-size=\"14.00\" fill=\"#000000\">class = N cardio</text>\n",
       "</g>\n",
       "<!-- 1 -->\n",
       "<g id=\"node2\" class=\"node\">\n",
       "<title>1</title>\n",
       "<path fill=\"#e58139\" fill-opacity=\"0.533333\" stroke=\"#000000\" d=\"M546,-306C546,-306 405,-306 405,-306 399,-306 393,-300 393,-294 393,-294 393,-235 393,-235 393,-229 399,-223 405,-223 405,-223 546,-223 546,-223 552,-223 558,-229 558,-235 558,-235 558,-294 558,-294 558,-300 552,-306 546,-306\"/>\n",
       "<text text-anchor=\"start\" x=\"414\" y=\"-290.8\" font-family=\"Helvetica,sans-Serif\" font-size=\"14.00\" fill=\"#000000\">cholesterol ≤ 0.833</text>\n",
       "<text text-anchor=\"start\" x=\"437.5\" y=\"-275.8\" font-family=\"Helvetica,sans-Serif\" font-size=\"14.00\" fill=\"#000000\">gini = 0.434</text>\n",
       "<text text-anchor=\"start\" x=\"419.5\" y=\"-260.8\" font-family=\"Helvetica,sans-Serif\" font-size=\"14.00\" fill=\"#000000\">samples = 33091</text>\n",
       "<text text-anchor=\"start\" x=\"401\" y=\"-245.8\" font-family=\"Helvetica,sans-Serif\" font-size=\"14.00\" fill=\"#000000\">value = [22537, 10554]</text>\n",
       "<text text-anchor=\"start\" x=\"423.5\" y=\"-230.8\" font-family=\"Helvetica,sans-Serif\" font-size=\"14.00\" fill=\"#000000\">class = N cardio</text>\n",
       "</g>\n",
       "<!-- 0&#45;&gt;1 -->\n",
       "<g id=\"edge1\" class=\"edge\">\n",
       "<title>0&#45;&gt;1</title>\n",
       "<path fill=\"none\" stroke=\"#000000\" d=\"M574.3378,-341.8796C562.1885,-332.368 549.1808,-322.1843 536.724,-312.432\"/>\n",
       "<polygon fill=\"#000000\" stroke=\"#000000\" points=\"538.6638,-309.5055 528.6322,-306.0969 534.3486,-315.0173 538.6638,-309.5055\"/>\n",
       "<text text-anchor=\"middle\" x=\"531.6542\" y=\"-327.2136\" font-family=\"Helvetica,sans-Serif\" font-size=\"14.00\" fill=\"#000000\">True</text>\n",
       "</g>\n",
       "<!-- 8 -->\n",
       "<g id=\"node9\" class=\"node\">\n",
       "<title>8</title>\n",
       "<path fill=\"#399de5\" fill-opacity=\"0.686275\" stroke=\"#000000\" d=\"M861,-306C861,-306 728,-306 728,-306 722,-306 716,-300 716,-294 716,-294 716,-235 716,-235 716,-229 722,-223 728,-223 728,-223 861,-223 861,-223 867,-223 873,-229 873,-235 873,-235 873,-294 873,-294 873,-300 867,-306 861,-306\"/>\n",
       "<text text-anchor=\"start\" x=\"750.5\" y=\"-290.8\" font-family=\"Helvetica,sans-Serif\" font-size=\"14.00\" fill=\"#000000\">ap_hi ≤ 0.009</text>\n",
       "<text text-anchor=\"start\" x=\"756.5\" y=\"-275.8\" font-family=\"Helvetica,sans-Serif\" font-size=\"14.00\" fill=\"#000000\">gini = 0.365</text>\n",
       "<text text-anchor=\"start\" x=\"738.5\" y=\"-260.8\" font-family=\"Helvetica,sans-Serif\" font-size=\"14.00\" fill=\"#000000\">samples = 22909</text>\n",
       "<text text-anchor=\"start\" x=\"724\" y=\"-245.8\" font-family=\"Helvetica,sans-Serif\" font-size=\"14.00\" fill=\"#000000\">value = [5496, 17413]</text>\n",
       "<text text-anchor=\"start\" x=\"748\" y=\"-230.8\" font-family=\"Helvetica,sans-Serif\" font-size=\"14.00\" fill=\"#000000\">class = Cardio</text>\n",
       "</g>\n",
       "<!-- 0&#45;&gt;8 -->\n",
       "<g id=\"edge8\" class=\"edge\">\n",
       "<title>0&#45;&gt;8</title>\n",
       "<path fill=\"none\" stroke=\"#000000\" d=\"M685.9085,-341.8796C699.3839,-332.2774 713.8203,-321.9903 727.625,-312.1534\"/>\n",
       "<polygon fill=\"#000000\" stroke=\"#000000\" points=\"730.0117,-314.7505 736.1245,-306.0969 725.9494,-309.0497 730.0117,-314.7505\"/>\n",
       "<text text-anchor=\"middle\" x=\"731.9866\" y=\"-327.0521\" font-family=\"Helvetica,sans-Serif\" font-size=\"14.00\" fill=\"#000000\">False</text>\n",
       "</g>\n",
       "<!-- 2 -->\n",
       "<g id=\"node3\" class=\"node\">\n",
       "<title>2</title>\n",
       "<path fill=\"#e58139\" fill-opacity=\"0.580392\" stroke=\"#000000\" d=\"M312,-187C312,-187 179,-187 179,-187 173,-187 167,-181 167,-175 167,-175 167,-116 167,-116 167,-110 173,-104 179,-104 179,-104 312,-104 312,-104 318,-104 324,-110 324,-116 324,-116 324,-175 324,-175 324,-181 318,-187 312,-187\"/>\n",
       "<text text-anchor=\"start\" x=\"201.5\" y=\"-171.8\" font-family=\"Helvetica,sans-Serif\" font-size=\"14.00\" fill=\"#000000\">ap_hi ≤ 0.007</text>\n",
       "<text text-anchor=\"start\" x=\"207.5\" y=\"-156.8\" font-family=\"Helvetica,sans-Serif\" font-size=\"14.00\" fill=\"#000000\">gini = 0.417</text>\n",
       "<text text-anchor=\"start\" x=\"189.5\" y=\"-141.8\" font-family=\"Helvetica,sans-Serif\" font-size=\"14.00\" fill=\"#000000\">samples = 30922</text>\n",
       "<text text-anchor=\"start\" x=\"175\" y=\"-126.8\" font-family=\"Helvetica,sans-Serif\" font-size=\"14.00\" fill=\"#000000\">value = [21772, 9150]</text>\n",
       "<text text-anchor=\"start\" x=\"193.5\" y=\"-111.8\" font-family=\"Helvetica,sans-Serif\" font-size=\"14.00\" fill=\"#000000\">class = N cardio</text>\n",
       "</g>\n",
       "<!-- 1&#45;&gt;2 -->\n",
       "<g id=\"edge2\" class=\"edge\">\n",
       "<title>1&#45;&gt;2</title>\n",
       "<path fill=\"none\" stroke=\"#000000\" d=\"M395.0572,-222.8796C375.084,-212.5456 353.5776,-201.4184 333.2727,-190.9128\"/>\n",
       "<polygon fill=\"#000000\" stroke=\"#000000\" points=\"334.8363,-187.7811 324.3462,-186.2944 331.6195,-193.9983 334.8363,-187.7811\"/>\n",
       "</g>\n",
       "<!-- 5 -->\n",
       "<g id=\"node6\" class=\"node\">\n",
       "<title>5</title>\n",
       "<path fill=\"#399de5\" fill-opacity=\"0.454902\" stroke=\"#000000\" d=\"M533.5,-187C533.5,-187 417.5,-187 417.5,-187 411.5,-187 405.5,-181 405.5,-175 405.5,-175 405.5,-116 405.5,-116 405.5,-110 411.5,-104 417.5,-104 417.5,-104 533.5,-104 533.5,-104 539.5,-104 545.5,-110 545.5,-116 545.5,-116 545.5,-175 545.5,-175 545.5,-181 539.5,-187 533.5,-187\"/>\n",
       "<text text-anchor=\"start\" x=\"436\" y=\"-171.8\" font-family=\"Helvetica,sans-Serif\" font-size=\"14.00\" fill=\"#000000\">gluc ≤ 0.833</text>\n",
       "<text text-anchor=\"start\" x=\"437.5\" y=\"-156.8\" font-family=\"Helvetica,sans-Serif\" font-size=\"14.00\" fill=\"#000000\">gini = 0.457</text>\n",
       "<text text-anchor=\"start\" x=\"423.5\" y=\"-141.8\" font-family=\"Helvetica,sans-Serif\" font-size=\"14.00\" fill=\"#000000\">samples = 2169</text>\n",
       "<text text-anchor=\"start\" x=\"413.5\" y=\"-126.8\" font-family=\"Helvetica,sans-Serif\" font-size=\"14.00\" fill=\"#000000\">value = [765, 1404]</text>\n",
       "<text text-anchor=\"start\" x=\"429\" y=\"-111.8\" font-family=\"Helvetica,sans-Serif\" font-size=\"14.00\" fill=\"#000000\">class = Cardio</text>\n",
       "</g>\n",
       "<!-- 1&#45;&gt;5 -->\n",
       "<g id=\"edge5\" class=\"edge\">\n",
       "<title>1&#45;&gt;5</title>\n",
       "<path fill=\"none\" stroke=\"#000000\" d=\"M475.5,-222.8796C475.5,-214.6838 475.5,-205.9891 475.5,-197.5013\"/>\n",
       "<polygon fill=\"#000000\" stroke=\"#000000\" points=\"479.0001,-197.298 475.5,-187.2981 472.0001,-197.2981 479.0001,-197.298\"/>\n",
       "</g>\n",
       "<!-- 3 -->\n",
       "<g id=\"node4\" class=\"node\">\n",
       "<title>3</title>\n",
       "<path fill=\"#e58139\" fill-opacity=\"0.725490\" stroke=\"#000000\" d=\"M137,-68C137,-68 12,-68 12,-68 6,-68 0,-62 0,-56 0,-56 0,-12 0,-12 0,-6 6,0 12,0 12,0 137,0 137,0 143,0 149,-6 149,-12 149,-12 149,-56 149,-56 149,-62 143,-68 137,-68\"/>\n",
       "<text text-anchor=\"start\" x=\"36.5\" y=\"-52.8\" font-family=\"Helvetica,sans-Serif\" font-size=\"14.00\" fill=\"#000000\">gini = 0.338</text>\n",
       "<text text-anchor=\"start\" x=\"22.5\" y=\"-37.8\" font-family=\"Helvetica,sans-Serif\" font-size=\"14.00\" fill=\"#000000\">samples = 9908</text>\n",
       "<text text-anchor=\"start\" x=\"8\" y=\"-22.8\" font-family=\"Helvetica,sans-Serif\" font-size=\"14.00\" fill=\"#000000\">value = [7772, 2136]</text>\n",
       "<text text-anchor=\"start\" x=\"22.5\" y=\"-7.8\" font-family=\"Helvetica,sans-Serif\" font-size=\"14.00\" fill=\"#000000\">class = N cardio</text>\n",
       "</g>\n",
       "<!-- 2&#45;&gt;3 -->\n",
       "<g id=\"edge3\" class=\"edge\">\n",
       "<title>2&#45;&gt;3</title>\n",
       "<path fill=\"none\" stroke=\"#000000\" d=\"M181.8259,-103.9815C166.6648,-94.0957 150.5224,-83.5701 135.4851,-73.7651\"/>\n",
       "<polygon fill=\"#000000\" stroke=\"#000000\" points=\"137.0631,-70.6158 126.7748,-68.0856 133.2397,-76.4794 137.0631,-70.6158\"/>\n",
       "</g>\n",
       "<!-- 4 -->\n",
       "<g id=\"node5\" class=\"node\">\n",
       "<title>4</title>\n",
       "<path fill=\"#e58139\" fill-opacity=\"0.498039\" stroke=\"#000000\" d=\"M312,-68C312,-68 179,-68 179,-68 173,-68 167,-62 167,-56 167,-56 167,-12 167,-12 167,-6 173,0 179,0 179,0 312,0 312,0 318,0 324,-6 324,-12 324,-12 324,-56 324,-56 324,-62 318,-68 312,-68\"/>\n",
       "<text text-anchor=\"start\" x=\"207.5\" y=\"-52.8\" font-family=\"Helvetica,sans-Serif\" font-size=\"14.00\" fill=\"#000000\">gini = 0.445</text>\n",
       "<text text-anchor=\"start\" x=\"189.5\" y=\"-37.8\" font-family=\"Helvetica,sans-Serif\" font-size=\"14.00\" fill=\"#000000\">samples = 21014</text>\n",
       "<text text-anchor=\"start\" x=\"175\" y=\"-22.8\" font-family=\"Helvetica,sans-Serif\" font-size=\"14.00\" fill=\"#000000\">value = [14000, 7014]</text>\n",
       "<text text-anchor=\"start\" x=\"193.5\" y=\"-7.8\" font-family=\"Helvetica,sans-Serif\" font-size=\"14.00\" fill=\"#000000\">class = N cardio</text>\n",
       "</g>\n",
       "<!-- 2&#45;&gt;4 -->\n",
       "<g id=\"edge4\" class=\"edge\">\n",
       "<title>2&#45;&gt;4</title>\n",
       "<path fill=\"none\" stroke=\"#000000\" d=\"M245.5,-103.9815C245.5,-95.618 245.5,-86.7965 245.5,-78.3409\"/>\n",
       "<polygon fill=\"#000000\" stroke=\"#000000\" points=\"249.0001,-78.2636 245.5,-68.2637 242.0001,-78.2637 249.0001,-78.2636\"/>\n",
       "</g>\n",
       "<!-- 6 -->\n",
       "<g id=\"node7\" class=\"node\">\n",
       "<title>6</title>\n",
       "<path fill=\"#399de5\" fill-opacity=\"0.662745\" stroke=\"#000000\" d=\"M462.5,-68C462.5,-68 354.5,-68 354.5,-68 348.5,-68 342.5,-62 342.5,-56 342.5,-56 342.5,-12 342.5,-12 342.5,-6 348.5,0 354.5,0 354.5,0 462.5,0 462.5,0 468.5,0 474.5,-6 474.5,-12 474.5,-12 474.5,-56 474.5,-56 474.5,-62 468.5,-68 462.5,-68\"/>\n",
       "<text text-anchor=\"start\" x=\"370.5\" y=\"-52.8\" font-family=\"Helvetica,sans-Serif\" font-size=\"14.00\" fill=\"#000000\">gini = 0.377</text>\n",
       "<text text-anchor=\"start\" x=\"356.5\" y=\"-37.8\" font-family=\"Helvetica,sans-Serif\" font-size=\"14.00\" fill=\"#000000\">samples = 1022</text>\n",
       "<text text-anchor=\"start\" x=\"350.5\" y=\"-22.8\" font-family=\"Helvetica,sans-Serif\" font-size=\"14.00\" fill=\"#000000\">value = [258, 764]</text>\n",
       "<text text-anchor=\"start\" x=\"362\" y=\"-7.8\" font-family=\"Helvetica,sans-Serif\" font-size=\"14.00\" fill=\"#000000\">class = Cardio</text>\n",
       "</g>\n",
       "<!-- 5&#45;&gt;6 -->\n",
       "<g id=\"edge6\" class=\"edge\">\n",
       "<title>5&#45;&gt;6</title>\n",
       "<path fill=\"none\" stroke=\"#000000\" d=\"M450.5517,-103.9815C445.2499,-95.1585 439.6419,-85.8258 434.3089,-76.9506\"/>\n",
       "<polygon fill=\"#000000\" stroke=\"#000000\" points=\"437.2396,-75.0325 429.0889,-68.2637 431.2395,-78.638 437.2396,-75.0325\"/>\n",
       "</g>\n",
       "<!-- 7 -->\n",
       "<g id=\"node8\" class=\"node\">\n",
       "<title>7</title>\n",
       "<path fill=\"#399de5\" fill-opacity=\"0.207843\" stroke=\"#000000\" d=\"M612.5,-68C612.5,-68 504.5,-68 504.5,-68 498.5,-68 492.5,-62 492.5,-56 492.5,-56 492.5,-12 492.5,-12 492.5,-6 498.5,0 504.5,0 504.5,0 612.5,0 612.5,0 618.5,0 624.5,-6 624.5,-12 624.5,-12 624.5,-56 624.5,-56 624.5,-62 618.5,-68 612.5,-68\"/>\n",
       "<text text-anchor=\"start\" x=\"520.5\" y=\"-52.8\" font-family=\"Helvetica,sans-Serif\" font-size=\"14.00\" fill=\"#000000\">gini = 0.493</text>\n",
       "<text text-anchor=\"start\" x=\"506.5\" y=\"-37.8\" font-family=\"Helvetica,sans-Serif\" font-size=\"14.00\" fill=\"#000000\">samples = 1147</text>\n",
       "<text text-anchor=\"start\" x=\"500.5\" y=\"-22.8\" font-family=\"Helvetica,sans-Serif\" font-size=\"14.00\" fill=\"#000000\">value = [507, 640]</text>\n",
       "<text text-anchor=\"start\" x=\"512\" y=\"-7.8\" font-family=\"Helvetica,sans-Serif\" font-size=\"14.00\" fill=\"#000000\">class = Cardio</text>\n",
       "</g>\n",
       "<!-- 5&#45;&gt;7 -->\n",
       "<g id=\"edge7\" class=\"edge\">\n",
       "<title>5&#45;&gt;7</title>\n",
       "<path fill=\"none\" stroke=\"#000000\" d=\"M506.4061,-103.9815C513.1108,-94.9747 520.2108,-85.4367 526.9403,-76.3965\"/>\n",
       "<polygon fill=\"#000000\" stroke=\"#000000\" points=\"529.8306,-78.3752 532.9943,-68.2637 524.2155,-74.1953 529.8306,-78.3752\"/>\n",
       "</g>\n",
       "<!-- 9 -->\n",
       "<g id=\"node10\" class=\"node\">\n",
       "<title>9</title>\n",
       "<path fill=\"#399de5\" fill-opacity=\"0.317647\" stroke=\"#000000\" d=\"M857,-187C857,-187 732,-187 732,-187 726,-187 720,-181 720,-175 720,-175 720,-116 720,-116 720,-110 726,-104 732,-104 732,-104 857,-104 857,-104 863,-104 869,-110 869,-116 869,-116 869,-175 869,-175 869,-181 863,-187 857,-187\"/>\n",
       "<text text-anchor=\"start\" x=\"733\" y=\"-171.8\" font-family=\"Helvetica,sans-Serif\" font-size=\"14.00\" fill=\"#000000\">cholesterol ≤ 0.833</text>\n",
       "<text text-anchor=\"start\" x=\"756.5\" y=\"-156.8\" font-family=\"Helvetica,sans-Serif\" font-size=\"14.00\" fill=\"#000000\">gini = 0.482</text>\n",
       "<text text-anchor=\"start\" x=\"742.5\" y=\"-141.8\" font-family=\"Helvetica,sans-Serif\" font-size=\"14.00\" fill=\"#000000\">samples = 7392</text>\n",
       "<text text-anchor=\"start\" x=\"728\" y=\"-126.8\" font-family=\"Helvetica,sans-Serif\" font-size=\"14.00\" fill=\"#000000\">value = [3002, 4390]</text>\n",
       "<text text-anchor=\"start\" x=\"748\" y=\"-111.8\" font-family=\"Helvetica,sans-Serif\" font-size=\"14.00\" fill=\"#000000\">class = Cardio</text>\n",
       "</g>\n",
       "<!-- 8&#45;&gt;9 -->\n",
       "<g id=\"edge9\" class=\"edge\">\n",
       "<title>8&#45;&gt;9</title>\n",
       "<path fill=\"none\" stroke=\"#000000\" d=\"M794.5,-222.8796C794.5,-214.6838 794.5,-205.9891 794.5,-197.5013\"/>\n",
       "<polygon fill=\"#000000\" stroke=\"#000000\" points=\"798.0001,-197.298 794.5,-187.2981 791.0001,-197.2981 798.0001,-197.298\"/>\n",
       "</g>\n",
       "<!-- 12 -->\n",
       "<g id=\"node13\" class=\"node\">\n",
       "<title>12</title>\n",
       "<path fill=\"#399de5\" fill-opacity=\"0.807843\" stroke=\"#000000\" d=\"M1110,-187C1110,-187 977,-187 977,-187 971,-187 965,-181 965,-175 965,-175 965,-116 965,-116 965,-110 971,-104 977,-104 977,-104 1110,-104 1110,-104 1116,-104 1122,-110 1122,-116 1122,-116 1122,-175 1122,-175 1122,-181 1116,-187 1110,-187\"/>\n",
       "<text text-anchor=\"start\" x=\"999.5\" y=\"-171.8\" font-family=\"Helvetica,sans-Serif\" font-size=\"14.00\" fill=\"#000000\">ap_hi ≤ 0.009</text>\n",
       "<text text-anchor=\"start\" x=\"1010\" y=\"-156.8\" font-family=\"Helvetica,sans-Serif\" font-size=\"14.00\" fill=\"#000000\">gini = 0.27</text>\n",
       "<text text-anchor=\"start\" x=\"987.5\" y=\"-141.8\" font-family=\"Helvetica,sans-Serif\" font-size=\"14.00\" fill=\"#000000\">samples = 15517</text>\n",
       "<text text-anchor=\"start\" x=\"973\" y=\"-126.8\" font-family=\"Helvetica,sans-Serif\" font-size=\"14.00\" fill=\"#000000\">value = [2494, 13023]</text>\n",
       "<text text-anchor=\"start\" x=\"997\" y=\"-111.8\" font-family=\"Helvetica,sans-Serif\" font-size=\"14.00\" fill=\"#000000\">class = Cardio</text>\n",
       "</g>\n",
       "<!-- 8&#45;&gt;12 -->\n",
       "<g id=\"edge12\" class=\"edge\">\n",
       "<title>8&#45;&gt;12</title>\n",
       "<path fill=\"none\" stroke=\"#000000\" d=\"M873.2852,-226.8477C899.4128,-214.361 928.6597,-200.3835 955.4399,-187.585\"/>\n",
       "<polygon fill=\"#000000\" stroke=\"#000000\" points=\"957.287,-190.5814 964.8003,-183.1115 954.2685,-184.2656 957.287,-190.5814\"/>\n",
       "</g>\n",
       "<!-- 10 -->\n",
       "<g id=\"node11\" class=\"node\">\n",
       "<title>10</title>\n",
       "<path fill=\"#399de5\" fill-opacity=\"0.176471\" stroke=\"#000000\" d=\"M780,-68C780,-68 655,-68 655,-68 649,-68 643,-62 643,-56 643,-56 643,-12 643,-12 643,-6 649,0 655,0 655,0 780,0 780,0 786,0 792,-6 792,-12 792,-12 792,-56 792,-56 792,-62 786,-68 780,-68\"/>\n",
       "<text text-anchor=\"start\" x=\"679.5\" y=\"-52.8\" font-family=\"Helvetica,sans-Serif\" font-size=\"14.00\" fill=\"#000000\">gini = 0.495</text>\n",
       "<text text-anchor=\"start\" x=\"665.5\" y=\"-37.8\" font-family=\"Helvetica,sans-Serif\" font-size=\"14.00\" fill=\"#000000\">samples = 6018</text>\n",
       "<text text-anchor=\"start\" x=\"651\" y=\"-22.8\" font-family=\"Helvetica,sans-Serif\" font-size=\"14.00\" fill=\"#000000\">value = [2720, 3298]</text>\n",
       "<text text-anchor=\"start\" x=\"671\" y=\"-7.8\" font-family=\"Helvetica,sans-Serif\" font-size=\"14.00\" fill=\"#000000\">class = Cardio</text>\n",
       "</g>\n",
       "<!-- 9&#45;&gt;10 -->\n",
       "<g id=\"edge10\" class=\"edge\">\n",
       "<title>9&#45;&gt;10</title>\n",
       "<path fill=\"none\" stroke=\"#000000\" d=\"M765.828,-103.9815C759.6715,-95.0666 753.1557,-85.6313 746.9695,-76.6734\"/>\n",
       "<polygon fill=\"#000000\" stroke=\"#000000\" points=\"749.7245,-74.5034 741.1619,-68.2637 743.9645,-78.4811 749.7245,-74.5034\"/>\n",
       "</g>\n",
       "<!-- 11 -->\n",
       "<g id=\"node12\" class=\"node\">\n",
       "<title>11</title>\n",
       "<path fill=\"#399de5\" fill-opacity=\"0.741176\" stroke=\"#000000\" d=\"M938.5,-68C938.5,-68 822.5,-68 822.5,-68 816.5,-68 810.5,-62 810.5,-56 810.5,-56 810.5,-12 810.5,-12 810.5,-6 816.5,0 822.5,0 822.5,0 938.5,0 938.5,0 944.5,0 950.5,-6 950.5,-12 950.5,-12 950.5,-56 950.5,-56 950.5,-62 944.5,-68 938.5,-68\"/>\n",
       "<text text-anchor=\"start\" x=\"842.5\" y=\"-52.8\" font-family=\"Helvetica,sans-Serif\" font-size=\"14.00\" fill=\"#000000\">gini = 0.326</text>\n",
       "<text text-anchor=\"start\" x=\"828.5\" y=\"-37.8\" font-family=\"Helvetica,sans-Serif\" font-size=\"14.00\" fill=\"#000000\">samples = 1374</text>\n",
       "<text text-anchor=\"start\" x=\"818.5\" y=\"-22.8\" font-family=\"Helvetica,sans-Serif\" font-size=\"14.00\" fill=\"#000000\">value = [282, 1092]</text>\n",
       "<text text-anchor=\"start\" x=\"834\" y=\"-7.8\" font-family=\"Helvetica,sans-Serif\" font-size=\"14.00\" fill=\"#000000\">class = Cardio</text>\n",
       "</g>\n",
       "<!-- 9&#45;&gt;11 -->\n",
       "<g id=\"edge11\" class=\"edge\">\n",
       "<title>9&#45;&gt;11</title>\n",
       "<path fill=\"none\" stroke=\"#000000\" d=\"M826.5232,-103.9815C833.4702,-94.9747 840.8269,-85.4367 847.7996,-76.3965\"/>\n",
       "<polygon fill=\"#000000\" stroke=\"#000000\" points=\"850.7364,-78.3196 854.0724,-68.2637 845.1936,-74.0444 850.7364,-78.3196\"/>\n",
       "</g>\n",
       "<!-- 13 -->\n",
       "<g id=\"node14\" class=\"node\">\n",
       "<title>13</title>\n",
       "<path fill=\"#399de5\" fill-opacity=\"0.776471\" stroke=\"#000000\" d=\"M1106,-68C1106,-68 981,-68 981,-68 975,-68 969,-62 969,-56 969,-56 969,-12 969,-12 969,-6 975,0 981,0 981,0 1106,0 1106,0 1112,0 1118,-6 1118,-12 1118,-12 1118,-56 1118,-56 1118,-62 1112,-68 1106,-68\"/>\n",
       "<text text-anchor=\"start\" x=\"1014\" y=\"-52.8\" font-family=\"Helvetica,sans-Serif\" font-size=\"14.00\" fill=\"#000000\">gini = 0.3</text>\n",
       "<text text-anchor=\"start\" x=\"991.5\" y=\"-37.8\" font-family=\"Helvetica,sans-Serif\" font-size=\"14.00\" fill=\"#000000\">samples = 7895</text>\n",
       "<text text-anchor=\"start\" x=\"977\" y=\"-22.8\" font-family=\"Helvetica,sans-Serif\" font-size=\"14.00\" fill=\"#000000\">value = [1448, 6447]</text>\n",
       "<text text-anchor=\"start\" x=\"997\" y=\"-7.8\" font-family=\"Helvetica,sans-Serif\" font-size=\"14.00\" fill=\"#000000\">class = Cardio</text>\n",
       "</g>\n",
       "<!-- 12&#45;&gt;13 -->\n",
       "<g id=\"edge13\" class=\"edge\">\n",
       "<title>12&#45;&gt;13</title>\n",
       "<path fill=\"none\" stroke=\"#000000\" d=\"M1043.5,-103.9815C1043.5,-95.618 1043.5,-86.7965 1043.5,-78.3409\"/>\n",
       "<polygon fill=\"#000000\" stroke=\"#000000\" points=\"1047.0001,-78.2636 1043.5,-68.2637 1040.0001,-78.2637 1047.0001,-78.2636\"/>\n",
       "</g>\n",
       "<!-- 14 -->\n",
       "<g id=\"node15\" class=\"node\">\n",
       "<title>14</title>\n",
       "<path fill=\"#399de5\" fill-opacity=\"0.839216\" stroke=\"#000000\" d=\"M1273,-68C1273,-68 1148,-68 1148,-68 1142,-68 1136,-62 1136,-56 1136,-56 1136,-12 1136,-12 1136,-6 1142,0 1148,0 1148,0 1273,0 1273,0 1279,0 1285,-6 1285,-12 1285,-12 1285,-56 1285,-56 1285,-62 1279,-68 1273,-68\"/>\n",
       "<text text-anchor=\"start\" x=\"1172.5\" y=\"-52.8\" font-family=\"Helvetica,sans-Serif\" font-size=\"14.00\" fill=\"#000000\">gini = 0.237</text>\n",
       "<text text-anchor=\"start\" x=\"1158.5\" y=\"-37.8\" font-family=\"Helvetica,sans-Serif\" font-size=\"14.00\" fill=\"#000000\">samples = 7622</text>\n",
       "<text text-anchor=\"start\" x=\"1144\" y=\"-22.8\" font-family=\"Helvetica,sans-Serif\" font-size=\"14.00\" fill=\"#000000\">value = [1046, 6576]</text>\n",
       "<text text-anchor=\"start\" x=\"1164\" y=\"-7.8\" font-family=\"Helvetica,sans-Serif\" font-size=\"14.00\" fill=\"#000000\">class = Cardio</text>\n",
       "</g>\n",
       "<!-- 12&#45;&gt;14 -->\n",
       "<g id=\"edge14\" class=\"edge\">\n",
       "<title>12&#45;&gt;14</title>\n",
       "<path fill=\"none\" stroke=\"#000000\" d=\"M1105.6846,-103.9815C1120.4911,-94.0957 1136.2559,-83.5701 1150.9415,-73.7651\"/>\n",
       "<polygon fill=\"#000000\" stroke=\"#000000\" points=\"1153.0748,-76.5493 1159.448,-68.0856 1149.1878,-70.7276 1153.0748,-76.5493\"/>\n",
       "</g>\n",
       "</g>\n",
       "</svg>\n"
      ],
      "text/plain": [
       "<graphviz.files.Source at 0x7fe15056e5c0>"
      ]
     },
     "execution_count": 28,
     "metadata": {
      "tags": []
     },
     "output_type": "execute_result"
    }
   ],
   "source": [
    "graphviz.Source(tree.export_graphviz(tree_example, feature_names=['cholesterol', 'ap_lo', 'ap_hi', 'gluc'],  \n",
    "class_names=['N cardio', 'Cardio'],  filled=True, rounded=True,  special_characters=True))"
   ]
  },
  {
   "cell_type": "markdown",
   "metadata": {
    "colab_type": "text",
    "id": "-kXcPHfJOstD"
   },
   "source": [
    "## Random Forest"
   ]
  },
  {
   "cell_type": "code",
   "execution_count": 0,
   "metadata": {
    "colab": {
     "base_uri": "https://localhost:8080/",
     "height": 252
    },
    "colab_type": "code",
    "id": "ToilcHDEOynG",
    "outputId": "d722bc98-d850-4bad-d9bc-aec8be321705"
   },
   "outputs": [
    {
     "name": "stdout",
     "output_type": "stream",
     "text": [
      "10 Trees:\n",
      "\tMean: 72.24 +/- (0.3387)\n",
      "15 Trees:\n",
      "\tMean: 72.22 +/- (0.3369)\n",
      "20 Trees:\n",
      "\tMean: 72.25 +/- (0.3771)\n",
      "25 Trees:\n",
      "\tMean: 72.28 +/- (0.3742)\n",
      "30 Trees:\n",
      "\tMean: 72.27 +/- (0.2893)\n",
      "35 Trees:\n",
      "\tMean: 72.32 +/- (0.3279)\n",
      "40 Trees:\n",
      "\tMean: 72.3 +/- (0.3769)\n"
     ]
    }
   ],
   "source": [
    "def gen_rand_forest(n_tree): return RandomForestClassifier(n_estimators=n_tree)\n",
    "\n",
    "rands_trees_num = Observable.from_(range(10, 41, 5))\n",
    "\n",
    "rand_forest_test = rands_trees_num.map(gen_rand_forest)\\\n",
    "  .map(methodcaller('fit', X_train, y_train))\\\n",
    "  .map(lambda clf: cross_val_score(clf, X, y, cv=10))\\\n",
    "  .zip(rands_trees_num, lambda scores, tree_num: (tree_num, scores.mean(), scores.std()))\\\n",
    "  .subscribe(lambda vals: print(f'{vals[0]} Trees:\\n\\tMean: {vals[1] * 100:.4} +/- ({vals[2]* 100:.4})'))\n",
    "\n",
    "rand_forest_test.dispose()"
   ]
  },
  {
   "cell_type": "markdown",
   "metadata": {
    "colab_type": "text",
    "id": "Q4eZVLST0qz9"
   },
   "source": [
    "## Artifical Neural Network"
   ]
  },
  {
   "cell_type": "code",
   "execution_count": 0,
   "metadata": {
    "colab": {},
    "colab_type": "code",
    "id": "EEBIRkFK0qz-",
    "scrolled": false
   },
   "outputs": [],
   "source": [
    "from keras.layers import Dense, Input\n",
    "from keras.models import Model\n",
    "from keras.utils import to_categorical\n",
    "from keras.optimizers import SGD, Adam\n",
    "from sklearn.model_selection import StratifiedKFold\n",
    "from functools import partial\n",
    "from statistics import mean, stdev"
   ]
  },
  {
   "cell_type": "code",
   "execution_count": 0,
   "metadata": {
    "colab": {},
    "colab_type": "code",
    "id": "3EZMKkWf0q0C"
   },
   "outputs": [],
   "source": [
    "def gen_model():\n",
    "  input_l = Input(shape=(X.shape[-1], ))\n",
    "\n",
    "  l1 = Dense(50, activation='relu', kernel_initializer='truncated_normal')(input_l)\n",
    "  l2 = Dense(2, activation='softmax',  kernel_initializer='truncated_normal')(l1)\n",
    "\n",
    "  model = Model(inputs=input_l, outputs=l2)\n",
    "  model.compile(optimizer=Adam(), loss='binary_crossentropy', metrics=['accuracy'])\n",
    "  \n",
    "  return model"
   ]
  },
  {
   "cell_type": "code",
   "execution_count": 0,
   "metadata": {
    "colab": {},
    "colab_type": "code",
    "id": "S3YiIWu583sz"
   },
   "outputs": [],
   "source": [
    "def run_train(X, y, data):\n",
    "  train, test = data\n",
    "\n",
    "  # convert data to categorical\n",
    "  y_train = to_categorical(y[train])\n",
    "  y_test = to_categorical(y[test])\n",
    "\n",
    "  model = gen_model()\n",
    "  model.fit(x=X[train], y=y_train, epochs=20)\n",
    " \n",
    "  scores = model.evaluate(X[test], y_test, verbose=0)\n",
    "\n",
    "  print(f\"{model.metrics_names[1]:.4}: {scores[1] * 100:.4}%\")\n",
    "\n",
    "  return scores[1] * 100"
   ]
  },
  {
   "cell_type": "code",
   "execution_count": 0,
   "metadata": {
    "colab": {},
    "colab_type": "code",
    "id": "g948pFDcJTuw"
   },
   "outputs": [],
   "source": [
    "kfold = StratifiedKFold(n_splits=10, shuffle=True, random_state=42)"
   ]
  },
  {
   "cell_type": "code",
   "execution_count": 0,
   "metadata": {
    "colab": {
     "base_uri": "https://localhost:8080/",
     "height": 6922
    },
    "colab_type": "code",
    "id": "8x4jw4Hz5px9",
    "outputId": "a0d8395d-d481-441e-e531-3cf17de85d43"
   },
   "outputs": [
    {
     "name": "stdout",
     "output_type": "stream",
     "text": [
      "Epoch 1/20\n",
      "62999/62999 [==============================] - 11s 182us/step - loss: 0.6694 - acc: 0.5833\n",
      "Epoch 2/20\n",
      "62999/62999 [==============================] - 9s 142us/step - loss: 0.6638 - acc: 0.5948\n",
      "Epoch 3/20\n",
      "62999/62999 [==============================] - 9s 148us/step - loss: 0.6617 - acc: 0.5950\n",
      "Epoch 4/20\n",
      "62999/62999 [==============================] - 9s 143us/step - loss: 0.6597 - acc: 0.5947\n",
      "Epoch 5/20\n",
      "62999/62999 [==============================] - 9s 142us/step - loss: 0.6571 - acc: 0.5976\n",
      "Epoch 6/20\n",
      "62999/62999 [==============================] - 9s 141us/step - loss: 0.6533 - acc: 0.6017\n",
      "Epoch 7/20\n",
      "62999/62999 [==============================] - 9s 141us/step - loss: 0.6480 - acc: 0.6161\n",
      "Epoch 8/20\n",
      "62999/62999 [==============================] - 9s 141us/step - loss: 0.6416 - acc: 0.6345\n",
      "Epoch 9/20\n",
      "62999/62999 [==============================] - 9s 140us/step - loss: 0.6355 - acc: 0.6583\n",
      "Epoch 10/20\n",
      "62999/62999 [==============================] - 9s 141us/step - loss: 0.6269 - acc: 0.6769\n",
      "Epoch 11/20\n",
      "62999/62999 [==============================] - 9s 141us/step - loss: 0.6185 - acc: 0.6919\n",
      "Epoch 12/20\n",
      "62999/62999 [==============================] - 9s 140us/step - loss: 0.6104 - acc: 0.7007\n",
      "Epoch 13/20\n",
      "62999/62999 [==============================] - 9s 140us/step - loss: 0.6013 - acc: 0.7073\n",
      "Epoch 14/20\n",
      "62999/62999 [==============================] - 9s 140us/step - loss: 0.5934 - acc: 0.7149\n",
      "Epoch 15/20\n",
      "62999/62999 [==============================] - 9s 141us/step - loss: 0.5888 - acc: 0.7164\n",
      "Epoch 16/20\n",
      "62999/62999 [==============================] - 9s 140us/step - loss: 0.5852 - acc: 0.7183\n",
      "Epoch 17/20\n",
      "62999/62999 [==============================] - 9s 141us/step - loss: 0.5836 - acc: 0.7187\n",
      "Epoch 18/20\n",
      "62999/62999 [==============================] - 9s 141us/step - loss: 0.5817 - acc: 0.7199\n",
      "Epoch 19/20\n",
      "62999/62999 [==============================] - 9s 143us/step - loss: 0.5808 - acc: 0.7190\n",
      "Epoch 20/20\n",
      "62999/62999 [==============================] - 9s 147us/step - loss: 0.5801 - acc: 0.7205\n",
      "acc: 72.76%\n",
      "Epoch 1/20\n",
      "63000/63000 [==============================] - 11s 176us/step - loss: 0.6679 - acc: 0.5881\n",
      "Epoch 2/20\n",
      "63000/63000 [==============================] - 9s 142us/step - loss: 0.6612 - acc: 0.5959\n",
      "Epoch 3/20\n",
      "63000/63000 [==============================] - 9s 141us/step - loss: 0.6579 - acc: 0.5969\n",
      "Epoch 4/20\n",
      "63000/63000 [==============================] - 9s 143us/step - loss: 0.6538 - acc: 0.6005\n",
      "Epoch 5/20\n",
      "63000/63000 [==============================] - 9s 143us/step - loss: 0.6487 - acc: 0.6096\n",
      "Epoch 6/20\n",
      "63000/63000 [==============================] - 9s 150us/step - loss: 0.6413 - acc: 0.6317\n",
      "Epoch 7/20\n",
      "63000/63000 [==============================] - 9s 148us/step - loss: 0.6315 - acc: 0.6595\n",
      "Epoch 8/20\n",
      "63000/63000 [==============================] - 9s 145us/step - loss: 0.6202 - acc: 0.6859\n",
      "Epoch 9/20\n",
      "63000/63000 [==============================] - 9s 146us/step - loss: 0.6106 - acc: 0.7011\n",
      "Epoch 10/20\n",
      "63000/63000 [==============================] - 9s 143us/step - loss: 0.6013 - acc: 0.7087\n",
      "Epoch 11/20\n",
      "63000/63000 [==============================] - 9s 142us/step - loss: 0.5934 - acc: 0.7153\n",
      "Epoch 12/20\n",
      "63000/63000 [==============================] - 9s 143us/step - loss: 0.5872 - acc: 0.7165\n",
      "Epoch 13/20\n",
      "63000/63000 [==============================] - 9s 143us/step - loss: 0.5848 - acc: 0.7178\n",
      "Epoch 14/20\n",
      "63000/63000 [==============================] - 9s 142us/step - loss: 0.5818 - acc: 0.7193\n",
      "Epoch 15/20\n",
      "63000/63000 [==============================] - 9s 142us/step - loss: 0.5794 - acc: 0.7201\n",
      "Epoch 16/20\n",
      "63000/63000 [==============================] - 9s 142us/step - loss: 0.5804 - acc: 0.7194\n",
      "Epoch 17/20\n",
      "63000/63000 [==============================] - 9s 151us/step - loss: 0.5784 - acc: 0.7216\n",
      "Epoch 18/20\n",
      "63000/63000 [==============================] - 9s 143us/step - loss: 0.5782 - acc: 0.7224\n",
      "Epoch 19/20\n",
      "63000/63000 [==============================] - 9s 142us/step - loss: 0.5778 - acc: 0.7218\n",
      "Epoch 20/20\n",
      "63000/63000 [==============================] - 9s 143us/step - loss: 0.5781 - acc: 0.7207\n",
      "acc: 71.77%\n",
      "Epoch 1/20\n",
      "63000/63000 [==============================] - 11s 179us/step - loss: 0.6690 - acc: 0.5877\n",
      "Epoch 2/20\n",
      "63000/63000 [==============================] - 9s 143us/step - loss: 0.6630 - acc: 0.5951\n",
      "Epoch 3/20\n",
      "63000/63000 [==============================] - 10s 155us/step - loss: 0.6607 - acc: 0.5952\n",
      "Epoch 4/20\n",
      "63000/63000 [==============================] - 9s 143us/step - loss: 0.6581 - acc: 0.5957\n",
      "Epoch 5/20\n",
      "63000/63000 [==============================] - 9s 144us/step - loss: 0.6551 - acc: 0.5985\n",
      "Epoch 6/20\n",
      "63000/63000 [==============================] - 9s 146us/step - loss: 0.6508 - acc: 0.6049\n",
      "Epoch 7/20\n",
      "63000/63000 [==============================] - 9s 142us/step - loss: 0.6450 - acc: 0.6210\n",
      "Epoch 8/20\n",
      "63000/63000 [==============================] - 9s 141us/step - loss: 0.6368 - acc: 0.6431\n",
      "Epoch 9/20\n",
      "63000/63000 [==============================] - 9s 142us/step - loss: 0.6271 - acc: 0.6707\n",
      "Epoch 10/20\n",
      "63000/63000 [==============================] - 9s 141us/step - loss: 0.6164 - acc: 0.6899\n",
      "Epoch 11/20\n",
      "63000/63000 [==============================] - 9s 141us/step - loss: 0.6068 - acc: 0.7019\n",
      "Epoch 12/20\n",
      "63000/63000 [==============================] - 9s 142us/step - loss: 0.5991 - acc: 0.7106\n",
      "Epoch 13/20\n",
      "63000/63000 [==============================] - 10s 153us/step - loss: 0.5931 - acc: 0.7154\n",
      "Epoch 14/20\n",
      "63000/63000 [==============================] - 9s 143us/step - loss: 0.5894 - acc: 0.7139\n",
      "Epoch 15/20\n",
      "63000/63000 [==============================] - 9s 143us/step - loss: 0.5870 - acc: 0.7164\n",
      "Epoch 16/20\n",
      "63000/63000 [==============================] - 9s 143us/step - loss: 0.5842 - acc: 0.7184\n",
      "Epoch 17/20\n",
      "63000/63000 [==============================] - 9s 142us/step - loss: 0.5823 - acc: 0.7189\n",
      "Epoch 18/20\n",
      "63000/63000 [==============================] - 9s 142us/step - loss: 0.5823 - acc: 0.7193\n",
      "Epoch 19/20\n",
      "63000/63000 [==============================] - 9s 144us/step - loss: 0.5804 - acc: 0.7199\n",
      "Epoch 20/20\n",
      "63000/63000 [==============================] - 9s 146us/step - loss: 0.5798 - acc: 0.7216\n",
      "acc: 71.74%\n",
      "Epoch 1/20\n",
      "63000/63000 [==============================] - 11s 181us/step - loss: 0.6686 - acc: 0.5884\n",
      "Epoch 2/20\n",
      "63000/63000 [==============================] - 9s 143us/step - loss: 0.6624 - acc: 0.5950\n",
      "Epoch 3/20\n",
      "63000/63000 [==============================] - 9s 143us/step - loss: 0.6594 - acc: 0.5956\n",
      "Epoch 4/20\n",
      "63000/63000 [==============================] - 9s 143us/step - loss: 0.6551 - acc: 0.5979\n",
      "Epoch 5/20\n",
      "63000/63000 [==============================] - 9s 142us/step - loss: 0.6493 - acc: 0.6099\n",
      "Epoch 6/20\n",
      "63000/63000 [==============================] - 9s 142us/step - loss: 0.6406 - acc: 0.6331\n",
      "Epoch 7/20\n",
      "63000/63000 [==============================] - 9s 143us/step - loss: 0.6289 - acc: 0.6642\n",
      "Epoch 8/20\n",
      "63000/63000 [==============================] - 9s 142us/step - loss: 0.6157 - acc: 0.6908\n",
      "Epoch 9/20\n",
      "63000/63000 [==============================] - 9s 144us/step - loss: 0.6038 - acc: 0.7039\n",
      "Epoch 10/20\n",
      "63000/63000 [==============================] - 9s 150us/step - loss: 0.5954 - acc: 0.7121\n",
      "Epoch 11/20\n",
      "63000/63000 [==============================] - 9s 143us/step - loss: 0.5907 - acc: 0.7136\n",
      "Epoch 12/20\n",
      "63000/63000 [==============================] - 9s 142us/step - loss: 0.5875 - acc: 0.7168\n",
      "Epoch 13/20\n",
      "63000/63000 [==============================] - 9s 143us/step - loss: 0.5859 - acc: 0.7154\n",
      "Epoch 14/20\n",
      "63000/63000 [==============================] - 9s 141us/step - loss: 0.5845 - acc: 0.7162\n",
      "Epoch 15/20\n",
      "63000/63000 [==============================] - 9s 142us/step - loss: 0.5840 - acc: 0.7171\n",
      "Epoch 16/20\n",
      "63000/63000 [==============================] - 9s 142us/step - loss: 0.5831 - acc: 0.7180\n",
      "Epoch 17/20\n",
      "63000/63000 [==============================] - 9s 142us/step - loss: 0.5833 - acc: 0.7172\n",
      "Epoch 18/20\n",
      "63000/63000 [==============================] - 9s 141us/step - loss: 0.5831 - acc: 0.7177\n",
      "Epoch 19/20\n",
      "63000/63000 [==============================] - 9s 140us/step - loss: 0.5818 - acc: 0.7193\n",
      "Epoch 20/20\n",
      "63000/63000 [==============================] - 9s 140us/step - loss: 0.5829 - acc: 0.7187\n",
      "acc: 71.87%\n",
      "Epoch 1/20\n",
      "63000/63000 [==============================] - 11s 179us/step - loss: 0.6690 - acc: 0.5855\n",
      "Epoch 2/20\n",
      "63000/63000 [==============================] - 9s 141us/step - loss: 0.6630 - acc: 0.5949\n",
      "Epoch 3/20\n",
      "63000/63000 [==============================] - 9s 138us/step - loss: 0.6605 - acc: 0.5950\n",
      "Epoch 4/20\n",
      "63000/63000 [==============================] - 9s 136us/step - loss: 0.6585 - acc: 0.5954\n",
      "Epoch 5/20\n",
      "63000/63000 [==============================] - 9s 136us/step - loss: 0.6558 - acc: 0.5962\n",
      "Epoch 6/20\n",
      "63000/63000 [==============================] - 9s 139us/step - loss: 0.6524 - acc: 0.6018\n",
      "Epoch 7/20\n",
      "63000/63000 [==============================] - 9s 144us/step - loss: 0.6478 - acc: 0.6129\n",
      "Epoch 8/20\n",
      "63000/63000 [==============================] - 9s 135us/step - loss: 0.6406 - acc: 0.6310\n",
      "Epoch 9/20\n",
      "63000/63000 [==============================] - 9s 136us/step - loss: 0.6322 - acc: 0.6549\n",
      "Epoch 10/20\n",
      "63000/63000 [==============================] - 9s 135us/step - loss: 0.6226 - acc: 0.6780\n",
      "Epoch 11/20\n",
      "63000/63000 [==============================] - 9s 136us/step - loss: 0.6133 - acc: 0.6941\n",
      "Epoch 12/20\n",
      "63000/63000 [==============================] - 9s 135us/step - loss: 0.6052 - acc: 0.7043\n",
      "Epoch 13/20\n",
      "63000/63000 [==============================] - 9s 136us/step - loss: 0.5988 - acc: 0.7099\n",
      "Epoch 14/20\n",
      "63000/63000 [==============================] - 9s 136us/step - loss: 0.5938 - acc: 0.7123\n",
      "Epoch 15/20\n",
      "63000/63000 [==============================] - 9s 137us/step - loss: 0.5909 - acc: 0.7141\n",
      "Epoch 16/20\n",
      "63000/63000 [==============================] - 9s 137us/step - loss: 0.5876 - acc: 0.7161\n",
      "Epoch 17/20\n",
      "63000/63000 [==============================] - 9s 137us/step - loss: 0.5859 - acc: 0.7170\n",
      "Epoch 18/20\n",
      "63000/63000 [==============================] - 9s 137us/step - loss: 0.5850 - acc: 0.7166\n",
      "Epoch 19/20\n",
      "63000/63000 [==============================] - 9s 139us/step - loss: 0.5843 - acc: 0.7171\n",
      "Epoch 20/20\n",
      "63000/63000 [==============================] - 9s 144us/step - loss: 0.5827 - acc: 0.7200\n",
      "acc: 72.61%\n",
      "Epoch 1/20\n",
      "63000/63000 [==============================] - 11s 171us/step - loss: 0.6690 - acc: 0.5858\n",
      "Epoch 2/20\n",
      "63000/63000 [==============================] - 9s 137us/step - loss: 0.6626 - acc: 0.5957\n",
      "Epoch 3/20\n",
      "63000/63000 [==============================] - 9s 137us/step - loss: 0.6597 - acc: 0.5959\n",
      "Epoch 4/20\n",
      "63000/63000 [==============================] - 9s 142us/step - loss: 0.6569 - acc: 0.5970\n",
      "Epoch 5/20\n",
      "63000/63000 [==============================] - 9s 137us/step - loss: 0.6536 - acc: 0.6005\n",
      "Epoch 6/20\n",
      "63000/63000 [==============================] - 9s 136us/step - loss: 0.6487 - acc: 0.6094\n",
      "Epoch 7/20\n",
      "63000/63000 [==============================] - 9s 136us/step - loss: 0.6421 - acc: 0.6268\n",
      "Epoch 8/20\n",
      "63000/63000 [==============================] - 9s 137us/step - loss: 0.6335 - acc: 0.6516\n",
      "Epoch 9/20\n",
      "63000/63000 [==============================] - 9s 136us/step - loss: 0.6231 - acc: 0.6770\n",
      "Epoch 10/20\n",
      "63000/63000 [==============================] - 9s 137us/step - loss: 0.6123 - acc: 0.6968\n",
      "Epoch 11/20\n",
      "63000/63000 [==============================] - 9s 137us/step - loss: 0.6036 - acc: 0.7055\n",
      "Epoch 12/20\n",
      "63000/63000 [==============================] - 9s 136us/step - loss: 0.5972 - acc: 0.7119\n",
      "Epoch 13/20\n",
      "63000/63000 [==============================] - 9s 136us/step - loss: 0.5916 - acc: 0.7142\n",
      "Epoch 14/20\n",
      "63000/63000 [==============================] - 9s 137us/step - loss: 0.5884 - acc: 0.7169\n",
      "Epoch 15/20\n",
      "63000/63000 [==============================] - 9s 137us/step - loss: 0.5854 - acc: 0.7188\n",
      "Epoch 16/20\n",
      "63000/63000 [==============================] - 9s 137us/step - loss: 0.5845 - acc: 0.7176\n",
      "Epoch 17/20\n",
      "63000/63000 [==============================] - 9s 137us/step - loss: 0.5826 - acc: 0.7194\n",
      "Epoch 18/20\n",
      "63000/63000 [==============================] - 9s 137us/step - loss: 0.5829 - acc: 0.7193\n",
      "Epoch 19/20\n",
      "63000/63000 [==============================] - 9s 138us/step - loss: 0.5829 - acc: 0.7187\n",
      "Epoch 20/20\n",
      "63000/63000 [==============================] - 9s 139us/step - loss: 0.5815 - acc: 0.7187\n",
      "acc: 71.99%\n",
      "Epoch 1/20\n",
      "63000/63000 [==============================] - 11s 179us/step - loss: 0.6692 - acc: 0.5859\n",
      "Epoch 2/20\n",
      "63000/63000 [==============================] - 9s 146us/step - loss: 0.6635 - acc: 0.5944\n",
      "Epoch 3/20\n",
      "63000/63000 [==============================] - 9s 140us/step - loss: 0.6609 - acc: 0.5945\n",
      "Epoch 4/20\n",
      "63000/63000 [==============================] - 9s 139us/step - loss: 0.6586 - acc: 0.5960\n",
      "Epoch 5/20\n",
      "63000/63000 [==============================] - 9s 139us/step - loss: 0.6559 - acc: 0.5986\n",
      "Epoch 6/20\n",
      "63000/63000 [==============================] - 9s 143us/step - loss: 0.6510 - acc: 0.6041\n",
      "Epoch 7/20\n",
      "63000/63000 [==============================] - 9s 139us/step - loss: 0.6449 - acc: 0.6225\n",
      "Epoch 8/20\n",
      "63000/63000 [==============================] - 9s 140us/step - loss: 0.6372 - acc: 0.6457\n",
      "Epoch 9/20\n",
      "63000/63000 [==============================] - 9s 140us/step - loss: 0.6278 - acc: 0.6700\n",
      "Epoch 10/20\n",
      "63000/63000 [==============================] - 9s 140us/step - loss: 0.6177 - acc: 0.6908\n",
      "Epoch 11/20\n",
      "63000/63000 [==============================] - 9s 140us/step - loss: 0.6091 - acc: 0.7019\n",
      "Epoch 12/20\n",
      "63000/63000 [==============================] - 9s 140us/step - loss: 0.6017 - acc: 0.7081\n",
      "Epoch 13/20\n",
      "63000/63000 [==============================] - 9s 140us/step - loss: 0.5942 - acc: 0.7143\n",
      "Epoch 14/20\n",
      "63000/63000 [==============================] - 9s 140us/step - loss: 0.5901 - acc: 0.7142\n",
      "Epoch 15/20\n",
      "63000/63000 [==============================] - 9s 139us/step - loss: 0.5869 - acc: 0.7173\n",
      "Epoch 16/20\n",
      "63000/63000 [==============================] - 9s 140us/step - loss: 0.5841 - acc: 0.7190\n",
      "Epoch 17/20\n",
      "63000/63000 [==============================] - 9s 140us/step - loss: 0.5821 - acc: 0.7204\n",
      "Epoch 18/20\n",
      "63000/63000 [==============================] - 9s 147us/step - loss: 0.5803 - acc: 0.7200\n",
      "Epoch 19/20\n",
      "63000/63000 [==============================] - 9s 140us/step - loss: 0.5808 - acc: 0.7198\n",
      "Epoch 20/20\n",
      "63000/63000 [==============================] - 9s 140us/step - loss: 0.5791 - acc: 0.7227\n",
      "acc: 73.0%\n",
      "Epoch 1/20\n",
      "63000/63000 [==============================] - 11s 179us/step - loss: 0.6693 - acc: 0.5892\n",
      "Epoch 2/20\n",
      "63000/63000 [==============================] - 9s 140us/step - loss: 0.6630 - acc: 0.5954\n",
      "Epoch 3/20\n",
      "63000/63000 [==============================] - 9s 140us/step - loss: 0.6601 - acc: 0.5955\n",
      "Epoch 4/20\n",
      "63000/63000 [==============================] - 9s 140us/step - loss: 0.6573 - acc: 0.5975\n",
      "Epoch 5/20\n",
      "63000/63000 [==============================] - 9s 140us/step - loss: 0.6527 - acc: 0.6028\n",
      "Epoch 6/20\n",
      "63000/63000 [==============================] - 9s 140us/step - loss: 0.6465 - acc: 0.6142\n",
      "Epoch 7/20\n",
      "63000/63000 [==============================] - 9s 140us/step - loss: 0.6374 - acc: 0.6423\n",
      "Epoch 8/20\n",
      "63000/63000 [==============================] - 9s 141us/step - loss: 0.6260 - acc: 0.6713\n",
      "Epoch 9/20\n",
      "63000/63000 [==============================] - 9s 140us/step - loss: 0.6146 - acc: 0.6918\n",
      "Epoch 10/20\n",
      "63000/63000 [==============================] - 9s 140us/step - loss: 0.6048 - acc: 0.7031\n",
      "Epoch 11/20\n",
      "63000/63000 [==============================] - 9s 139us/step - loss: 0.5972 - acc: 0.7111\n",
      "Epoch 12/20\n",
      "63000/63000 [==============================] - 9s 139us/step - loss: 0.5915 - acc: 0.7145\n",
      "Epoch 13/20\n",
      "63000/63000 [==============================] - 9s 138us/step - loss: 0.5885 - acc: 0.7158\n",
      "Epoch 14/20\n",
      "63000/63000 [==============================] - 9s 138us/step - loss: 0.5858 - acc: 0.7175\n",
      "Epoch 15/20\n",
      "63000/63000 [==============================] - 9s 138us/step - loss: 0.5837 - acc: 0.7187\n",
      "Epoch 16/20\n",
      "63000/63000 [==============================] - 9s 146us/step - loss: 0.5827 - acc: 0.7203\n",
      "Epoch 17/20\n",
      "63000/63000 [==============================] - 9s 143us/step - loss: 0.5812 - acc: 0.7194\n",
      "Epoch 18/20\n",
      "63000/63000 [==============================] - 9s 139us/step - loss: 0.5819 - acc: 0.7204\n",
      "Epoch 19/20\n",
      "63000/63000 [==============================] - 9s 139us/step - loss: 0.5814 - acc: 0.7200\n",
      "Epoch 20/20\n",
      "63000/63000 [==============================] - 9s 139us/step - loss: 0.5810 - acc: 0.7204\n",
      "acc: 72.34%\n",
      "Epoch 1/20\n",
      "63000/63000 [==============================] - 11s 179us/step - loss: 0.6690 - acc: 0.5840\n",
      "Epoch 2/20\n",
      "63000/63000 [==============================] - 9s 139us/step - loss: 0.6632 - acc: 0.5943\n",
      "Epoch 3/20\n",
      "63000/63000 [==============================] - 9s 140us/step - loss: 0.6607 - acc: 0.5947\n",
      "Epoch 4/20\n",
      "63000/63000 [==============================] - 9s 139us/step - loss: 0.6583 - acc: 0.5951\n",
      "Epoch 5/20\n",
      "63000/63000 [==============================] - 9s 139us/step - loss: 0.6551 - acc: 0.5974\n",
      "Epoch 6/20\n",
      "63000/63000 [==============================] - 9s 138us/step - loss: 0.6506 - acc: 0.6056\n",
      "Epoch 7/20\n",
      "63000/63000 [==============================] - 9s 137us/step - loss: 0.6438 - acc: 0.6239\n",
      "Epoch 8/20\n",
      "63000/63000 [==============================] - 9s 138us/step - loss: 0.6346 - acc: 0.6504\n",
      "Epoch 9/20\n",
      "63000/63000 [==============================] - 9s 138us/step - loss: 0.6244 - acc: 0.6762\n",
      "Epoch 10/20\n",
      "63000/63000 [==============================] - 9s 138us/step - loss: 0.6138 - acc: 0.6933\n",
      "Epoch 11/20\n",
      "63000/63000 [==============================] - 14s 222us/step - loss: 0.6057 - acc: 0.7046\n",
      "Epoch 12/20\n",
      "63000/63000 [==============================] - 9s 145us/step - loss: 0.5988 - acc: 0.7109\n",
      "Epoch 13/20\n",
      "63000/63000 [==============================] - 9s 142us/step - loss: 0.5932 - acc: 0.7135\n",
      "Epoch 14/20\n",
      "63000/63000 [==============================] - 9s 142us/step - loss: 0.5895 - acc: 0.7156\n",
      "Epoch 15/20\n",
      "63000/63000 [==============================] - 9s 143us/step - loss: 0.5868 - acc: 0.7170\n",
      "Epoch 16/20\n",
      "63000/63000 [==============================] - 9s 142us/step - loss: 0.5852 - acc: 0.7193\n",
      "Epoch 17/20\n",
      "63000/63000 [==============================] - 9s 142us/step - loss: 0.5832 - acc: 0.7198\n",
      "Epoch 18/20\n",
      "63000/63000 [==============================] - 9s 142us/step - loss: 0.5814 - acc: 0.7215\n",
      "Epoch 19/20\n",
      "63000/63000 [==============================] - 9s 141us/step - loss: 0.5809 - acc: 0.7208\n",
      "Epoch 20/20\n",
      "63000/63000 [==============================] - 9s 140us/step - loss: 0.5803 - acc: 0.7190\n",
      "acc: 72.13%\n",
      "Epoch 1/20\n",
      "63001/63001 [==============================] - 11s 182us/step - loss: 0.6697 - acc: 0.5836\n",
      "Epoch 2/20\n",
      "63001/63001 [==============================] - 9s 141us/step - loss: 0.6630 - acc: 0.5940\n",
      "Epoch 3/20\n",
      "63001/63001 [==============================] - 9s 137us/step - loss: 0.6601 - acc: 0.5952\n",
      "Epoch 4/20\n",
      "63001/63001 [==============================] - 9s 137us/step - loss: 0.6569 - acc: 0.5958\n",
      "Epoch 5/20\n",
      "63001/63001 [==============================] - 9s 137us/step - loss: 0.6518 - acc: 0.6047\n",
      "Epoch 6/20\n",
      "63001/63001 [==============================] - 9s 138us/step - loss: 0.6445 - acc: 0.6215\n",
      "Epoch 7/20\n",
      "63001/63001 [==============================] - 9s 138us/step - loss: 0.6339 - acc: 0.6547\n",
      "Epoch 8/20\n",
      "63001/63001 [==============================] - 9s 139us/step - loss: 0.6215 - acc: 0.6777\n",
      "Epoch 9/20\n",
      "63001/63001 [==============================] - 9s 138us/step - loss: 0.6107 - acc: 0.6958\n",
      "Epoch 10/20\n",
      "63001/63001 [==============================] - 9s 145us/step - loss: 0.6010 - acc: 0.7067\n",
      "Epoch 11/20\n",
      "63001/63001 [==============================] - 9s 139us/step - loss: 0.5950 - acc: 0.7094\n",
      "Epoch 12/20\n",
      "63001/63001 [==============================] - 9s 138us/step - loss: 0.5901 - acc: 0.7156\n",
      "Epoch 13/20\n",
      "63001/63001 [==============================] - 9s 141us/step - loss: 0.5872 - acc: 0.7169\n",
      "Epoch 14/20\n",
      "63001/63001 [==============================] - 9s 140us/step - loss: 0.5846 - acc: 0.7182\n",
      "Epoch 15/20\n",
      "63001/63001 [==============================] - 9s 138us/step - loss: 0.5836 - acc: 0.7175\n",
      "Epoch 16/20\n",
      "63001/63001 [==============================] - 9s 139us/step - loss: 0.5823 - acc: 0.7187\n",
      "Epoch 17/20\n",
      "63001/63001 [==============================] - 9s 138us/step - loss: 0.5828 - acc: 0.7176\n",
      "Epoch 18/20\n",
      "63001/63001 [==============================] - 9s 137us/step - loss: 0.5808 - acc: 0.7195\n",
      "Epoch 19/20\n",
      "63001/63001 [==============================] - 9s 137us/step - loss: 0.5810 - acc: 0.7197\n",
      "Epoch 20/20\n",
      "63001/63001 [==============================] - 9s 143us/step - loss: 0.5814 - acc: 0.7191\n",
      "acc: 72.01%\n",
      "Mean score: 72.22% (+/- 0.4383%)\n"
     ]
    }
   ],
   "source": [
    "obs = Observable.from_(kfold.split(X, y))\\\n",
    "  .map(partial(run_train, X, y))\\\n",
    "  .to_list()\\\n",
    "  .subscribe(lambda scores: print(f\"Mean score: {mean(scores):.4}% (+/- {stdev(scores):.4}%)\"))\n",
    "\n",
    "obs.dispose()"
   ]
  }
 ],
 "metadata": {
  "accelerator": "GPU",
  "colab": {
   "collapsed_sections": [],
   "name": "Data Analysis.ipynb",
   "provenance": [],
   "version": "0.3.2"
  },
  "kernelspec": {
   "display_name": "Python 3",
   "language": "python",
   "name": "python3"
  },
  "language_info": {
   "codemirror_mode": {
    "name": "ipython",
    "version": 3
   },
   "file_extension": ".py",
   "mimetype": "text/x-python",
   "name": "python",
   "nbconvert_exporter": "python",
   "pygments_lexer": "ipython3",
   "version": "3.7.3"
  }
 },
 "nbformat": 4,
 "nbformat_minor": 1
}
